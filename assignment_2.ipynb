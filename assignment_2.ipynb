{
 "cells": [
  {
   "cell_type": "markdown",
   "id": "3617ec65",
   "metadata": {},
   "source": [
    "# Tech Nest Academy Assignment - 2"
   ]
  },
  {
   "cell_type": "code",
   "execution_count": 2,
   "id": "4e92b250",
   "metadata": {},
   "outputs": [
    {
     "ename": "ModuleNotFoundError",
     "evalue": "No module named 'sql'",
     "output_type": "error",
     "traceback": [
      "\u001b[1;31m---------------------------------------------------------------------------\u001b[0m",
      "\u001b[1;31mModuleNotFoundError\u001b[0m                       Traceback (most recent call last)",
      "Cell \u001b[1;32mIn [2], line 1\u001b[0m\n\u001b[1;32m----> 1\u001b[0m \u001b[43mget_ipython\u001b[49m\u001b[43m(\u001b[49m\u001b[43m)\u001b[49m\u001b[38;5;241;43m.\u001b[39;49m\u001b[43mrun_line_magic\u001b[49m\u001b[43m(\u001b[49m\u001b[38;5;124;43m'\u001b[39;49m\u001b[38;5;124;43mload_ext\u001b[39;49m\u001b[38;5;124;43m'\u001b[39;49m\u001b[43m,\u001b[49m\u001b[43m \u001b[49m\u001b[38;5;124;43m'\u001b[39;49m\u001b[38;5;124;43msql\u001b[39;49m\u001b[38;5;124;43m'\u001b[39;49m\u001b[43m)\u001b[49m\n",
      "File \u001b[1;32m~\\AppData\\Roaming\\Python\\Python39\\site-packages\\IPython\\core\\interactiveshell.py:2309\u001b[0m, in \u001b[0;36mInteractiveShell.run_line_magic\u001b[1;34m(self, magic_name, line, _stack_depth)\u001b[0m\n\u001b[0;32m   2307\u001b[0m     kwargs[\u001b[39m'\u001b[39m\u001b[39mlocal_ns\u001b[39m\u001b[39m'\u001b[39m] \u001b[39m=\u001b[39m \u001b[39mself\u001b[39m\u001b[39m.\u001b[39mget_local_scope(stack_depth)\n\u001b[0;32m   2308\u001b[0m \u001b[39mwith\u001b[39;00m \u001b[39mself\u001b[39m\u001b[39m.\u001b[39mbuiltin_trap:\n\u001b[1;32m-> 2309\u001b[0m     result \u001b[39m=\u001b[39m fn(\u001b[39m*\u001b[39margs, \u001b[39m*\u001b[39m\u001b[39m*\u001b[39mkwargs)\n\u001b[0;32m   2310\u001b[0m \u001b[39mreturn\u001b[39;00m result\n",
      "File \u001b[1;32m~\\AppData\\Roaming\\Python\\Python39\\site-packages\\IPython\\core\\magics\\extension.py:33\u001b[0m, in \u001b[0;36mExtensionMagics.load_ext\u001b[1;34m(self, module_str)\u001b[0m\n\u001b[0;32m     31\u001b[0m \u001b[39mif\u001b[39;00m \u001b[39mnot\u001b[39;00m module_str:\n\u001b[0;32m     32\u001b[0m     \u001b[39mraise\u001b[39;00m UsageError(\u001b[39m'\u001b[39m\u001b[39mMissing module name.\u001b[39m\u001b[39m'\u001b[39m)\n\u001b[1;32m---> 33\u001b[0m res \u001b[39m=\u001b[39m \u001b[39mself\u001b[39;49m\u001b[39m.\u001b[39;49mshell\u001b[39m.\u001b[39;49mextension_manager\u001b[39m.\u001b[39;49mload_extension(module_str)\n\u001b[0;32m     35\u001b[0m \u001b[39mif\u001b[39;00m res \u001b[39m==\u001b[39m \u001b[39m'\u001b[39m\u001b[39malready loaded\u001b[39m\u001b[39m'\u001b[39m:\n\u001b[0;32m     36\u001b[0m     \u001b[39mprint\u001b[39m(\u001b[39m\"\u001b[39m\u001b[39mThe \u001b[39m\u001b[39m%s\u001b[39;00m\u001b[39m extension is already loaded. To reload it, use:\u001b[39m\u001b[39m\"\u001b[39m \u001b[39m%\u001b[39m module_str)\n",
      "File \u001b[1;32m~\\AppData\\Roaming\\Python\\Python39\\site-packages\\IPython\\core\\extensions.py:76\u001b[0m, in \u001b[0;36mExtensionManager.load_extension\u001b[1;34m(self, module_str)\u001b[0m\n\u001b[0;32m     69\u001b[0m \u001b[39m\"\"\"Load an IPython extension by its module name.\u001b[39;00m\n\u001b[0;32m     70\u001b[0m \n\u001b[0;32m     71\u001b[0m \u001b[39mReturns the string \"already loaded\" if the extension is already loaded,\u001b[39;00m\n\u001b[0;32m     72\u001b[0m \u001b[39m\"no load function\" if the module doesn't have a load_ipython_extension\u001b[39;00m\n\u001b[0;32m     73\u001b[0m \u001b[39mfunction, or None if it succeeded.\u001b[39;00m\n\u001b[0;32m     74\u001b[0m \u001b[39m\"\"\"\u001b[39;00m\n\u001b[0;32m     75\u001b[0m \u001b[39mtry\u001b[39;00m:\n\u001b[1;32m---> 76\u001b[0m     \u001b[39mreturn\u001b[39;00m \u001b[39mself\u001b[39;49m\u001b[39m.\u001b[39;49m_load_extension(module_str)\n\u001b[0;32m     77\u001b[0m \u001b[39mexcept\u001b[39;00m \u001b[39mModuleNotFoundError\u001b[39;00m:\n\u001b[0;32m     78\u001b[0m     \u001b[39mif\u001b[39;00m module_str \u001b[39min\u001b[39;00m BUILTINS_EXTS:\n",
      "File \u001b[1;32m~\\AppData\\Roaming\\Python\\Python39\\site-packages\\IPython\\core\\extensions.py:92\u001b[0m, in \u001b[0;36mExtensionManager._load_extension\u001b[1;34m(self, module_str)\u001b[0m\n\u001b[0;32m     90\u001b[0m \u001b[39mif\u001b[39;00m module_str \u001b[39mnot\u001b[39;00m \u001b[39min\u001b[39;00m sys\u001b[39m.\u001b[39mmodules:\n\u001b[0;32m     91\u001b[0m     \u001b[39mwith\u001b[39;00m prepended_to_syspath(\u001b[39mself\u001b[39m\u001b[39m.\u001b[39mipython_extension_dir):\n\u001b[1;32m---> 92\u001b[0m         mod \u001b[39m=\u001b[39m import_module(module_str)\n\u001b[0;32m     93\u001b[0m         \u001b[39mif\u001b[39;00m mod\u001b[39m.\u001b[39m\u001b[39m__file__\u001b[39m\u001b[39m.\u001b[39mstartswith(\u001b[39mself\u001b[39m\u001b[39m.\u001b[39mipython_extension_dir):\n\u001b[0;32m     94\u001b[0m             \u001b[39mprint\u001b[39m((\u001b[39m\"\u001b[39m\u001b[39mLoading extensions from \u001b[39m\u001b[39m{dir}\u001b[39;00m\u001b[39m is deprecated. \u001b[39m\u001b[39m\"\u001b[39m\n\u001b[0;32m     95\u001b[0m                    \u001b[39m\"\u001b[39m\u001b[39mWe recommend managing extensions like any \u001b[39m\u001b[39m\"\u001b[39m\n\u001b[0;32m     96\u001b[0m                    \u001b[39m\"\u001b[39m\u001b[39mother Python packages, in site-packages.\u001b[39m\u001b[39m\"\u001b[39m)\u001b[39m.\u001b[39mformat(\n\u001b[0;32m     97\u001b[0m                   \u001b[39mdir\u001b[39m\u001b[39m=\u001b[39mcompress_user(\u001b[39mself\u001b[39m\u001b[39m.\u001b[39mipython_extension_dir)))\n",
      "File \u001b[1;32mc:\\Users\\bot5294\\AppData\\Local\\Programs\\Python\\Python39\\lib\\importlib\\__init__.py:127\u001b[0m, in \u001b[0;36mimport_module\u001b[1;34m(name, package)\u001b[0m\n\u001b[0;32m    125\u001b[0m             \u001b[39mbreak\u001b[39;00m\n\u001b[0;32m    126\u001b[0m         level \u001b[39m+\u001b[39m\u001b[39m=\u001b[39m \u001b[39m1\u001b[39m\n\u001b[1;32m--> 127\u001b[0m \u001b[39mreturn\u001b[39;00m _bootstrap\u001b[39m.\u001b[39;49m_gcd_import(name[level:], package, level)\n",
      "File \u001b[1;32m<frozen importlib._bootstrap>:1030\u001b[0m, in \u001b[0;36m_gcd_import\u001b[1;34m(name, package, level)\u001b[0m\n",
      "File \u001b[1;32m<frozen importlib._bootstrap>:1007\u001b[0m, in \u001b[0;36m_find_and_load\u001b[1;34m(name, import_)\u001b[0m\n",
      "File \u001b[1;32m<frozen importlib._bootstrap>:984\u001b[0m, in \u001b[0;36m_find_and_load_unlocked\u001b[1;34m(name, import_)\u001b[0m\n",
      "\u001b[1;31mModuleNotFoundError\u001b[0m: No module named 'sql'"
     ]
    }
   ],
   "source": [
    "%load_ext sql"
   ]
  },
  {
   "cell_type": "code",
   "execution_count": 2,
   "id": "54928b0b",
   "metadata": {},
   "outputs": [],
   "source": [
    "%sql sqlite://"
   ]
  },
  {
   "cell_type": "markdown",
   "id": "f5e2fa51",
   "metadata": {},
   "source": [
    "## Q1. Write an SQL query to display the countries in \n",
    "## a)Ascending order\n",
    "## b)Descending order\n",
    "***CREATE TABLE COUNTRY(NAME VARCHAR2(30));<br>\n",
    "INSERT INTO COUNTRY VALUES('INDIA');<br>\n",
    "INSERT INTO COUNTRY VALUES('INDONESIA');<br>\n",
    "INSERT INTO COUNTRY VALUES('NEPAL');<br>\n",
    "INSERT INTO COUNTRY VALUES('CHINA');<br>\n",
    "INSERT INTO COUNTRY VALUES('PAKISTAN');<br>\n",
    "INSERT INTO COUNTRY VALUES('SRI LANKA');<br>\n",
    "INSERT INTO COUNTRY VALUES('SINGAPORE');<br>\n",
    "INSERT INTO COUNTRY VALUES('AFGHANISTAN');<br>\n",
    "INSERT INTO COUNTRY VALUES('UNITED KINGDOM');<br>\n",
    "INSERT INTO COUNTRY VALUES('RUSSIA');***"
   ]
  },
  {
   "cell_type": "code",
   "execution_count": 6,
   "id": "accf4cf0",
   "metadata": {},
   "outputs": [
    {
     "name": "stdout",
     "output_type": "stream",
     "text": [
      " * sqlite://\n",
      "Done.\n",
      "1 rows affected.\n",
      "1 rows affected.\n",
      "1 rows affected.\n",
      "1 rows affected.\n",
      "1 rows affected.\n",
      "1 rows affected.\n",
      "1 rows affected.\n",
      "1 rows affected.\n",
      "1 rows affected.\n",
      "1 rows affected.\n"
     ]
    },
    {
     "data": {
      "text/plain": [
       "[]"
      ]
     },
     "execution_count": 6,
     "metadata": {},
     "output_type": "execute_result"
    }
   ],
   "source": [
    "%sql CREATE TABLE COUNTRY(NAME VARCHAR2(30));INSERT INTO COUNTRY VALUES('INDIA');INSERT INTO COUNTRY VALUES('INDONESIA');INSERT INTO COUNTRY VALUES('NEPAL');INSERT INTO COUNTRY VALUES('CHINA');INSERT INTO COUNTRY VALUES('PAKISTAN');INSERT INTO COUNTRY VALUES('SRI LANKA');INSERT INTO COUNTRY VALUES('SINGAPORE');INSERT INTO COUNTRY VALUES('AFGHANISTAN');INSERT INTO COUNTRY VALUES('UNITED KINGDOM');INSERT INTO COUNTRY VALUES('RUSSIA');"
   ]
  },
  {
   "cell_type": "code",
   "execution_count": 7,
   "id": "64d81a0a",
   "metadata": {},
   "outputs": [
    {
     "name": "stdout",
     "output_type": "stream",
     "text": [
      " * sqlite://\n",
      "Done.\n"
     ]
    },
    {
     "data": {
      "text/html": [
       "<table>\n",
       "    <tr>\n",
       "        <th>NAME</th>\n",
       "    </tr>\n",
       "    <tr>\n",
       "        <td>INDIA</td>\n",
       "    </tr>\n",
       "    <tr>\n",
       "        <td>INDONESIA</td>\n",
       "    </tr>\n",
       "    <tr>\n",
       "        <td>NEPAL</td>\n",
       "    </tr>\n",
       "    <tr>\n",
       "        <td>CHINA</td>\n",
       "    </tr>\n",
       "    <tr>\n",
       "        <td>PAKISTAN</td>\n",
       "    </tr>\n",
       "    <tr>\n",
       "        <td>SRI LANKA</td>\n",
       "    </tr>\n",
       "    <tr>\n",
       "        <td>SINGAPORE</td>\n",
       "    </tr>\n",
       "    <tr>\n",
       "        <td>AFGHANISTAN</td>\n",
       "    </tr>\n",
       "    <tr>\n",
       "        <td>UNITED KINGDOM</td>\n",
       "    </tr>\n",
       "    <tr>\n",
       "        <td>RUSSIA</td>\n",
       "    </tr>\n",
       "</table>"
      ],
      "text/plain": [
       "[('INDIA',),\n",
       " ('INDONESIA',),\n",
       " ('NEPAL',),\n",
       " ('CHINA',),\n",
       " ('PAKISTAN',),\n",
       " ('SRI LANKA',),\n",
       " ('SINGAPORE',),\n",
       " ('AFGHANISTAN',),\n",
       " ('UNITED KINGDOM',),\n",
       " ('RUSSIA',)]"
      ]
     },
     "execution_count": 7,
     "metadata": {},
     "output_type": "execute_result"
    }
   ],
   "source": [
    "%sql select * from country;"
   ]
  },
  {
   "cell_type": "code",
   "execution_count": 11,
   "id": "3e5eca41",
   "metadata": {},
   "outputs": [
    {
     "name": "stdout",
     "output_type": "stream",
     "text": [
      " * sqlite://\n",
      "Done.\n"
     ]
    },
    {
     "data": {
      "text/html": [
       "<table>\n",
       "    <tr>\n",
       "        <th>NAME</th>\n",
       "    </tr>\n",
       "    <tr>\n",
       "        <td>AFGHANISTAN</td>\n",
       "    </tr>\n",
       "    <tr>\n",
       "        <td>CHINA</td>\n",
       "    </tr>\n",
       "    <tr>\n",
       "        <td>INDIA</td>\n",
       "    </tr>\n",
       "    <tr>\n",
       "        <td>INDONESIA</td>\n",
       "    </tr>\n",
       "    <tr>\n",
       "        <td>NEPAL</td>\n",
       "    </tr>\n",
       "    <tr>\n",
       "        <td>PAKISTAN</td>\n",
       "    </tr>\n",
       "    <tr>\n",
       "        <td>RUSSIA</td>\n",
       "    </tr>\n",
       "    <tr>\n",
       "        <td>SINGAPORE</td>\n",
       "    </tr>\n",
       "    <tr>\n",
       "        <td>SRI LANKA</td>\n",
       "    </tr>\n",
       "    <tr>\n",
       "        <td>UNITED KINGDOM</td>\n",
       "    </tr>\n",
       "</table>"
      ],
      "text/plain": [
       "[('AFGHANISTAN',),\n",
       " ('CHINA',),\n",
       " ('INDIA',),\n",
       " ('INDONESIA',),\n",
       " ('NEPAL',),\n",
       " ('PAKISTAN',),\n",
       " ('RUSSIA',),\n",
       " ('SINGAPORE',),\n",
       " ('SRI LANKA',),\n",
       " ('UNITED KINGDOM',)]"
      ]
     },
     "execution_count": 11,
     "metadata": {},
     "output_type": "execute_result"
    }
   ],
   "source": [
    "### solution\n",
    "\n",
    "## (a)\n",
    "%sql select * from country order by name asc;"
   ]
  },
  {
   "cell_type": "code",
   "execution_count": 12,
   "id": "2247120c",
   "metadata": {},
   "outputs": [
    {
     "name": "stdout",
     "output_type": "stream",
     "text": [
      " * sqlite://\n",
      "Done.\n"
     ]
    },
    {
     "data": {
      "text/html": [
       "<table>\n",
       "    <tr>\n",
       "        <th>NAME</th>\n",
       "    </tr>\n",
       "    <tr>\n",
       "        <td>UNITED KINGDOM</td>\n",
       "    </tr>\n",
       "    <tr>\n",
       "        <td>SRI LANKA</td>\n",
       "    </tr>\n",
       "    <tr>\n",
       "        <td>SINGAPORE</td>\n",
       "    </tr>\n",
       "    <tr>\n",
       "        <td>RUSSIA</td>\n",
       "    </tr>\n",
       "    <tr>\n",
       "        <td>PAKISTAN</td>\n",
       "    </tr>\n",
       "    <tr>\n",
       "        <td>NEPAL</td>\n",
       "    </tr>\n",
       "    <tr>\n",
       "        <td>INDONESIA</td>\n",
       "    </tr>\n",
       "    <tr>\n",
       "        <td>INDIA</td>\n",
       "    </tr>\n",
       "    <tr>\n",
       "        <td>CHINA</td>\n",
       "    </tr>\n",
       "    <tr>\n",
       "        <td>AFGHANISTAN</td>\n",
       "    </tr>\n",
       "</table>"
      ],
      "text/plain": [
       "[('UNITED KINGDOM',),\n",
       " ('SRI LANKA',),\n",
       " ('SINGAPORE',),\n",
       " ('RUSSIA',),\n",
       " ('PAKISTAN',),\n",
       " ('NEPAL',),\n",
       " ('INDONESIA',),\n",
       " ('INDIA',),\n",
       " ('CHINA',),\n",
       " ('AFGHANISTAN',)]"
      ]
     },
     "execution_count": 12,
     "metadata": {},
     "output_type": "execute_result"
    }
   ],
   "source": [
    "## (b)\n",
    "%sql select * from country order by name desc;"
   ]
  },
  {
   "cell_type": "code",
   "execution_count": 19,
   "id": "dee2d863",
   "metadata": {},
   "outputs": [
    {
     "name": "stdout",
     "output_type": "stream",
     "text": [
      " * sqlite://\n",
      "Done.\n"
     ]
    },
    {
     "data": {
      "text/plain": [
       "[]"
      ]
     },
     "execution_count": 19,
     "metadata": {},
     "output_type": "execute_result"
    }
   ],
   "source": [
    "%sql drop table country;"
   ]
  },
  {
   "cell_type": "markdown",
   "id": "35f863d7",
   "metadata": {},
   "source": [
    "## Q2. Write an SQL query to display 'INDIA' at top and other countries in ascending order\n",
    "## without hardcoding any integer/number/alphabet/string other than country name.<br>\n",
    "\n",
    "***CREATE TABLE COUNTRY(NAME VARCHAR2(30));<br>\n",
    "INSERT INTO COUNTRY VALUES('INDIA');<br>\n",
    "INSERT INTO COUNTRY VALUES('INDONESIA');<br>\n",
    "INSERT INTO COUNTRY VALUES('NEPAL');<br>\n",
    "INSERT INTO COUNTRY VALUES('CHINA');<br>\n",
    "INSERT INTO COUNTRY VALUES('PAKISTAN');<br>\n",
    "INSERT INTO COUNTRY VALUES('SRI LANKA');<br>\n",
    "INSERT INTO COUNTRY VALUES('SINGAPORE');<br>\n",
    "INSERT INTO COUNTRY VALUES('AFGHANISTAN');<br>\n",
    "INSERT INTO COUNTRY VALUES('UNITED KINGDOM');<br>\n",
    "INSERT INTO COUNTRY VALUES('RUSSIA');***"
   ]
  },
  {
   "cell_type": "code",
   "execution_count": 20,
   "id": "ee7611dd",
   "metadata": {},
   "outputs": [
    {
     "name": "stdout",
     "output_type": "stream",
     "text": [
      " * sqlite://\n",
      "Done.\n",
      "1 rows affected.\n",
      "1 rows affected.\n",
      "1 rows affected.\n",
      "1 rows affected.\n",
      "1 rows affected.\n",
      "1 rows affected.\n",
      "1 rows affected.\n",
      "1 rows affected.\n",
      "1 rows affected.\n",
      "1 rows affected.\n"
     ]
    },
    {
     "data": {
      "text/plain": [
       "[]"
      ]
     },
     "execution_count": 20,
     "metadata": {},
     "output_type": "execute_result"
    }
   ],
   "source": [
    "### creating table\n",
    "%sql CREATE TABLE COUNTRY(NAME VARCHAR2(30));INSERT INTO COUNTRY VALUES('INDIA');INSERT INTO COUNTRY VALUES('INDONESIA');INSERT INTO COUNTRY VALUES('NEPAL');INSERT INTO COUNTRY VALUES('CHINA');INSERT INTO COUNTRY VALUES('PAKISTAN');INSERT INTO COUNTRY VALUES('SRI LANKA');INSERT INTO COUNTRY VALUES('SINGAPORE');INSERT INTO COUNTRY VALUES('AFGHANISTAN');INSERT INTO COUNTRY VALUES('UNITED KINGDOM');INSERT INTO COUNTRY VALUES('RUSSIA');"
   ]
  },
  {
   "cell_type": "code",
   "execution_count": 23,
   "id": "4c5f5ec2",
   "metadata": {},
   "outputs": [
    {
     "name": "stdout",
     "output_type": "stream",
     "text": [
      " * sqlite://\n",
      "Done.\n"
     ]
    },
    {
     "data": {
      "text/html": [
       "<table>\n",
       "    <tr>\n",
       "        <th>NAME</th>\n",
       "    </tr>\n",
       "    <tr>\n",
       "        <td>INDIA</td>\n",
       "    </tr>\n",
       "    <tr>\n",
       "        <td>INDONESIA</td>\n",
       "    </tr>\n",
       "    <tr>\n",
       "        <td>NEPAL</td>\n",
       "    </tr>\n",
       "    <tr>\n",
       "        <td>CHINA</td>\n",
       "    </tr>\n",
       "    <tr>\n",
       "        <td>PAKISTAN</td>\n",
       "    </tr>\n",
       "    <tr>\n",
       "        <td>SRI LANKA</td>\n",
       "    </tr>\n",
       "    <tr>\n",
       "        <td>SINGAPORE</td>\n",
       "    </tr>\n",
       "    <tr>\n",
       "        <td>AFGHANISTAN</td>\n",
       "    </tr>\n",
       "    <tr>\n",
       "        <td>UNITED KINGDOM</td>\n",
       "    </tr>\n",
       "    <tr>\n",
       "        <td>RUSSIA</td>\n",
       "    </tr>\n",
       "</table>"
      ],
      "text/plain": [
       "[('INDIA',),\n",
       " ('INDONESIA',),\n",
       " ('NEPAL',),\n",
       " ('CHINA',),\n",
       " ('PAKISTAN',),\n",
       " ('SRI LANKA',),\n",
       " ('SINGAPORE',),\n",
       " ('AFGHANISTAN',),\n",
       " ('UNITED KINGDOM',),\n",
       " ('RUSSIA',)]"
      ]
     },
     "execution_count": 23,
     "metadata": {},
     "output_type": "execute_result"
    }
   ],
   "source": [
    "%sql select * from country;"
   ]
  },
  {
   "cell_type": "markdown",
   "id": "1cdb35bf",
   "metadata": {},
   "source": [
    "## Solution\n"
   ]
  },
  {
   "cell_type": "code",
   "execution_count": 1,
   "id": "d788c19e",
   "metadata": {},
   "outputs": [
    {
     "name": "stderr",
     "output_type": "stream",
     "text": [
      "UsageError: Line magic function `%sql` not found.\n"
     ]
    }
   ],
   "source": [
    "%sql select * from country order by case when name = 'INDIA' then ' ' else 2 end,name asc;\n",
    "\n",
    "# only works on oracle sql server"
   ]
  },
  {
   "cell_type": "markdown",
   "id": "af499d1b",
   "metadata": {},
   "source": [
    "# Q3. which of the following statement is/are correct for the below query?\n",
    "***select name from country<br>\n",
    "order by <br>\n",
    "case when name = 'INDIA' then 'a' else 'A' end,name desc;<br>\n",
    "<br>\n",
    "a)Throw error message<br>\n",
    "b)INDIA will be displayed at last and remaining countries at top<br>\n",
    "c)INDIA will be displayed at top and other remaining countries at bottom/last.<br>\n",
    "d)Country names will be displayed but in random order.<br>***\n"
   ]
  },
  {
   "cell_type": "code",
   "execution_count": 33,
   "id": "bb949bf4",
   "metadata": {},
   "outputs": [
    {
     "name": "stdout",
     "output_type": "stream",
     "text": [
      " * sqlite://\n",
      "Done.\n"
     ]
    },
    {
     "data": {
      "text/html": [
       "<table>\n",
       "    <tr>\n",
       "        <th>NAME</th>\n",
       "    </tr>\n",
       "    <tr>\n",
       "        <td>UNITED KINGDOM</td>\n",
       "    </tr>\n",
       "    <tr>\n",
       "        <td>SRI LANKA</td>\n",
       "    </tr>\n",
       "    <tr>\n",
       "        <td>SINGAPORE</td>\n",
       "    </tr>\n",
       "    <tr>\n",
       "        <td>RUSSIA</td>\n",
       "    </tr>\n",
       "    <tr>\n",
       "        <td>PAKISTAN</td>\n",
       "    </tr>\n",
       "    <tr>\n",
       "        <td>NEPAL</td>\n",
       "    </tr>\n",
       "    <tr>\n",
       "        <td>INDONESIA</td>\n",
       "    </tr>\n",
       "    <tr>\n",
       "        <td>CHINA</td>\n",
       "    </tr>\n",
       "    <tr>\n",
       "        <td>AFGHANISTAN</td>\n",
       "    </tr>\n",
       "    <tr>\n",
       "        <td>INDIA</td>\n",
       "    </tr>\n",
       "</table>"
      ],
      "text/plain": [
       "[('UNITED KINGDOM',),\n",
       " ('SRI LANKA',),\n",
       " ('SINGAPORE',),\n",
       " ('RUSSIA',),\n",
       " ('PAKISTAN',),\n",
       " ('NEPAL',),\n",
       " ('INDONESIA',),\n",
       " ('CHINA',),\n",
       " ('AFGHANISTAN',),\n",
       " ('INDIA',)]"
      ]
     },
     "execution_count": 33,
     "metadata": {},
     "output_type": "execute_result"
    }
   ],
   "source": [
    "# Solution\n",
    "# (b)\n",
    "%sql select name from country order by case when name = 'INDIA' then 'a' else 'A' end,name desc;"
   ]
  },
  {
   "cell_type": "code",
   "execution_count": 34,
   "id": "0f53043b",
   "metadata": {},
   "outputs": [
    {
     "name": "stdout",
     "output_type": "stream",
     "text": [
      " * sqlite://\n",
      "Done.\n"
     ]
    },
    {
     "data": {
      "text/plain": [
       "[]"
      ]
     },
     "execution_count": 34,
     "metadata": {},
     "output_type": "execute_result"
    }
   ],
   "source": [
    "%sql drop table country;"
   ]
  },
  {
   "cell_type": "markdown",
   "id": "867e9e28",
   "metadata": {},
   "source": [
    "# Q4. What should be the output of below query?\n",
    "***select name from country<br>\n",
    "order by <br>\n",
    "case when name = 'INDIA' then 1 else 1 end,name;<br>\n",
    "<br>\n",
    "CREATE TABLE COUNTRY(NAME VARCHAR2(10));<br>\n",
    "INSERT INTO COUNTRY VALUES('INDIA');<br>\n",
    "INSERT INTO COUNTRY VALUES('NEPAL');<br>\n",
    "INSERT INTO COUNTRY VALUES('CHINA');<br>\n",
    "INSERT INTO COUNTRY VALUES('PAKISTAN');<br>\n",
    "INSERT INTO COUNTRY VALUES('SRI LANKA');<br>\n",
    "INSERT INTO COUNTRY VALUES('AFGHANISTAN');<br>\n",
    "INSERT INTO COUNTRY VALUES('UNITED KINGDOM');<br>\n",
    "INSERT INTO COUNTRY VALUES('RUSSIA');<br>***\n",
    "***"
   ]
  },
  {
   "cell_type": "code",
   "execution_count": 36,
   "id": "24f478e6",
   "metadata": {},
   "outputs": [
    {
     "name": "stdout",
     "output_type": "stream",
     "text": [
      " * sqlite://\n",
      "Done.\n"
     ]
    },
    {
     "data": {
      "text/html": [
       "<table>\n",
       "    <tr>\n",
       "        <th>NAME</th>\n",
       "    </tr>\n",
       "    <tr>\n",
       "        <td>AFGHANISTAN</td>\n",
       "    </tr>\n",
       "    <tr>\n",
       "        <td>CHINA</td>\n",
       "    </tr>\n",
       "    <tr>\n",
       "        <td>INDIA</td>\n",
       "    </tr>\n",
       "    <tr>\n",
       "        <td>NEPAL</td>\n",
       "    </tr>\n",
       "    <tr>\n",
       "        <td>PAKISTAN</td>\n",
       "    </tr>\n",
       "    <tr>\n",
       "        <td>RUSSIA</td>\n",
       "    </tr>\n",
       "    <tr>\n",
       "        <td>SRI LANKA</td>\n",
       "    </tr>\n",
       "    <tr>\n",
       "        <td>UNITED KINGDOM</td>\n",
       "    </tr>\n",
       "</table>"
      ],
      "text/plain": [
       "[('AFGHANISTAN',),\n",
       " ('CHINA',),\n",
       " ('INDIA',),\n",
       " ('NEPAL',),\n",
       " ('PAKISTAN',),\n",
       " ('RUSSIA',),\n",
       " ('SRI LANKA',),\n",
       " ('UNITED KINGDOM',)]"
      ]
     },
     "execution_count": 36,
     "metadata": {},
     "output_type": "execute_result"
    }
   ],
   "source": [
    "# solution\n",
    "\n",
    "%sql CREATE TABLE COUNTRY(NAME VARCHAR2(10));INSERT INTO COUNTRY VALUES('INDIA');INSERT INTO COUNTRY VALUES('NEPAL');INSERT INTO COUNTRY VALUES('CHINA');INSERT INTO COUNTRY VALUES('PAKISTAN');INSERT INTO COUNTRY VALUES('SRI LANKA');INSERT INTO COUNTRY VALUES('AFGHANISTAN');INSERT INTO COUNTRY VALUES('UNITED KINGDOM');INSERT INTO COUNTRY VALUES('RUSSIA');\n",
    "\n",
    "%sql select name from country order by case when name = 'INDIA' then 1 else 1 end,name;\n"
   ]
  },
  {
   "cell_type": "code",
   "execution_count": 37,
   "id": "450ebce9",
   "metadata": {},
   "outputs": [
    {
     "name": "stdout",
     "output_type": "stream",
     "text": [
      " * sqlite://\n",
      "Done.\n"
     ]
    },
    {
     "data": {
      "text/plain": [
       "[]"
      ]
     },
     "execution_count": 37,
     "metadata": {},
     "output_type": "execute_result"
    }
   ],
   "source": [
    "%sql drop table country;"
   ]
  },
  {
   "cell_type": "markdown",
   "id": "c1a78c3b",
   "metadata": {},
   "source": [
    "# Q5.Write an SQL query to dispay INDIA at last and all other countries sorted in ascending order.\n",
    "***CREATE TABLE COUNTRY(NAME VARCHAR2(10));<br>\n",
    "INSERT INTO COUNTRY VALUES('INDIA');<br>\n",
    "INSERT INTO COUNTRY VALUES('NEPAL');<br>\n",
    "INSERT INTO COUNTRY VALUES('CHINA');<br>\n",
    "INSERT INTO COUNTRY VALUES('PAKISTAN');<br>\n",
    "INSERT INTO COUNTRY VALUES('SRI LANKA');<br>\n",
    "INSERT INTO COUNTRY VALUES('AFGHANISTAN');<br>\n",
    "INSERT INTO COUNTRY VALUES('UNITED KINGDOM');<br>\n",
    "INSERT INTO COUNTRY VALUES('RUSSIA');***\n"
   ]
  },
  {
   "cell_type": "code",
   "execution_count": 38,
   "id": "f9ebcbcb",
   "metadata": {},
   "outputs": [
    {
     "name": "stdout",
     "output_type": "stream",
     "text": [
      " * sqlite://\n",
      "Done.\n",
      "1 rows affected.\n",
      "1 rows affected.\n",
      "1 rows affected.\n",
      "1 rows affected.\n",
      "1 rows affected.\n",
      "1 rows affected.\n",
      "1 rows affected.\n",
      "1 rows affected.\n",
      " * sqlite://\n",
      "Done.\n"
     ]
    },
    {
     "data": {
      "text/html": [
       "<table>\n",
       "    <tr>\n",
       "        <th>NAME</th>\n",
       "    </tr>\n",
       "    <tr>\n",
       "        <td>AFGHANISTAN</td>\n",
       "    </tr>\n",
       "    <tr>\n",
       "        <td>CHINA</td>\n",
       "    </tr>\n",
       "    <tr>\n",
       "        <td>NEPAL</td>\n",
       "    </tr>\n",
       "    <tr>\n",
       "        <td>PAKISTAN</td>\n",
       "    </tr>\n",
       "    <tr>\n",
       "        <td>RUSSIA</td>\n",
       "    </tr>\n",
       "    <tr>\n",
       "        <td>SRI LANKA</td>\n",
       "    </tr>\n",
       "    <tr>\n",
       "        <td>UNITED KINGDOM</td>\n",
       "    </tr>\n",
       "    <tr>\n",
       "        <td>INDIA</td>\n",
       "    </tr>\n",
       "</table>"
      ],
      "text/plain": [
       "[('AFGHANISTAN',),\n",
       " ('CHINA',),\n",
       " ('NEPAL',),\n",
       " ('PAKISTAN',),\n",
       " ('RUSSIA',),\n",
       " ('SRI LANKA',),\n",
       " ('UNITED KINGDOM',),\n",
       " ('INDIA',)]"
      ]
     },
     "execution_count": 38,
     "metadata": {},
     "output_type": "execute_result"
    }
   ],
   "source": [
    "#solution\n",
    "\n",
    "%sql CREATE TABLE COUNTRY(NAME VARCHAR2(10));INSERT INTO COUNTRY VALUES('INDIA');INSERT INTO COUNTRY VALUES('NEPAL');INSERT INTO COUNTRY VALUES('CHINA');INSERT INTO COUNTRY VALUES('PAKISTAN');INSERT INTO COUNTRY VALUES('SRI LANKA');INSERT INTO COUNTRY VALUES('AFGHANISTAN');INSERT INTO COUNTRY VALUES('UNITED KINGDOM');INSERT INTO COUNTRY VALUES('RUSSIA');\n",
    "\n",
    "%sql select name from country order by case when name = 'INDIA' then 2 else 1 end,name asc;                                                                                                       "
   ]
  },
  {
   "cell_type": "code",
   "execution_count": 39,
   "id": "128f0c1f",
   "metadata": {},
   "outputs": [
    {
     "name": "stdout",
     "output_type": "stream",
     "text": [
      " * sqlite://\n",
      "Done.\n"
     ]
    },
    {
     "data": {
      "text/plain": [
       "[]"
      ]
     },
     "execution_count": 39,
     "metadata": {},
     "output_type": "execute_result"
    }
   ],
   "source": [
    "%sql drop table country;"
   ]
  },
  {
   "cell_type": "markdown",
   "id": "01e49270",
   "metadata": {},
   "source": [
    "# Q6.Write an SQL query to display the country name in below order.\n",
    "<br>\n",
    "CREATE TABLE COUNTRY(NAME VARCHAR2(10));<br>\n",
    "INSERT INTO COUNTRY VALUES('INDIA');<br>\n",
    "INSERT INTO COUNTRY VALUES('NEPAL');<br>\n",
    "INSERT INTO COUNTRY VALUES('CHINA');<br>\n",
    "INSERT INTO COUNTRY VALUES('PAKISTAN');<br>\n",
    "INSERT INTO COUNTRY VALUES('SRI LANKA');<br>\n",
    "INSERT INTO COUNTRY VALUES('RUSSIA');<br>\n",
    "<br>\n",
    "\n",
    "***O/p:<br>\n",
    "NAME<br>\n",
    "INDIA<br>\n",
    "RUSSIA<br>\n",
    "SRI LANKA<br>\n",
    "PAKISTAN<br>\n",
    "NEPAL<br>\n",
    "CHINA<br>***\n"
   ]
  },
  {
   "cell_type": "code",
   "execution_count": 59,
   "id": "dc86c909",
   "metadata": {},
   "outputs": [
    {
     "name": "stdout",
     "output_type": "stream",
     "text": [
      " * sqlite://\n",
      "Done.\n"
     ]
    },
    {
     "data": {
      "text/html": [
       "<table>\n",
       "    <tr>\n",
       "        <th>NAME</th>\n",
       "    </tr>\n",
       "    <tr>\n",
       "        <td>INDIA</td>\n",
       "    </tr>\n",
       "    <tr>\n",
       "        <td>RUSSIA</td>\n",
       "    </tr>\n",
       "    <tr>\n",
       "        <td>SRI LANKA</td>\n",
       "    </tr>\n",
       "    <tr>\n",
       "        <td>PAKISTAN</td>\n",
       "    </tr>\n",
       "    <tr>\n",
       "        <td>NEPAL</td>\n",
       "    </tr>\n",
       "    <tr>\n",
       "        <td>CHINA</td>\n",
       "    </tr>\n",
       "</table>"
      ],
      "text/plain": [
       "[('INDIA',),\n",
       " ('RUSSIA',),\n",
       " ('SRI LANKA',),\n",
       " ('PAKISTAN',),\n",
       " ('NEPAL',),\n",
       " ('CHINA',)]"
      ]
     },
     "execution_count": 59,
     "metadata": {},
     "output_type": "execute_result"
    }
   ],
   "source": [
    "# solution\n",
    "\n",
    "%sql CREATE TABLE COUNTRY(NAME VARCHAR2(10));INSERT INTO COUNTRY VALUES('INDIA');INSERT INTO COUNTRY VALUES('NEPAL');INSERT INTO COUNTRY VALUES('CHINA');INSERT INTO COUNTRY VALUES('PAKISTAN');INSERT INTO COUNTRY VALUES('SRI LANKA');INSERT INTO COUNTRY VALUES('RUSSIA');\n",
    "\n",
    "%sql select name from country order by case when name ='INDIA'then 1 when name = 'RUSSIA' then 2 else 3 end,name desc; "
   ]
  },
  {
   "cell_type": "code",
   "execution_count": 60,
   "id": "477eda44",
   "metadata": {},
   "outputs": [
    {
     "name": "stdout",
     "output_type": "stream",
     "text": [
      " * sqlite://\n",
      "Done.\n"
     ]
    },
    {
     "data": {
      "text/plain": [
       "[]"
      ]
     },
     "execution_count": 60,
     "metadata": {},
     "output_type": "execute_result"
    }
   ],
   "source": [
    "%sql drop table country;"
   ]
  },
  {
   "cell_type": "markdown",
   "id": "845e221e",
   "metadata": {},
   "source": [
    "# Q7. Write an SQL query to display the firstname and lastname as per the below output.<br>\n",
    "create table emp(firstname varchar2(50),lastname varchar2(50));<br>\n",
    "insert into emp values('Raj','Kumar');<br>\n",
    "insert into emp values('Raj','Kishore');<br>\n",
    "insert into emp values('Abdul','Khan');<br>\n",
    "insert into emp values('Asif','Sheikh');<br>\n",
    "insert into emp values('Asif','Khan');<br>\n",
    "<br>\n",
    "***o/p:<br>\n",
    "firstname   lastname<br>\n",
    "Abdul       Khan<br>\n",
    "Asif        Sheikh<br>\n",
    "Asif        Khan<br>\n",
    "Raj         Kumar<br>\n",
    "Raj         Kishore***\n"
   ]
  },
  {
   "cell_type": "code",
   "execution_count": 52,
   "id": "32c426a5",
   "metadata": {},
   "outputs": [
    {
     "name": "stdout",
     "output_type": "stream",
     "text": [
      " * sqlite://\n",
      "Done.\n",
      "1 rows affected.\n",
      "1 rows affected.\n",
      "1 rows affected.\n",
      "1 rows affected.\n",
      "1 rows affected.\n",
      " * sqlite://\n",
      "Done.\n"
     ]
    },
    {
     "data": {
      "text/html": [
       "<table>\n",
       "    <tr>\n",
       "        <th>firstname</th>\n",
       "        <th>lastname</th>\n",
       "    </tr>\n",
       "    <tr>\n",
       "        <td>Abdul</td>\n",
       "        <td>Khan</td>\n",
       "    </tr>\n",
       "    <tr>\n",
       "        <td>Asif</td>\n",
       "        <td>Sheikh</td>\n",
       "    </tr>\n",
       "    <tr>\n",
       "        <td>Asif</td>\n",
       "        <td>Khan</td>\n",
       "    </tr>\n",
       "    <tr>\n",
       "        <td>Raj</td>\n",
       "        <td>Kumar</td>\n",
       "    </tr>\n",
       "    <tr>\n",
       "        <td>Raj</td>\n",
       "        <td>Kishore</td>\n",
       "    </tr>\n",
       "</table>"
      ],
      "text/plain": [
       "[('Abdul', 'Khan'),\n",
       " ('Asif', 'Sheikh'),\n",
       " ('Asif', 'Khan'),\n",
       " ('Raj', 'Kumar'),\n",
       " ('Raj', 'Kishore')]"
      ]
     },
     "execution_count": 52,
     "metadata": {},
     "output_type": "execute_result"
    }
   ],
   "source": [
    "# solution\n",
    "\n",
    "%sql create table emp(firstname varchar2(50),lastname varchar2(50));insert into emp values('Raj','Kumar');insert into emp values('Raj','Kishore');insert into emp values('Abdul','Khan');insert into emp values('Asif','Sheikh');insert into emp values('Asif','Khan');\n",
    "\n",
    "%sql select firstname,lastname from emp order by firstname , lastname desc;"
   ]
  },
  {
   "cell_type": "code",
   "execution_count": 57,
   "id": "27988266",
   "metadata": {},
   "outputs": [
    {
     "name": "stdout",
     "output_type": "stream",
     "text": [
      " * sqlite://\n",
      "Done.\n"
     ]
    },
    {
     "data": {
      "text/plain": [
       "[]"
      ]
     },
     "execution_count": 57,
     "metadata": {},
     "output_type": "execute_result"
    }
   ],
   "source": [
    "%sql drop table emp;"
   ]
  },
  {
   "cell_type": "markdown",
   "id": "bb1d2f8e",
   "metadata": {},
   "source": [
    "# Q8.Write an SQL query to display the output as per below hierarchy but salary in descending order.<br>\n",
    "Hierarchy:<br>\n",
    "HOD<br>\n",
    "Instructor<br>\n",
    "Professor<br>\n",
    "<br>\n",
    "<br>\n",
    "create table emp(id number,name varchar2(50),designation varchar2(50),salary number);<br>\n",
    "insert into emp values(1,'Aman','HOD',400);<br>\n",
    "insert into emp values(2,'Rajesh','HOD',500);<br>\n",
    "<br>\n",
    "insert into emp values(3,'Karan','Professor',800);<br>\n",
    "insert into emp values(4,'Henry','Professor',300);<br>\n",
    "<br>\n",
    "insert into emp values(5,'Kunal','Instructor',400);<br>\n",
    "insert into emp values(6,'Yusuf','Instructor',200);<br>\n",
    "<br>\n",
    "***o/p:\n",
    "ID\tNAME\tDESIGNATION\t SALARY<br>\n",
    "2\tRajesh\tHOD\t         500<br>\n",
    "1\tAman\tHOD\t         400<br>\n",
    "5\tKunal\tInstructor\t 400<br>\n",
    "6\tYusuf\tInstructor\t 200<br>\n",
    "3\tKaran\tProfessor\t 800<br>\n",
    "4\tHenry\tProfessor\t 300***\n"
   ]
  },
  {
   "cell_type": "code",
   "execution_count": 61,
   "id": "28d58e55",
   "metadata": {},
   "outputs": [
    {
     "name": "stdout",
     "output_type": "stream",
     "text": [
      " * sqlite://\n",
      "Done.\n",
      "1 rows affected.\n",
      "1 rows affected.\n",
      "1 rows affected.\n",
      "1 rows affected.\n",
      "1 rows affected.\n",
      "1 rows affected.\n",
      " * sqlite://\n",
      "Done.\n"
     ]
    },
    {
     "data": {
      "text/html": [
       "<table>\n",
       "    <tr>\n",
       "        <th>id</th>\n",
       "        <th>name</th>\n",
       "        <th>designation</th>\n",
       "        <th>salary</th>\n",
       "    </tr>\n",
       "    <tr>\n",
       "        <td>2</td>\n",
       "        <td>Rajesh</td>\n",
       "        <td>HOD</td>\n",
       "        <td>500</td>\n",
       "    </tr>\n",
       "    <tr>\n",
       "        <td>1</td>\n",
       "        <td>Aman</td>\n",
       "        <td>HOD</td>\n",
       "        <td>400</td>\n",
       "    </tr>\n",
       "    <tr>\n",
       "        <td>5</td>\n",
       "        <td>Kunal</td>\n",
       "        <td>Instructor</td>\n",
       "        <td>400</td>\n",
       "    </tr>\n",
       "    <tr>\n",
       "        <td>6</td>\n",
       "        <td>Yusuf</td>\n",
       "        <td>Instructor</td>\n",
       "        <td>200</td>\n",
       "    </tr>\n",
       "    <tr>\n",
       "        <td>3</td>\n",
       "        <td>Karan</td>\n",
       "        <td>Professor</td>\n",
       "        <td>800</td>\n",
       "    </tr>\n",
       "    <tr>\n",
       "        <td>4</td>\n",
       "        <td>Henry</td>\n",
       "        <td>Professor</td>\n",
       "        <td>300</td>\n",
       "    </tr>\n",
       "</table>"
      ],
      "text/plain": [
       "[(2, 'Rajesh', 'HOD', 500),\n",
       " (1, 'Aman', 'HOD', 400),\n",
       " (5, 'Kunal', 'Instructor', 400),\n",
       " (6, 'Yusuf', 'Instructor', 200),\n",
       " (3, 'Karan', 'Professor', 800),\n",
       " (4, 'Henry', 'Professor', 300)]"
      ]
     },
     "execution_count": 61,
     "metadata": {},
     "output_type": "execute_result"
    }
   ],
   "source": [
    "# solution\n",
    "\n",
    "%sql create table emp(id number,name varchar2(50),designation varchar2(50),salary number);insert into emp values(1,'Aman','HOD',400);insert into emp values(2,'Rajesh','HOD',500);insert into emp values(3,'Karan','Professor',800);insert into emp values(4,'Henry','Professor',300);insert into emp values(5,'Kunal','Instructor',400);insert into emp values(6,'Yusuf','Instructor',200);\n",
    "\n",
    "%sql select * from emp order by case when designation = 'HOD' then 1 when designation = 'Instructor' then 2 else 3 end, salary desc;"
   ]
  },
  {
   "cell_type": "code",
   "execution_count": 63,
   "id": "8a488f44",
   "metadata": {},
   "outputs": [
    {
     "name": "stdout",
     "output_type": "stream",
     "text": [
      " * sqlite://\n",
      "Done.\n"
     ]
    },
    {
     "data": {
      "text/plain": [
       "[]"
      ]
     },
     "execution_count": 63,
     "metadata": {},
     "output_type": "execute_result"
    }
   ],
   "source": [
    "%sql drop table emp;"
   ]
  },
  {
   "cell_type": "markdown",
   "id": "ee4e9064",
   "metadata": {},
   "source": [
    "# Q9.Write a SQL query to fetch the employee details and sort the names in ascending order.<br>\n",
    "\n",
    "***Create table employee(Firstname varchar2(20),lastname varchar2(20));<br>\n",
    "insert into employee values('Raj','Kumar');<br>\n",
    "insert into employee values('Raj','Karan');<br>\n",
    "insert into employee values('Raj','Kishor');<br>\n",
    "insert into employee values('Suraj','Mathor');<br>\n",
    "insert into employee values('Suraj','Mukherjee');<br>\n",
    "insert into employee values('Rohan','Sharma');<br>\n",
    "insert into employee values('Rohit','Kumar');***\n"
   ]
  },
  {
   "cell_type": "code",
   "execution_count": 62,
   "id": "b386d3c1",
   "metadata": {},
   "outputs": [
    {
     "name": "stdout",
     "output_type": "stream",
     "text": [
      " * sqlite://\n",
      "Done.\n",
      "1 rows affected.\n",
      "1 rows affected.\n",
      "1 rows affected.\n",
      "1 rows affected.\n",
      "1 rows affected.\n",
      "1 rows affected.\n",
      "1 rows affected.\n",
      " * sqlite://\n",
      "Done.\n"
     ]
    },
    {
     "data": {
      "text/html": [
       "<table>\n",
       "    <tr>\n",
       "        <th>Firstname</th>\n",
       "        <th>lastname</th>\n",
       "    </tr>\n",
       "    <tr>\n",
       "        <td>Raj</td>\n",
       "        <td>Kumar</td>\n",
       "    </tr>\n",
       "    <tr>\n",
       "        <td>Raj</td>\n",
       "        <td>Karan</td>\n",
       "    </tr>\n",
       "    <tr>\n",
       "        <td>Raj</td>\n",
       "        <td>Kishor</td>\n",
       "    </tr>\n",
       "    <tr>\n",
       "        <td>Rohan</td>\n",
       "        <td>Sharma</td>\n",
       "    </tr>\n",
       "    <tr>\n",
       "        <td>Rohit</td>\n",
       "        <td>Kumar</td>\n",
       "    </tr>\n",
       "    <tr>\n",
       "        <td>Suraj</td>\n",
       "        <td>Mathor</td>\n",
       "    </tr>\n",
       "    <tr>\n",
       "        <td>Suraj</td>\n",
       "        <td>Mukherjee</td>\n",
       "    </tr>\n",
       "</table>"
      ],
      "text/plain": [
       "[('Raj', 'Kumar'),\n",
       " ('Raj', 'Karan'),\n",
       " ('Raj', 'Kishor'),\n",
       " ('Rohan', 'Sharma'),\n",
       " ('Rohit', 'Kumar'),\n",
       " ('Suraj', 'Mathor'),\n",
       " ('Suraj', 'Mukherjee')]"
      ]
     },
     "execution_count": 62,
     "metadata": {},
     "output_type": "execute_result"
    }
   ],
   "source": [
    "# solution\n",
    "\n",
    "%sql Create table employee(Firstname varchar2(20),lastname varchar2(20));insert into employee values('Raj','Kumar');insert into employee values('Raj','Karan');insert into employee values('Raj','Kishor');insert into employee values('Suraj','Mathor');insert into employee values('Suraj','Mukherjee');insert into employee values('Rohan','Sharma');insert into employee values('Rohit','Kumar');\n",
    "\n",
    "%sql select * from employee order by firstname ASC;"
   ]
  },
  {
   "cell_type": "code",
   "execution_count": 64,
   "id": "6964769a",
   "metadata": {},
   "outputs": [
    {
     "name": "stdout",
     "output_type": "stream",
     "text": [
      " * sqlite://\n",
      "Done.\n"
     ]
    },
    {
     "data": {
      "text/plain": [
       "[]"
      ]
     },
     "execution_count": 64,
     "metadata": {},
     "output_type": "execute_result"
    }
   ],
   "source": [
    "%sql drop table employee;"
   ]
  },
  {
   "cell_type": "markdown",
   "id": "a915ba3f",
   "metadata": {},
   "source": [
    "# Q10. Which of the following statement is/are correct?\n",
    "\n",
    "***a.By default order by sorts the result in ascending order.<br>\n",
    "b.By default order by sorts the result in descending order.<br>\n",
    "c.We must write asc or desc while using order by.<br>\n",
    "d.To customise the sorting of result we can use case statement in order by.***\n"
   ]
  },
  {
   "cell_type": "markdown",
   "id": "a8af2065",
   "metadata": {},
   "source": [
    "# solution \n",
    "a,d"
   ]
  },
  {
   "cell_type": "markdown",
   "id": "411e7050",
   "metadata": {},
   "source": [
    "# Q11.Write an SQL query to dispay INDIA at the top and all other countries sorted in ascending order without using else keyword.\n",
    "***CREATE TABLE COUNTRY(NAME VARCHAR2(10));<br><br>\n",
    "INSERT INTO COUNTRY VALUES('INDIA');<br>\n",
    "INSERT INTO COUNTRY VALUES('NEPAL');<br>\n",
    "INSERT INTO COUNTRY VALUES('CHINA');<br>\n",
    "INSERT INTO COUNTRY VALUES('PAKISTAN');<br>\n",
    "INSERT INTO COUNTRY VALUES('SRI LANKA');<br>\n",
    "INSERT INTO COUNTRY VALUES('AFGHANISTAN');<br>\n",
    "INSERT INTO COUNTRY VALUES('UNITED KINGDOM');<br>\n",
    "INSERT INTO COUNTRY VALUES('RUSSIA');***\n"
   ]
  },
  {
   "cell_type": "code",
   "execution_count": 69,
   "id": "3d30527c",
   "metadata": {},
   "outputs": [
    {
     "name": "stdout",
     "output_type": "stream",
     "text": [
      " * sqlite://\n",
      "Done.\n"
     ]
    },
    {
     "data": {
      "text/html": [
       "<table>\n",
       "    <tr>\n",
       "        <th>NAME</th>\n",
       "    </tr>\n",
       "    <tr>\n",
       "        <td>NEPAL</td>\n",
       "    </tr>\n",
       "    <tr>\n",
       "        <td>CHINA</td>\n",
       "    </tr>\n",
       "    <tr>\n",
       "        <td>PAKISTAN</td>\n",
       "    </tr>\n",
       "    <tr>\n",
       "        <td>SRI LANKA</td>\n",
       "    </tr>\n",
       "    <tr>\n",
       "        <td>AFGHANISTAN</td>\n",
       "    </tr>\n",
       "    <tr>\n",
       "        <td>UNITED KINGDOM</td>\n",
       "    </tr>\n",
       "    <tr>\n",
       "        <td>RUSSIA</td>\n",
       "    </tr>\n",
       "    <tr>\n",
       "        <td>INDIA</td>\n",
       "    </tr>\n",
       "</table>"
      ],
      "text/plain": [
       "[('NEPAL',),\n",
       " ('CHINA',),\n",
       " ('PAKISTAN',),\n",
       " ('SRI LANKA',),\n",
       " ('AFGHANISTAN',),\n",
       " ('UNITED KINGDOM',),\n",
       " ('RUSSIA',),\n",
       " ('INDIA',)]"
      ]
     },
     "execution_count": 69,
     "metadata": {},
     "output_type": "execute_result"
    }
   ],
   "source": [
    "# solution\n",
    "\n",
    "#%sql CREATE TABLE COUNTRY(NAME VARCHAR2(10));INSERT INTO COUNTRY VALUES('INDIA');INSERT INTO COUNTRY VALUES('NEPAL');INSERT INTO COUNTRY VALUES('CHINA');INSERT INTO COUNTRY VALUES('PAKISTAN');INSERT INTO COUNTRY VALUES('SRI LANKA');INSERT INTO COUNTRY VALUES('AFGHANISTAN');INSERT INTO COUNTRY VALUES('UNITED KINGDOM');INSERT INTO COUNTRY VALUES('RUSSIA');\n",
    "\n",
    "%sql select * from country order by case when name = 'INDIA' then 1 end;\n",
    "\n",
    "#without else is not working in sql server & sql lite but works in oracle sql server"
   ]
  },
  {
   "cell_type": "code",
   "execution_count": 70,
   "id": "462d2a23",
   "metadata": {},
   "outputs": [
    {
     "name": "stdout",
     "output_type": "stream",
     "text": [
      " * sqlite://\n",
      "Done.\n"
     ]
    },
    {
     "data": {
      "text/plain": [
       "[]"
      ]
     },
     "execution_count": 70,
     "metadata": {},
     "output_type": "execute_result"
    }
   ],
   "source": [
    "%sql drop table country;"
   ]
  },
  {
   "cell_type": "markdown",
   "id": "09e7634d",
   "metadata": {},
   "source": [
    "# Q12. Write a SQL query to fetch the employee details and sort the names in ascending order in case of tie consider lastname ascending.\n",
    "***Create table employee(Firstname varchar2(20),lastname varchar2(20));<br>\n",
    "insert into employee values('Raj','Kumar');<br>\n",
    "insert into employee values('Raj','Karan');<br>\n",
    "insert into employee values('Raj','Kishor');<br>\n",
    "insert into employee values('Suraj','Mathor');<br>\n",
    "insert into employee values('Suraj','Mukherjee');<br>\n",
    "insert into employee values('Rohan','Sharma');<br>\n",
    "insert into employee values('Rohit','Kumar');***\n"
   ]
  },
  {
   "cell_type": "code",
   "execution_count": 71,
   "id": "a8dfe1b5",
   "metadata": {},
   "outputs": [
    {
     "name": "stdout",
     "output_type": "stream",
     "text": [
      " * sqlite://\n",
      "Done.\n",
      "1 rows affected.\n",
      "1 rows affected.\n",
      "1 rows affected.\n",
      "1 rows affected.\n",
      "1 rows affected.\n",
      "1 rows affected.\n",
      "1 rows affected.\n",
      " * sqlite://\n",
      "Done.\n"
     ]
    },
    {
     "data": {
      "text/html": [
       "<table>\n",
       "    <tr>\n",
       "        <th>Firstname</th>\n",
       "        <th>lastname</th>\n",
       "    </tr>\n",
       "    <tr>\n",
       "        <td>Raj</td>\n",
       "        <td>Karan</td>\n",
       "    </tr>\n",
       "    <tr>\n",
       "        <td>Raj</td>\n",
       "        <td>Kishor</td>\n",
       "    </tr>\n",
       "    <tr>\n",
       "        <td>Raj</td>\n",
       "        <td>Kumar</td>\n",
       "    </tr>\n",
       "    <tr>\n",
       "        <td>Rohan</td>\n",
       "        <td>Sharma</td>\n",
       "    </tr>\n",
       "    <tr>\n",
       "        <td>Rohit</td>\n",
       "        <td>Kumar</td>\n",
       "    </tr>\n",
       "    <tr>\n",
       "        <td>Suraj</td>\n",
       "        <td>Mathor</td>\n",
       "    </tr>\n",
       "    <tr>\n",
       "        <td>Suraj</td>\n",
       "        <td>Mukherjee</td>\n",
       "    </tr>\n",
       "</table>"
      ],
      "text/plain": [
       "[('Raj', 'Karan'),\n",
       " ('Raj', 'Kishor'),\n",
       " ('Raj', 'Kumar'),\n",
       " ('Rohan', 'Sharma'),\n",
       " ('Rohit', 'Kumar'),\n",
       " ('Suraj', 'Mathor'),\n",
       " ('Suraj', 'Mukherjee')]"
      ]
     },
     "execution_count": 71,
     "metadata": {},
     "output_type": "execute_result"
    }
   ],
   "source": [
    "# solution\n",
    "\n",
    "%sql Create table employee(Firstname varchar2(20),lastname varchar2(20));insert into employee values('Raj','Kumar');insert into employee values('Raj','Karan');insert into employee values('Raj','Kishor');insert into employee values('Suraj','Mathor');insert into employee values('Suraj','Mukherjee');insert into employee values('Rohan','Sharma');insert into employee values('Rohit','Kumar');\n",
    "\n",
    "%sql select * from employee order by firstname,lastname;"
   ]
  },
  {
   "cell_type": "code",
   "execution_count": 72,
   "id": "196c3b9a",
   "metadata": {},
   "outputs": [
    {
     "name": "stdout",
     "output_type": "stream",
     "text": [
      " * sqlite://\n",
      "Done.\n"
     ]
    },
    {
     "data": {
      "text/plain": [
       "[]"
      ]
     },
     "execution_count": 72,
     "metadata": {},
     "output_type": "execute_result"
    }
   ],
   "source": [
    "%sql drop table employee;"
   ]
  },
  {
   "cell_type": "markdown",
   "id": "41afbd39",
   "metadata": {},
   "source": [
    "# Q13. Write a SQL query to fetch the employee details and sort the lastname in descending order.\n",
    "\n",
    "***Create table employee(Firstname varchar2(20),lastname varchar2(20));<br>\n",
    "insert into employee values('Raj','Kumar');<br>\n",
    "insert into employee values('Raj','Karan');<br>\n",
    "insert into employee values('Raj','Kishor');<br>\n",
    "insert into employee values('Suraj','Mathor');<br>\n",
    "insert into employee values('Suraj','Mukherjee');<br>\n",
    "insert into employee values('Rohan','Sharma');<br>\n",
    "insert into employee values('Rohit','Kumar');***\n"
   ]
  },
  {
   "cell_type": "code",
   "execution_count": 73,
   "id": "66dff7f2",
   "metadata": {},
   "outputs": [
    {
     "name": "stdout",
     "output_type": "stream",
     "text": [
      " * sqlite://\n",
      "Done.\n",
      "1 rows affected.\n",
      "1 rows affected.\n",
      "1 rows affected.\n",
      "1 rows affected.\n",
      "1 rows affected.\n",
      "1 rows affected.\n",
      "1 rows affected.\n",
      " * sqlite://\n",
      "Done.\n"
     ]
    },
    {
     "data": {
      "text/html": [
       "<table>\n",
       "    <tr>\n",
       "        <th>Firstname</th>\n",
       "        <th>lastname</th>\n",
       "    </tr>\n",
       "    <tr>\n",
       "        <td>Rohan</td>\n",
       "        <td>Sharma</td>\n",
       "    </tr>\n",
       "    <tr>\n",
       "        <td>Suraj</td>\n",
       "        <td>Mukherjee</td>\n",
       "    </tr>\n",
       "    <tr>\n",
       "        <td>Suraj</td>\n",
       "        <td>Mathor</td>\n",
       "    </tr>\n",
       "    <tr>\n",
       "        <td>Raj</td>\n",
       "        <td>Kumar</td>\n",
       "    </tr>\n",
       "    <tr>\n",
       "        <td>Rohit</td>\n",
       "        <td>Kumar</td>\n",
       "    </tr>\n",
       "    <tr>\n",
       "        <td>Raj</td>\n",
       "        <td>Kishor</td>\n",
       "    </tr>\n",
       "    <tr>\n",
       "        <td>Raj</td>\n",
       "        <td>Karan</td>\n",
       "    </tr>\n",
       "</table>"
      ],
      "text/plain": [
       "[('Rohan', 'Sharma'),\n",
       " ('Suraj', 'Mukherjee'),\n",
       " ('Suraj', 'Mathor'),\n",
       " ('Raj', 'Kumar'),\n",
       " ('Rohit', 'Kumar'),\n",
       " ('Raj', 'Kishor'),\n",
       " ('Raj', 'Karan')]"
      ]
     },
     "execution_count": 73,
     "metadata": {},
     "output_type": "execute_result"
    }
   ],
   "source": [
    "# solution\n",
    "\n",
    "%sql Create table employee(Firstname varchar2(20),lastname varchar2(20));insert into employee values('Raj','Kumar');insert into employee values('Raj','Karan');insert into employee values('Raj','Kishor');insert into employee values('Suraj','Mathor');insert into employee values('Suraj','Mukherjee');insert into employee values('Rohan','Sharma');insert into employee values('Rohit','Kumar');\n",
    "\n",
    "%sql select * from employee order by lastname desc;"
   ]
  },
  {
   "cell_type": "markdown",
   "id": "c0784bec",
   "metadata": {},
   "source": [
    "# Q14. Write a SQL query to list the studname in ascending order but all the Female students should be displayed before all the Male students.\n",
    "\n",
    "***create table stud(studid number,studname varchar2(20),Gender varchar2(5));<br>\n",
    "insert into stud values(1,'Bilal','M');<br>\n",
    "insert into stud values(2,'Suresh','M');<br>\n",
    "insert into stud values(3,'Aman','M');<br>\n",
    "insert into stud values(4,'Swati','F');<br>\n",
    "<br>\n",
    "insert into stud values(5,'Saurabh','M');<br>\n",
    "insert into stud values(6,'Abdul','M');<br>\n",
    "insert into stud values(7,'Ankit','M');<br>\n",
    "insert into stud values(8,'Shruti','F');<br>\n",
    "<br>\n",
    "insert into stud values(9,'Ahmed','M');<br>\n",
    "insert into stud values(10,'Anup','M');<br>\n",
    "insert into stud values(11,'Rakesh','M');<br>\n",
    "insert into stud values(12,'Neha','F');<br>\n",
    "<br>\n",
    "insert into stud values(13,'Suresh','M');<br>\n",
    "insert into stud values(14,'Mukesh','M');<br>\n",
    "insert into stud values(15,'Majid','M');<br>\n",
    "insert into stud values(16,'Priyanka','F');***\n"
   ]
  },
  {
   "cell_type": "code",
   "execution_count": 75,
   "id": "13e72ac6",
   "metadata": {},
   "outputs": [
    {
     "name": "stdout",
     "output_type": "stream",
     "text": [
      " * sqlite://\n",
      "Done.\n"
     ]
    },
    {
     "data": {
      "text/html": [
       "<table>\n",
       "    <tr>\n",
       "        <th>studid</th>\n",
       "        <th>studname</th>\n",
       "        <th>Gender</th>\n",
       "    </tr>\n",
       "    <tr>\n",
       "        <td>12</td>\n",
       "        <td>Neha</td>\n",
       "        <td>F</td>\n",
       "    </tr>\n",
       "    <tr>\n",
       "        <td>16</td>\n",
       "        <td>Priyanka</td>\n",
       "        <td>F</td>\n",
       "    </tr>\n",
       "    <tr>\n",
       "        <td>8</td>\n",
       "        <td>Shruti</td>\n",
       "        <td>F</td>\n",
       "    </tr>\n",
       "    <tr>\n",
       "        <td>4</td>\n",
       "        <td>Swati</td>\n",
       "        <td>F</td>\n",
       "    </tr>\n",
       "    <tr>\n",
       "        <td>6</td>\n",
       "        <td>Abdul</td>\n",
       "        <td>M</td>\n",
       "    </tr>\n",
       "    <tr>\n",
       "        <td>9</td>\n",
       "        <td>Ahmed</td>\n",
       "        <td>M</td>\n",
       "    </tr>\n",
       "    <tr>\n",
       "        <td>3</td>\n",
       "        <td>Aman</td>\n",
       "        <td>M</td>\n",
       "    </tr>\n",
       "    <tr>\n",
       "        <td>7</td>\n",
       "        <td>Ankit</td>\n",
       "        <td>M</td>\n",
       "    </tr>\n",
       "    <tr>\n",
       "        <td>10</td>\n",
       "        <td>Anup</td>\n",
       "        <td>M</td>\n",
       "    </tr>\n",
       "    <tr>\n",
       "        <td>1</td>\n",
       "        <td>Bilal</td>\n",
       "        <td>M</td>\n",
       "    </tr>\n",
       "    <tr>\n",
       "        <td>15</td>\n",
       "        <td>Majid</td>\n",
       "        <td>M</td>\n",
       "    </tr>\n",
       "    <tr>\n",
       "        <td>14</td>\n",
       "        <td>Mukesh</td>\n",
       "        <td>M</td>\n",
       "    </tr>\n",
       "    <tr>\n",
       "        <td>11</td>\n",
       "        <td>Rakesh</td>\n",
       "        <td>M</td>\n",
       "    </tr>\n",
       "    <tr>\n",
       "        <td>5</td>\n",
       "        <td>Saurabh</td>\n",
       "        <td>M</td>\n",
       "    </tr>\n",
       "    <tr>\n",
       "        <td>2</td>\n",
       "        <td>Suresh</td>\n",
       "        <td>M</td>\n",
       "    </tr>\n",
       "    <tr>\n",
       "        <td>13</td>\n",
       "        <td>Suresh</td>\n",
       "        <td>M</td>\n",
       "    </tr>\n",
       "</table>"
      ],
      "text/plain": [
       "[(12, 'Neha', 'F'),\n",
       " (16, 'Priyanka', 'F'),\n",
       " (8, 'Shruti', 'F'),\n",
       " (4, 'Swati', 'F'),\n",
       " (6, 'Abdul', 'M'),\n",
       " (9, 'Ahmed', 'M'),\n",
       " (3, 'Aman', 'M'),\n",
       " (7, 'Ankit', 'M'),\n",
       " (10, 'Anup', 'M'),\n",
       " (1, 'Bilal', 'M'),\n",
       " (15, 'Majid', 'M'),\n",
       " (14, 'Mukesh', 'M'),\n",
       " (11, 'Rakesh', 'M'),\n",
       " (5, 'Saurabh', 'M'),\n",
       " (2, 'Suresh', 'M'),\n",
       " (13, 'Suresh', 'M')]"
      ]
     },
     "execution_count": 75,
     "metadata": {},
     "output_type": "execute_result"
    }
   ],
   "source": [
    "# solution\n",
    "\n",
    "#%sql create table stud(studid number,studname varchar2(20),Gender varchar2(5));insert into stud values(1,'Bilal','M');insert into stud values(2,'Suresh','M');insert into stud values(3,'Aman','M');insert into stud values(4,'Swati','F');insert into stud values(5,'Saurabh','M');insert into stud values(6,'Abdul','M');insert into stud values(7,'Ankit','M');insert into stud values(8,'Shruti','F');insert into stud values(9,'Ahmed','M');insert into stud values(10,'Anup','M');insert into stud values(11,'Rakesh','M');insert into stud values(12,'Neha','F');insert into stud values(13,'Suresh','M');insert into stud values(14,'Mukesh','M');insert into stud values(15,'Majid','M');insert into stud values(16,'Priyanka','F');\n",
    "\n",
    "%sql select * from stud order by case when gender = 'F' then 1 else 2 end,studname asc;"
   ]
  },
  {
   "cell_type": "code",
   "execution_count": 76,
   "id": "11ceac34",
   "metadata": {},
   "outputs": [
    {
     "name": "stdout",
     "output_type": "stream",
     "text": [
      " * sqlite://\n",
      "Done.\n"
     ]
    },
    {
     "data": {
      "text/plain": [
       "[]"
      ]
     },
     "execution_count": 76,
     "metadata": {},
     "output_type": "execute_result"
    }
   ],
   "source": [
    "%sql drop table stud;"
   ]
  },
  {
   "cell_type": "code",
   "execution_count": null,
   "id": "f2fc6fd0",
   "metadata": {},
   "outputs": [],
   "source": []
  }
 ],
 "metadata": {
  "kernelspec": {
   "display_name": "Python 3.9.13 64-bit",
   "language": "python",
   "name": "python3"
  },
  "language_info": {
   "codemirror_mode": {
    "name": "ipython",
    "version": 3
   },
   "file_extension": ".py",
   "mimetype": "text/x-python",
   "name": "python",
   "nbconvert_exporter": "python",
   "pygments_lexer": "ipython3",
   "version": "3.9.13"
  },
  "vscode": {
   "interpreter": {
    "hash": "2e0ee888014b5922b3fc8c2b7c1bb23530ac5457da24741931a5c1eb4105d506"
   }
  }
 },
 "nbformat": 4,
 "nbformat_minor": 5
}
