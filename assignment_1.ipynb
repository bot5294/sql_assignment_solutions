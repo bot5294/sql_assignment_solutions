{
 "cells": [
  {
   "cell_type": "markdown",
   "id": "77bf6a6f",
   "metadata": {},
   "source": [
    "# TechNest Assignment - 1"
   ]
  },
  {
   "cell_type": "code",
   "execution_count": null,
   "id": "db2a5343",
   "metadata": {
    "collapsed": true
   },
   "outputs": [],
   "source": [
    "#!pip install ipython-sql"
   ]
  },
  {
   "cell_type": "code",
   "execution_count": null,
   "id": "6f6564da",
   "metadata": {},
   "outputs": [],
   "source": [
    "%load_ext sql"
   ]
  },
  {
   "cell_type": "code",
   "execution_count": 9,
   "id": "23a96014",
   "metadata": {},
   "outputs": [],
   "source": [
    "%sql sqlite://"
   ]
  },
  {
   "cell_type": "markdown",
   "id": "48212051",
   "metadata": {},
   "source": [
    "## Q1. Create a transaction table with Transactionid, Customername, Customerlocation as columns."
   ]
  },
  {
   "cell_type": "code",
   "execution_count": null,
   "id": "304ab68c",
   "metadata": {},
   "outputs": [
    {
     "name": "stdout",
     "output_type": "stream",
     "text": [
      " * sqlite://\n",
      "Done.\n"
     ]
    },
    {
     "data": {
      "text/plain": [
       "[]"
      ]
     },
     "execution_count": 15,
     "metadata": {},
     "output_type": "execute_result"
    }
   ],
   "source": [
    "%%sql\n",
    "create table tranx_table (Transactionid int not null,Customername varchar(50),Customerlocation varchar(100));"
   ]
  },
  {
   "cell_type": "markdown",
   "id": "85122c71",
   "metadata": {},
   "source": [
    "## Q2.Create table fund (Fundid number, Fundname varchar2(10),amount number)\n",
    "## Insert into Fund values('One', '200', 100)\n"
   ]
  },
  {
   "cell_type": "code",
   "execution_count": 75,
   "id": "e29e150b",
   "metadata": {},
   "outputs": [
    {
     "name": "stdout",
     "output_type": "stream",
     "text": [
      " * sqlite://\n",
      "Done.\n",
      "1 rows affected.\n",
      "Done.\n"
     ]
    },
    {
     "data": {
      "text/html": [
       "<table>\n",
       "    <tr>\n",
       "        <th>Fundid</th>\n",
       "        <th>Fundname</th>\n",
       "        <th>amount</th>\n",
       "    </tr>\n",
       "    <tr>\n",
       "        <td>one</td>\n",
       "        <td>200</td>\n",
       "        <td>100</td>\n",
       "    </tr>\n",
       "</table>"
      ],
      "text/plain": [
       "[('one', '200', 100)]"
      ]
     },
     "execution_count": 75,
     "metadata": {},
     "output_type": "execute_result"
    }
   ],
   "source": [
    "%%sql\n",
    "create table fund (Fundid int,Fundname varchar(10),amount int);\n",
    "insert into fund values('one','200',100);\n",
    "select * from fund;"
   ]
  },
  {
   "cell_type": "code",
   "execution_count": 74,
   "id": "3e55c546",
   "metadata": {},
   "outputs": [
    {
     "name": "stdout",
     "output_type": "stream",
     "text": [
      " * sqlite://\n",
      "Done.\n"
     ]
    },
    {
     "data": {
      "text/plain": [
       "[]"
      ]
     },
     "execution_count": 74,
     "metadata": {},
     "output_type": "execute_result"
    }
   ],
   "source": [
    "%%sql\n",
    "drop table fund;"
   ]
  },
  {
   "cell_type": "markdown",
   "id": "b133e33e",
   "metadata": {},
   "source": [
    "Which of the following statement is/are correct as per above insert statement\n",
    "1. This will throw error as Fundid is a numeric column and cant store string value. \n",
    "2. Data will be inserted successfully\n",
    "3. This will throw error as fundname is a varchar2 column and cant store numeric data.\n",
    "4. None of the above.\n"
   ]
  },
  {
   "cell_type": "markdown",
   "id": "6ec6b580",
   "metadata": {},
   "source": [
    "Answer : 1"
   ]
  },
  {
   "cell_type": "markdown",
   "id": "a08d52f7",
   "metadata": {},
   "source": [
    "Q3.Which of the following statement is/are correct.\n",
    "a)SQL is case sensitive with data only\n",
    "b)SQL is a case sensitive language\n",
    "c)SQL is not a case sensitive language\n",
    "d)SQL is not case sensitive with reserved/user defined keywords\n",
    "\n",
    "Answer : (a) and (d)"
   ]
  },
  {
   "cell_type": "markdown",
   "id": "dc5ada9c",
   "metadata": {},
   "source": [
    "Q4.Which of the following statement is/are correct.\n",
    "a) We can create 2 tables with same name in a particular database.\n",
    "b) Reserved keywords cant be used to create a table.\n",
    "c) A table cant have more than 50 columns.\n",
    "d) None\n",
    "\n",
    "Answer (d)"
   ]
  },
  {
   "cell_type": "code",
   "execution_count": 22,
   "id": "8efd1367",
   "metadata": {},
   "outputs": [],
   "source": [
    "# Q5. Create a college table with BranchID, Branchname, HODID, HODname, StudentID and Studentname as columns and insert appropriate data accordingly."
   ]
  },
  {
   "cell_type": "code",
   "execution_count": 34,
   "id": "1ee846e3",
   "metadata": {},
   "outputs": [
    {
     "name": "stdout",
     "output_type": "stream",
     "text": [
      " * sqlite://\n",
      "Done.\n",
      "1 rows affected.\n",
      "1 rows affected.\n",
      "1 rows affected.\n",
      "Done.\n"
     ]
    },
    {
     "data": {
      "text/html": [
       "<table>\n",
       "    <tr>\n",
       "        <th>BranchID</th>\n",
       "        <th>Branchname</th>\n",
       "        <th>HODID</th>\n",
       "        <th>StudentId</th>\n",
       "        <th>Studentname</th>\n",
       "    </tr>\n",
       "    <tr>\n",
       "        <td>1</td>\n",
       "        <td>Sql</td>\n",
       "        <td>5</td>\n",
       "        <td>6</td>\n",
       "        <td>Aqib</td>\n",
       "    </tr>\n",
       "    <tr>\n",
       "        <td>2</td>\n",
       "        <td>php</td>\n",
       "        <td>6</td>\n",
       "        <td>7</td>\n",
       "        <td>Virat</td>\n",
       "    </tr>\n",
       "    <tr>\n",
       "        <td>3</td>\n",
       "        <td>Node</td>\n",
       "        <td>8</td>\n",
       "        <td>9</td>\n",
       "        <td>Homer Simpson</td>\n",
       "    </tr>\n",
       "</table>"
      ],
      "text/plain": [
       "[(1, 'Sql', 5, 6, 'Aqib'),\n",
       " (2, 'php', 6, 7, 'Virat'),\n",
       " (3, 'Node', 8, 9, 'Homer Simpson')]"
      ]
     },
     "execution_count": 34,
     "metadata": {},
     "output_type": "execute_result"
    }
   ],
   "source": [
    "%%sql \n",
    "create table course (BranchID int not null,Branchname varchar(50),HODID int,StudentId int,Studentname varchar(50));\n",
    "insert into course values(1,'Sql',5,6,'Aqib');\n",
    "insert into course values(2,'php',6,7,'Virat');\n",
    "insert into course values(3,'Node',8,9,'Homer Simpson');\n",
    "\n",
    "select * from course;"
   ]
  },
  {
   "cell_type": "code",
   "execution_count": 33,
   "id": "7a4f33a2",
   "metadata": {},
   "outputs": [
    {
     "name": "stdout",
     "output_type": "stream",
     "text": [
      " * sqlite://\n",
      "Done.\n"
     ]
    },
    {
     "data": {
      "text/plain": [
       "[]"
      ]
     },
     "execution_count": 33,
     "metadata": {},
     "output_type": "execute_result"
    }
   ],
   "source": [
    "%%sql\n",
    "drop table course;"
   ]
  },
  {
   "cell_type": "code",
   "execution_count": 35,
   "id": "1b8e56af",
   "metadata": {},
   "outputs": [],
   "source": [
    "# Q6.create table sales(custid number,custname varchar2(10),amount number);\n",
    "# insert into('A',1,'Hundred');\n"
   ]
  },
  {
   "cell_type": "code",
   "execution_count": 52,
   "id": "d0fbeed5",
   "metadata": {},
   "outputs": [
    {
     "name": "stdout",
     "output_type": "stream",
     "text": [
      " * sqlite://\n",
      "Done.\n",
      "1 rows affected.\n",
      "Done.\n"
     ]
    },
    {
     "data": {
      "text/html": [
       "<table>\n",
       "    <tr>\n",
       "        <th>custid</th>\n",
       "        <th>custname</th>\n",
       "        <th>amount</th>\n",
       "    </tr>\n",
       "    <tr>\n",
       "        <td>A</td>\n",
       "        <td>1</td>\n",
       "        <td>Hundred</td>\n",
       "    </tr>\n",
       "</table>"
      ],
      "text/plain": [
       "[('A', '1', 'Hundred')]"
      ]
     },
     "execution_count": 52,
     "metadata": {},
     "output_type": "execute_result"
    }
   ],
   "source": [
    "%%sql\n",
    "create table sales(custid int not null,custname varchar(50),amount int);\n",
    "insert into sales values('A',1,'Hundred');\n",
    "select * from sales;"
   ]
  },
  {
   "cell_type": "code",
   "execution_count": 51,
   "id": "066f9bde",
   "metadata": {},
   "outputs": [
    {
     "name": "stdout",
     "output_type": "stream",
     "text": [
      " * sqlite://\n",
      "Done.\n"
     ]
    },
    {
     "data": {
      "text/plain": [
       "[]"
      ]
     },
     "execution_count": 51,
     "metadata": {},
     "output_type": "execute_result"
    }
   ],
   "source": [
    "%%sql\n",
    "drop table sales;"
   ]
  },
  {
   "cell_type": "markdown",
   "id": "47c0d586",
   "metadata": {},
   "source": [
    "Which of the following statement is/are correct?\n",
    "a)Above insert statement will throw error message.\n",
    "b)Data will be inserted successfully\n",
    "\n",
    "Answer : (a)"
   ]
  },
  {
   "cell_type": "code",
   "execution_count": 41,
   "id": "495e3daf",
   "metadata": {},
   "outputs": [],
   "source": [
    "# Q7.create table sales(custid number,custname varchar2(10),amount number);\n",
    "# insert into(1,B,100);\n"
   ]
  },
  {
   "cell_type": "code",
   "execution_count": 55,
   "id": "e00f155f",
   "metadata": {},
   "outputs": [
    {
     "name": "stdout",
     "output_type": "stream",
     "text": [
      " * sqlite://\n",
      "Done.\n",
      "(sqlite3.OperationalError) no such column: B\n",
      "[SQL: insert into sales values(1,B,100);]\n",
      "(Background on this error at: https://sqlalche.me/e/14/e3q8)\n"
     ]
    }
   ],
   "source": [
    "%%sql\n",
    "create table sales(custid int not null,custname varchar(50),amount int);\n",
    "insert into sales values(1,B,100);\n"
   ]
  },
  {
   "cell_type": "code",
   "execution_count": 58,
   "id": "b1c5ebf3",
   "metadata": {},
   "outputs": [
    {
     "name": "stdout",
     "output_type": "stream",
     "text": [
      " * sqlite://\n",
      "Done.\n"
     ]
    },
    {
     "data": {
      "text/plain": [
       "[]"
      ]
     },
     "execution_count": 58,
     "metadata": {},
     "output_type": "execute_result"
    }
   ],
   "source": [
    "%%sql\n",
    "drop table sales;"
   ]
  },
  {
   "cell_type": "markdown",
   "id": "c0aec71a",
   "metadata": {},
   "source": [
    "Which of the following statement is/are correct?\n",
    "a)Above insert statement will throw error message.\n",
    "b)Data will be inserted successfully\n",
    "\n",
    "Answer :(a)"
   ]
  },
  {
   "cell_type": "code",
   "execution_count": 56,
   "id": "4b891c35",
   "metadata": {},
   "outputs": [],
   "source": [
    "# Q8.create table sales(custid number,custname varchar2(10),amount number);\n",
    "# insert into(1,B,100,2)\n"
   ]
  },
  {
   "cell_type": "code",
   "execution_count": 59,
   "id": "837f5751",
   "metadata": {},
   "outputs": [
    {
     "name": "stdout",
     "output_type": "stream",
     "text": [
      " * sqlite://\n",
      "Done.\n",
      "(sqlite3.OperationalError) no such column: B\n",
      "[SQL: insert into sales values(1,B,100,2);]\n",
      "(Background on this error at: https://sqlalche.me/e/14/e3q8)\n"
     ]
    }
   ],
   "source": [
    "%%sql \n",
    "create table sales(custid int not null,custname varchar(50),amount int);\n",
    "insert into sales values(1,B,100,2);\n",
    "select * from sales;"
   ]
  },
  {
   "cell_type": "code",
   "execution_count": 60,
   "id": "ce41f23a",
   "metadata": {},
   "outputs": [
    {
     "name": "stdout",
     "output_type": "stream",
     "text": [
      " * sqlite://\n",
      "Done.\n"
     ]
    },
    {
     "data": {
      "text/plain": [
       "[]"
      ]
     },
     "execution_count": 60,
     "metadata": {},
     "output_type": "execute_result"
    }
   ],
   "source": [
    "%%sql\n",
    "drop table sales;"
   ]
  },
  {
   "cell_type": "markdown",
   "id": "00018708",
   "metadata": {},
   "source": [
    "Which of the following statement is/are correct?\n",
    "a)Above insert statement will throw error message.\n",
    "b)Data will be inserted successfully\n",
    "\n",
    "Answer: (a)"
   ]
  },
  {
   "cell_type": "markdown",
   "id": "e6919dce",
   "metadata": {},
   "source": [
    "Q9.Sql is case sensitive with reserved and user defined keyword.\n",
    "\n",
    "a)True\n",
    "b)False\n",
    "\n",
    "Answer : (b)"
   ]
  },
  {
   "cell_type": "markdown",
   "id": "021a0cd1",
   "metadata": {},
   "source": [
    "# Q10.Create your introduction table with name,yearsofexp,educationalqualitifcation,location,hobby as columns and insert data accordingly."
   ]
  },
  {
   "cell_type": "code",
   "execution_count": 62,
   "id": "00c5b866",
   "metadata": {},
   "outputs": [
    {
     "name": "stdout",
     "output_type": "stream",
     "text": [
      " * sqlite://\n",
      "Done.\n",
      "1 rows affected.\n",
      "1 rows affected.\n",
      "Done.\n"
     ]
    },
    {
     "data": {
      "text/html": [
       "<table>\n",
       "    <tr>\n",
       "        <th>name</th>\n",
       "        <th>yearsofexp</th>\n",
       "        <th>educationqualification</th>\n",
       "        <th>location</th>\n",
       "        <th>hobby</th>\n",
       "    </tr>\n",
       "    <tr>\n",
       "        <td>Aqib</td>\n",
       "        <td>0</td>\n",
       "        <td>BCA</td>\n",
       "        <td>Agra</td>\n",
       "        <td>Exploring Computer Science</td>\n",
       "    </tr>\n",
       "    <tr>\n",
       "        <td>Virat</td>\n",
       "        <td>10</td>\n",
       "        <td>MA</td>\n",
       "        <td>Delhi</td>\n",
       "        <td>Exploring Cricket</td>\n",
       "    </tr>\n",
       "</table>"
      ],
      "text/plain": [
       "[('Aqib', 0, 'BCA', 'Agra', 'Exploring Computer Science'),\n",
       " ('Virat', 10, 'MA', 'Delhi', 'Exploring Cricket')]"
      ]
     },
     "execution_count": 62,
     "metadata": {},
     "output_type": "execute_result"
    }
   ],
   "source": [
    "%%sql \n",
    "create table introduction(name varchar(50),yearsofexp int,educationqualification varchar(50),location varchar(50),hobby varchar(50));\n",
    "insert into introduction values('Aqib',0,'BCA','Agra','Exploring Computer Science');\n",
    "insert into introduction values('Virat',10,'MA','Delhi','Exploring Cricket');\n",
    "\n",
    "select * from introduction;"
   ]
  },
  {
   "cell_type": "code",
   "execution_count": 63,
   "id": "e9fe7531",
   "metadata": {},
   "outputs": [
    {
     "name": "stdout",
     "output_type": "stream",
     "text": [
      " * sqlite://\n",
      "Done.\n"
     ]
    },
    {
     "data": {
      "text/plain": [
       "[]"
      ]
     },
     "execution_count": 63,
     "metadata": {},
     "output_type": "execute_result"
    }
   ],
   "source": [
    "%%sql\n",
    "\n",
    "drop table introduction;"
   ]
  },
  {
   "cell_type": "markdown",
   "id": "fb3f3f66",
   "metadata": {},
   "source": [
    "# Q11.Scenario based:\n",
    "Business analyst of my team needs a table to be created in DB with below specifications/details-\n",
    "a.Table name:Transaction\n",
    "b.Columns:Transaction_id,Amount,Location,Paymentmode,Status\n",
    "\n",
    "create table Transacton(Transactionid varchar2(50),Amt number,Location varchar2(1),status varchar2(100),Modeofpayment varchar2(10));\n",
    "What is the error with the above create statement.\n"
   ]
  },
  {
   "cell_type": "code",
   "execution_count": 71,
   "id": "d02e5452",
   "metadata": {},
   "outputs": [
    {
     "name": "stdout",
     "output_type": "stream",
     "text": [
      " * sqlite://\n",
      "Done.\n",
      "1 rows affected.\n",
      "Done.\n"
     ]
    },
    {
     "data": {
      "text/html": [
       "<table>\n",
       "    <tr>\n",
       "        <th>Transaction_id</th>\n",
       "        <th>Amount</th>\n",
       "        <th>Location</th>\n",
       "        <th>status</th>\n",
       "        <th>modeofpayment</th>\n",
       "    </tr>\n",
       "    <tr>\n",
       "        <td>1</td>\n",
       "        <td>200</td>\n",
       "        <td>A</td>\n",
       "        <td>positive</td>\n",
       "        <td>online</td>\n",
       "    </tr>\n",
       "</table>"
      ],
      "text/plain": [
       "[(1, 200, 'A', 'positive', 'online')]"
      ]
     },
     "execution_count": 71,
     "metadata": {},
     "output_type": "execute_result"
    }
   ],
   "source": [
    "%%sql \n",
    "create table Transaxtion (Transaction_id int,Amount int,Location varchar(1),status varchar(100),modeofpayment varchar(10));\n",
    "insert into Transaxtion values(1,200,'A','positive','online');\n",
    "select * from Transaxtion;"
   ]
  },
  {
   "cell_type": "code",
   "execution_count": 70,
   "id": "db77fab3",
   "metadata": {},
   "outputs": [
    {
     "name": "stdout",
     "output_type": "stream",
     "text": [
      " * sqlite://\n",
      "Done.\n"
     ]
    },
    {
     "data": {
      "text/plain": [
       "[]"
      ]
     },
     "execution_count": 70,
     "metadata": {},
     "output_type": "execute_result"
    }
   ],
   "source": [
    "%%sql\n",
    "drop table transaxtion;"
   ]
  },
  {
   "cell_type": "code",
   "execution_count": null,
   "id": "cab74d35",
   "metadata": {},
   "outputs": [],
   "source": []
  }
 ],
 "metadata": {
  "kernelspec": {
   "display_name": "Python 3.9.13 64-bit",
   "language": "python",
   "name": "python3"
  },
  "language_info": {
   "codemirror_mode": {
    "name": "ipython",
    "version": 3
   },
   "file_extension": ".py",
   "mimetype": "text/x-python",
   "name": "python",
   "nbconvert_exporter": "python",
   "pygments_lexer": "ipython3",
   "version": "3.9.13"
  },
  "vscode": {
   "interpreter": {
    "hash": "2e0ee888014b5922b3fc8c2b7c1bb23530ac5457da24741931a5c1eb4105d506"
   }
  }
 },
 "nbformat": 4,
 "nbformat_minor": 5
}
