{
 "cells": [
  {
   "cell_type": "markdown",
   "id": "c452fc89",
   "metadata": {},
   "source": [
    "# TechNest Assignment 4"
   ]
  },
  {
   "cell_type": "code",
   "execution_count": 1,
   "id": "2d1c6a2d",
   "metadata": {},
   "outputs": [],
   "source": [
    "%load_ext sql"
   ]
  },
  {
   "cell_type": "code",
   "execution_count": 2,
   "id": "4f73d39f",
   "metadata": {},
   "outputs": [],
   "source": [
    "%sql sqlite://"
   ]
  },
  {
   "cell_type": "markdown",
   "id": "6a851a5c",
   "metadata": {},
   "source": [
    "## Q1.Fetch the number of employees working in different dept\n",
    "\n",
    "***create table emp(id number,name varchar2(50),designation varchar2(50),salary number);<br>\n",
    "insert into emp values(1,'Aman','HOD',400);<br>\n",
    "insert into emp values(2,'Rajesh','HOD',500);<br>\n",
    "insert into emp values(7,'Rakesh','HOD',700);<br>\n",
    "insert into emp values(3,'Karan','Professor',800);<br>\n",
    "insert into emp values(4,'Henry','Professor',300);<br>\n",
    "insert into emp values(5,'Kunal','Instructor',400);<br>\n",
    "insert into emp values(6,'Yusuf','Instructor',200);***"
   ]
  },
  {
   "cell_type": "code",
   "execution_count": 3,
   "id": "3d8ed539",
   "metadata": {},
   "outputs": [
    {
     "name": "stdout",
     "output_type": "stream",
     "text": [
      " * sqlite://\n",
      "Done.\n",
      "1 rows affected.\n",
      "1 rows affected.\n",
      "1 rows affected.\n",
      "1 rows affected.\n",
      "1 rows affected.\n",
      "1 rows affected.\n",
      "1 rows affected.\n",
      " * sqlite://\n",
      "Done.\n"
     ]
    },
    {
     "data": {
      "text/html": [
       "<table>\n",
       "    <tr>\n",
       "        <th>id</th>\n",
       "        <th>name</th>\n",
       "        <th>designation</th>\n",
       "        <th>salary</th>\n",
       "    </tr>\n",
       "    <tr>\n",
       "        <td>1</td>\n",
       "        <td>Aman</td>\n",
       "        <td>HOD</td>\n",
       "        <td>400</td>\n",
       "    </tr>\n",
       "    <tr>\n",
       "        <td>2</td>\n",
       "        <td>Rajesh</td>\n",
       "        <td>HOD</td>\n",
       "        <td>500</td>\n",
       "    </tr>\n",
       "    <tr>\n",
       "        <td>7</td>\n",
       "        <td>Rakesh</td>\n",
       "        <td>HOD</td>\n",
       "        <td>700</td>\n",
       "    </tr>\n",
       "    <tr>\n",
       "        <td>3</td>\n",
       "        <td>Karan</td>\n",
       "        <td>Professor</td>\n",
       "        <td>800</td>\n",
       "    </tr>\n",
       "    <tr>\n",
       "        <td>4</td>\n",
       "        <td>Henry</td>\n",
       "        <td>Professor</td>\n",
       "        <td>300</td>\n",
       "    </tr>\n",
       "    <tr>\n",
       "        <td>5</td>\n",
       "        <td>Kunal</td>\n",
       "        <td>Instructor</td>\n",
       "        <td>400</td>\n",
       "    </tr>\n",
       "    <tr>\n",
       "        <td>6</td>\n",
       "        <td>Yusuf</td>\n",
       "        <td>Instructor</td>\n",
       "        <td>200</td>\n",
       "    </tr>\n",
       "</table>"
      ],
      "text/plain": [
       "[(1, 'Aman', 'HOD', 400),\n",
       " (2, 'Rajesh', 'HOD', 500),\n",
       " (7, 'Rakesh', 'HOD', 700),\n",
       " (3, 'Karan', 'Professor', 800),\n",
       " (4, 'Henry', 'Professor', 300),\n",
       " (5, 'Kunal', 'Instructor', 400),\n",
       " (6, 'Yusuf', 'Instructor', 200)]"
      ]
     },
     "execution_count": 3,
     "metadata": {},
     "output_type": "execute_result"
    }
   ],
   "source": [
    "%sql create table emp(id number,name varchar2(50),designation varchar2(50),salary number);insert into emp values(1,'Aman','HOD',400);insert into emp values(2,'Rajesh','HOD',500);insert into emp values(7,'Rakesh','HOD',700);insert into emp values(3,'Karan','Professor',800);insert into emp values(4,'Henry','Professor',300);insert into emp values(5,'Kunal','Instructor',400);insert into emp values(6,'Yusuf','Instructor',200);\n",
    "%sql select * from emp;"
   ]
  },
  {
   "cell_type": "code",
   "execution_count": 6,
   "id": "9a173233",
   "metadata": {
    "scrolled": true
   },
   "outputs": [
    {
     "name": "stdout",
     "output_type": "stream",
     "text": [
      " * sqlite://\n",
      "Done.\n"
     ]
    },
    {
     "data": {
      "text/html": [
       "<table>\n",
       "    <tr>\n",
       "        <th>dept</th>\n",
       "        <th>count(1)</th>\n",
       "    </tr>\n",
       "    <tr>\n",
       "        <td>HOD</td>\n",
       "        <td>3</td>\n",
       "    </tr>\n",
       "    <tr>\n",
       "        <td>Instructor</td>\n",
       "        <td>2</td>\n",
       "    </tr>\n",
       "    <tr>\n",
       "        <td>Professor</td>\n",
       "        <td>2</td>\n",
       "    </tr>\n",
       "</table>"
      ],
      "text/plain": [
       "[('HOD', 3), ('Instructor', 2), ('Professor', 2)]"
      ]
     },
     "execution_count": 6,
     "metadata": {},
     "output_type": "execute_result"
    }
   ],
   "source": [
    "# solution\n",
    "%sql select designation as dept,count(1) from emp group by designation;"
   ]
  },
  {
   "cell_type": "code",
   "execution_count": 8,
   "id": "2c8080e0",
   "metadata": {},
   "outputs": [
    {
     "name": "stdout",
     "output_type": "stream",
     "text": [
      " * sqlite://\n",
      "Done.\n"
     ]
    },
    {
     "data": {
      "text/plain": [
       "[]"
      ]
     },
     "execution_count": 8,
     "metadata": {},
     "output_type": "execute_result"
    }
   ],
   "source": [
    "%sql drop table emp;"
   ]
  },
  {
   "cell_type": "markdown",
   "id": "9828e85e",
   "metadata": {},
   "source": [
    "<hr>\n",
    "\n",
    "## Q2.Fetch the number of employees earning salary greater than 500\n",
    "\n",
    "***create table emp(id number,name varchar2(50),designation varchar2(50),salary number);<br>\n",
    "insert into emp values(1,'Aman','HOD',400);<br>\n",
    "insert into emp values(2,'Rajesh','HOD',500);<br>\n",
    "insert into emp values(7,'Rakesh','HOD',700);<br>\n",
    "insert into emp values(3,'Karan','Professor',800);<br>\n",
    "insert into emp values(4,'Henry','Professor',300);<br>\n",
    "insert into emp values(5,'Kunal','Instructor',400);<br>\n",
    "insert into emp values(6,'Yusuf','Instructor',200);***"
   ]
  },
  {
   "cell_type": "code",
   "execution_count": 9,
   "id": "bd2f81c2",
   "metadata": {},
   "outputs": [
    {
     "name": "stdout",
     "output_type": "stream",
     "text": [
      " * sqlite://\n",
      "Done.\n",
      "1 rows affected.\n",
      "1 rows affected.\n",
      "1 rows affected.\n",
      "1 rows affected.\n",
      "1 rows affected.\n",
      "1 rows affected.\n",
      "1 rows affected.\n",
      " * sqlite://\n",
      "Done.\n"
     ]
    },
    {
     "data": {
      "text/html": [
       "<table>\n",
       "    <tr>\n",
       "        <th>id</th>\n",
       "        <th>name</th>\n",
       "        <th>designation</th>\n",
       "        <th>salary</th>\n",
       "    </tr>\n",
       "    <tr>\n",
       "        <td>1</td>\n",
       "        <td>Aman</td>\n",
       "        <td>HOD</td>\n",
       "        <td>400</td>\n",
       "    </tr>\n",
       "    <tr>\n",
       "        <td>2</td>\n",
       "        <td>Rajesh</td>\n",
       "        <td>HOD</td>\n",
       "        <td>500</td>\n",
       "    </tr>\n",
       "    <tr>\n",
       "        <td>7</td>\n",
       "        <td>Rakesh</td>\n",
       "        <td>HOD</td>\n",
       "        <td>700</td>\n",
       "    </tr>\n",
       "    <tr>\n",
       "        <td>3</td>\n",
       "        <td>Karan</td>\n",
       "        <td>Professor</td>\n",
       "        <td>800</td>\n",
       "    </tr>\n",
       "    <tr>\n",
       "        <td>4</td>\n",
       "        <td>Henry</td>\n",
       "        <td>Professor</td>\n",
       "        <td>300</td>\n",
       "    </tr>\n",
       "    <tr>\n",
       "        <td>5</td>\n",
       "        <td>Kunal</td>\n",
       "        <td>Instructor</td>\n",
       "        <td>400</td>\n",
       "    </tr>\n",
       "    <tr>\n",
       "        <td>6</td>\n",
       "        <td>Yusuf</td>\n",
       "        <td>Instructor</td>\n",
       "        <td>200</td>\n",
       "    </tr>\n",
       "</table>"
      ],
      "text/plain": [
       "[(1, 'Aman', 'HOD', 400),\n",
       " (2, 'Rajesh', 'HOD', 500),\n",
       " (7, 'Rakesh', 'HOD', 700),\n",
       " (3, 'Karan', 'Professor', 800),\n",
       " (4, 'Henry', 'Professor', 300),\n",
       " (5, 'Kunal', 'Instructor', 400),\n",
       " (6, 'Yusuf', 'Instructor', 200)]"
      ]
     },
     "execution_count": 9,
     "metadata": {},
     "output_type": "execute_result"
    }
   ],
   "source": [
    "%sql create table emp(id number,name varchar2(50),designation varchar2(50),salary number);insert into emp values(1,'Aman','HOD',400);insert into emp values(2,'Rajesh','HOD',500);insert into emp values(7,'Rakesh','HOD',700);insert into emp values(3,'Karan','Professor',800);insert into emp values(4,'Henry','Professor',300);insert into emp values(5,'Kunal','Instructor',400);insert into emp values(6,'Yusuf','Instructor',200);\n",
    "%sql select * from emp;"
   ]
  },
  {
   "cell_type": "code",
   "execution_count": 10,
   "id": "d5bae305",
   "metadata": {},
   "outputs": [
    {
     "name": "stdout",
     "output_type": "stream",
     "text": [
      " * sqlite://\n",
      "Done.\n"
     ]
    },
    {
     "data": {
      "text/html": [
       "<table>\n",
       "    <tr>\n",
       "        <th>count(salary)</th>\n",
       "    </tr>\n",
       "    <tr>\n",
       "        <td>2</td>\n",
       "    </tr>\n",
       "</table>"
      ],
      "text/plain": [
       "[(2,)]"
      ]
     },
     "execution_count": 10,
     "metadata": {},
     "output_type": "execute_result"
    }
   ],
   "source": [
    "# solution\n",
    "%sql select count(salary) from emp where salary > 500; "
   ]
  },
  {
   "cell_type": "code",
   "execution_count": 11,
   "id": "2e708040",
   "metadata": {},
   "outputs": [
    {
     "name": "stdout",
     "output_type": "stream",
     "text": [
      " * sqlite://\n",
      "Done.\n"
     ]
    },
    {
     "data": {
      "text/plain": [
       "[]"
      ]
     },
     "execution_count": 11,
     "metadata": {},
     "output_type": "execute_result"
    }
   ],
   "source": [
    "%sql drop table emp;"
   ]
  },
  {
   "cell_type": "markdown",
   "id": "76840e7d",
   "metadata": {},
   "source": [
    "<hr>\n",
    "\n",
    "## Q3.Explain the output of count(*),count(mgrid),count('mgrid'),count(empid) and count(empname).\n",
    "\n",
    "***Create table employee(empid number,empname varchar2(10),Mgrid number);<br>\n",
    "insert into employee values(1,'A',4);<br>\n",
    "insert into employee values(2,'B',5);<br>\n",
    "insert into employee values(3,'C',6);<br>\n",
    "insert into employee values(4,'D',5);<br>\n",
    "insert into employee values(5,'E',null);<br>\n",
    "insert into employee values(6,'F',null);***"
   ]
  },
  {
   "cell_type": "code",
   "execution_count": 13,
   "id": "4403d9d1",
   "metadata": {},
   "outputs": [
    {
     "name": "stdout",
     "output_type": "stream",
     "text": [
      " * sqlite://\n",
      "Done.\n",
      "1 rows affected.\n",
      "1 rows affected.\n",
      "1 rows affected.\n",
      "1 rows affected.\n",
      "1 rows affected.\n",
      "1 rows affected.\n",
      " * sqlite://\n",
      "Done.\n"
     ]
    },
    {
     "data": {
      "text/html": [
       "<table>\n",
       "    <tr>\n",
       "        <th>empid</th>\n",
       "        <th>empname</th>\n",
       "        <th>Mgrid</th>\n",
       "    </tr>\n",
       "    <tr>\n",
       "        <td>1</td>\n",
       "        <td>A</td>\n",
       "        <td>4</td>\n",
       "    </tr>\n",
       "    <tr>\n",
       "        <td>2</td>\n",
       "        <td>B</td>\n",
       "        <td>5</td>\n",
       "    </tr>\n",
       "    <tr>\n",
       "        <td>3</td>\n",
       "        <td>C</td>\n",
       "        <td>6</td>\n",
       "    </tr>\n",
       "    <tr>\n",
       "        <td>4</td>\n",
       "        <td>D</td>\n",
       "        <td>5</td>\n",
       "    </tr>\n",
       "    <tr>\n",
       "        <td>5</td>\n",
       "        <td>E</td>\n",
       "        <td>None</td>\n",
       "    </tr>\n",
       "    <tr>\n",
       "        <td>6</td>\n",
       "        <td>F</td>\n",
       "        <td>None</td>\n",
       "    </tr>\n",
       "</table>"
      ],
      "text/plain": [
       "[(1, 'A', 4),\n",
       " (2, 'B', 5),\n",
       " (3, 'C', 6),\n",
       " (4, 'D', 5),\n",
       " (5, 'E', None),\n",
       " (6, 'F', None)]"
      ]
     },
     "execution_count": 13,
     "metadata": {},
     "output_type": "execute_result"
    }
   ],
   "source": [
    "%sql Create table employee(empid number,empname varchar2(10),Mgrid number);insert into employee values(1,'A',4);insert into employee values(2,'B',5);insert into employee values(3,'C',6);insert into employee values(4,'D',5);insert into employee values(5,'E',null);insert into employee values(6,'F',null);\n",
    "%sql select * from employee;"
   ]
  },
  {
   "cell_type": "code",
   "execution_count": 15,
   "id": "2128ac81",
   "metadata": {},
   "outputs": [
    {
     "name": "stdout",
     "output_type": "stream",
     "text": [
      " * sqlite://\n",
      "Done.\n"
     ]
    },
    {
     "data": {
      "text/html": [
       "<table>\n",
       "    <tr>\n",
       "        <th>count(*)</th>\n",
       "        <th>count(mgrid)</th>\n",
       "        <th>count(&#x27;mgrid&#x27;)</th>\n",
       "        <th>count(empid)</th>\n",
       "        <th>count(empname)</th>\n",
       "    </tr>\n",
       "    <tr>\n",
       "        <td>6</td>\n",
       "        <td>4</td>\n",
       "        <td>6</td>\n",
       "        <td>6</td>\n",
       "        <td>6</td>\n",
       "    </tr>\n",
       "</table>"
      ],
      "text/plain": [
       "[(6, 4, 6, 6, 6)]"
      ]
     },
     "execution_count": 15,
     "metadata": {},
     "output_type": "execute_result"
    }
   ],
   "source": [
    "# solution \n",
    "%sql select count(*),count(mgrid),count('mgrid'),count(empid),count(empname) from employee;\n",
    "\n",
    "#count(*)-->count(1)-->count(8056187685)-->count(-1)\n",
    "#count(*)==>count(any number)==Total count of records in a table\n",
    "#count(string)==>count(*)\n",
    "#-----------summary--------\n",
    "#count(*)==>count(any number)==>count(any string)==Total count of records in a table\n",
    "#--------------------------\n",
    "#count(1)\n",
    "#---------------------\n"
   ]
  },
  {
   "cell_type": "code",
   "execution_count": 16,
   "id": "05ef8ceb",
   "metadata": {},
   "outputs": [
    {
     "name": "stdout",
     "output_type": "stream",
     "text": [
      " * sqlite://\n",
      "Done.\n"
     ]
    },
    {
     "data": {
      "text/plain": [
       "[]"
      ]
     },
     "execution_count": 16,
     "metadata": {},
     "output_type": "execute_result"
    }
   ],
   "source": [
    "%sql drop table employee;"
   ]
  },
  {
   "cell_type": "markdown",
   "id": "df634f74",
   "metadata": {},
   "source": [
    "<hr>\n",
    "\n",
    "## Q4.Write an SQL query to find if NULL record exists in mgrid column.\n",
    "\n",
    "***Create table employee(empid number,empname varchar2(10),Mgrid number);<br>\n",
    "insert into employee values(1,'A',4);<br>\n",
    "insert into employee values(2,'B',5);<br>\n",
    "insert into employee values(3,'C',6);<br>\n",
    "insert into employee values(4,'D',5);<br>\n",
    "insert into employee values(5,'E',null);<br>\n",
    "insert into employee values(6,'F',null);***"
   ]
  },
  {
   "cell_type": "code",
   "execution_count": 26,
   "id": "727f98e4",
   "metadata": {
    "scrolled": true
   },
   "outputs": [
    {
     "name": "stdout",
     "output_type": "stream",
     "text": [
      " * sqlite://\n",
      "Done.\n"
     ]
    },
    {
     "data": {
      "text/html": [
       "<table>\n",
       "    <tr>\n",
       "        <th>empid</th>\n",
       "        <th>empname</th>\n",
       "        <th>Mgrid</th>\n",
       "    </tr>\n",
       "    <tr>\n",
       "        <td>1</td>\n",
       "        <td>A</td>\n",
       "        <td>4</td>\n",
       "    </tr>\n",
       "    <tr>\n",
       "        <td>2</td>\n",
       "        <td>B</td>\n",
       "        <td>5</td>\n",
       "    </tr>\n",
       "    <tr>\n",
       "        <td>3</td>\n",
       "        <td>C</td>\n",
       "        <td>6</td>\n",
       "    </tr>\n",
       "    <tr>\n",
       "        <td>4</td>\n",
       "        <td>D</td>\n",
       "        <td>5</td>\n",
       "    </tr>\n",
       "    <tr>\n",
       "        <td>5</td>\n",
       "        <td>E</td>\n",
       "        <td>None</td>\n",
       "    </tr>\n",
       "    <tr>\n",
       "        <td>6</td>\n",
       "        <td>F</td>\n",
       "        <td>None</td>\n",
       "    </tr>\n",
       "</table>"
      ],
      "text/plain": [
       "[(1, 'A', 4),\n",
       " (2, 'B', 5),\n",
       " (3, 'C', 6),\n",
       " (4, 'D', 5),\n",
       " (5, 'E', None),\n",
       " (6, 'F', None)]"
      ]
     },
     "execution_count": 26,
     "metadata": {},
     "output_type": "execute_result"
    }
   ],
   "source": [
    "%sql Create table employee(empid number,empname varchar2(10),Mgrid number);insert into employee values(1,'A',4);insert into employee values(2,'B',5);insert into employee values(3,'C',6);insert into employee values(4,'D',5);insert into employee values(5,'E',null);insert into employee values(6,'F',null);\n",
    "%sql select * from employee; "
   ]
  },
  {
   "cell_type": "code",
   "execution_count": 38,
   "id": "d3132407",
   "metadata": {},
   "outputs": [
    {
     "name": "stdout",
     "output_type": "stream",
     "text": [
      " * sqlite://\n",
      "Done.\n"
     ]
    },
    {
     "data": {
      "text/html": [
       "<table>\n",
       "    <tr>\n",
       "        <th>Mgrid</th>\n",
       "        <th>status</th>\n",
       "    </tr>\n",
       "    <tr>\n",
       "        <td>4</td>\n",
       "        <td>0</td>\n",
       "    </tr>\n",
       "    <tr>\n",
       "        <td>5</td>\n",
       "        <td>0</td>\n",
       "    </tr>\n",
       "    <tr>\n",
       "        <td>6</td>\n",
       "        <td>0</td>\n",
       "    </tr>\n",
       "    <tr>\n",
       "        <td>5</td>\n",
       "        <td>0</td>\n",
       "    </tr>\n",
       "    <tr>\n",
       "        <td>None</td>\n",
       "        <td>1</td>\n",
       "    </tr>\n",
       "    <tr>\n",
       "        <td>None</td>\n",
       "        <td>1</td>\n",
       "    </tr>\n",
       "</table>"
      ],
      "text/plain": [
       "[(4, 0), (5, 0), (6, 0), (5, 0), (None, 1), (None, 1)]"
      ]
     },
     "execution_count": 38,
     "metadata": {},
     "output_type": "execute_result"
    }
   ],
   "source": [
    "%sql select mgrid,case when mgrid is null then \"True\" else \"False\" end as status from employee;"
   ]
  },
  {
   "cell_type": "code",
   "execution_count": 39,
   "id": "cde15b3c",
   "metadata": {},
   "outputs": [
    {
     "name": "stdout",
     "output_type": "stream",
     "text": [
      " * sqlite://\n",
      "Done.\n"
     ]
    },
    {
     "data": {
      "text/plain": [
       "[]"
      ]
     },
     "execution_count": 39,
     "metadata": {},
     "output_type": "execute_result"
    }
   ],
   "source": [
    "%sql drop table employee;"
   ]
  },
  {
   "cell_type": "markdown",
   "id": "0758db74",
   "metadata": {},
   "source": [
    "<hr>\n",
    "\n",
    "## Q5.Write an sql query to find the total number of investment done by each investor.\n",
    "\n",
    "***create table investor1(investorname varchar2(40),sector varchar2(50));<br>\n",
    "insert into investor1 values ('Ashneer','Food and Beverages');<br>\n",
    "insert into investor1 values ('Anupam','Automobile');<br>\n",
    "insert into investor1 values ('Piyush','Tech');<br>\n",
    "insert into investor1 values ('Namita','Food and Beverages');<br>\n",
    "insert into investor1 values ('Aman','Food and Beverages');<br>\n",
    "insert into investor1 values ('Namita','Automobile');<br>\n",
    "insert into investor1 values ('Piyush','Energy and Utility');<br>\n",
    "insert into investor1 values ('Vineeta','Food and Beverages');***"
   ]
  },
  {
   "cell_type": "code",
   "execution_count": 40,
   "id": "e361e50b",
   "metadata": {},
   "outputs": [
    {
     "name": "stdout",
     "output_type": "stream",
     "text": [
      " * sqlite://\n",
      "Done.\n",
      "1 rows affected.\n",
      "1 rows affected.\n",
      "1 rows affected.\n",
      "1 rows affected.\n",
      "1 rows affected.\n",
      "1 rows affected.\n",
      "1 rows affected.\n",
      "1 rows affected.\n",
      " * sqlite://\n",
      "Done.\n"
     ]
    },
    {
     "data": {
      "text/html": [
       "<table>\n",
       "    <tr>\n",
       "        <th>investorname</th>\n",
       "        <th>sector</th>\n",
       "    </tr>\n",
       "    <tr>\n",
       "        <td>Ashneer</td>\n",
       "        <td>Food and Beverages</td>\n",
       "    </tr>\n",
       "    <tr>\n",
       "        <td>Anupam</td>\n",
       "        <td>Automobile</td>\n",
       "    </tr>\n",
       "    <tr>\n",
       "        <td>Piyush</td>\n",
       "        <td>Tech</td>\n",
       "    </tr>\n",
       "    <tr>\n",
       "        <td>Namita</td>\n",
       "        <td>Food and Beverages</td>\n",
       "    </tr>\n",
       "    <tr>\n",
       "        <td>Aman</td>\n",
       "        <td>Food and Beverages</td>\n",
       "    </tr>\n",
       "    <tr>\n",
       "        <td>Namita</td>\n",
       "        <td>Automobile</td>\n",
       "    </tr>\n",
       "    <tr>\n",
       "        <td>Piyush</td>\n",
       "        <td>Energy and Utility</td>\n",
       "    </tr>\n",
       "    <tr>\n",
       "        <td>Vineeta</td>\n",
       "        <td>Food and Beverages</td>\n",
       "    </tr>\n",
       "</table>"
      ],
      "text/plain": [
       "[('Ashneer', 'Food and Beverages'),\n",
       " ('Anupam', 'Automobile'),\n",
       " ('Piyush', 'Tech'),\n",
       " ('Namita', 'Food and Beverages'),\n",
       " ('Aman', 'Food and Beverages'),\n",
       " ('Namita', 'Automobile'),\n",
       " ('Piyush', 'Energy and Utility'),\n",
       " ('Vineeta', 'Food and Beverages')]"
      ]
     },
     "execution_count": 40,
     "metadata": {},
     "output_type": "execute_result"
    }
   ],
   "source": [
    "%sql create table investor1(investorname varchar2(40),sector varchar2(50));insert into investor1 values ('Ashneer','Food and Beverages');insert into investor1 values ('Anupam','Automobile');insert into investor1 values ('Piyush','Tech');insert into investor1 values ('Namita','Food and Beverages');insert into investor1 values ('Aman','Food and Beverages');insert into investor1 values ('Namita','Automobile');insert into investor1 values ('Piyush','Energy and Utility');insert into investor1 values ('Vineeta','Food and Beverages');\n",
    "%sql select * from investor1;"
   ]
  },
  {
   "cell_type": "code",
   "execution_count": 49,
   "id": "7469d112",
   "metadata": {},
   "outputs": [
    {
     "name": "stdout",
     "output_type": "stream",
     "text": [
      " * sqlite://\n",
      "Done.\n"
     ]
    },
    {
     "data": {
      "text/html": [
       "<table>\n",
       "    <tr>\n",
       "        <th>Name</th>\n",
       "        <th>count(&#x27;Investments&#x27;)</th>\n",
       "    </tr>\n",
       "    <tr>\n",
       "        <td>Aman</td>\n",
       "        <td>1</td>\n",
       "    </tr>\n",
       "    <tr>\n",
       "        <td>Anupam</td>\n",
       "        <td>1</td>\n",
       "    </tr>\n",
       "    <tr>\n",
       "        <td>Ashneer</td>\n",
       "        <td>1</td>\n",
       "    </tr>\n",
       "    <tr>\n",
       "        <td>Namita</td>\n",
       "        <td>2</td>\n",
       "    </tr>\n",
       "    <tr>\n",
       "        <td>Piyush</td>\n",
       "        <td>2</td>\n",
       "    </tr>\n",
       "    <tr>\n",
       "        <td>Vineeta</td>\n",
       "        <td>1</td>\n",
       "    </tr>\n",
       "</table>"
      ],
      "text/plain": [
       "[('Aman', 1),\n",
       " ('Anupam', 1),\n",
       " ('Ashneer', 1),\n",
       " ('Namita', 2),\n",
       " ('Piyush', 2),\n",
       " ('Vineeta', 1)]"
      ]
     },
     "execution_count": 49,
     "metadata": {},
     "output_type": "execute_result"
    }
   ],
   "source": [
    "# solution\n",
    "%sql select investorname as Name,count('Investments') from investor1 group by investorname;"
   ]
  },
  {
   "cell_type": "code",
   "execution_count": 50,
   "id": "95306a4f",
   "metadata": {},
   "outputs": [
    {
     "name": "stdout",
     "output_type": "stream",
     "text": [
      " * sqlite://\n",
      "Done.\n"
     ]
    },
    {
     "data": {
      "text/plain": [
       "[]"
      ]
     },
     "execution_count": 50,
     "metadata": {},
     "output_type": "execute_result"
    }
   ],
   "source": [
    "%sql drop table investor1;"
   ]
  },
  {
   "cell_type": "markdown",
   "id": "da111f60",
   "metadata": {},
   "source": [
    "<hr>\n",
    "\n",
    "## Q6.Write a SQL query to fetch department wise count of employees.\n",
    "\n",
    "***Create table Dept(Empid number,Empname varchar2(10),Dept varchar2(10));<br>\n",
    "insert into dept values(1,'A','HR');<br>\n",
    "insert into dept values(2,'B','HR');<br>\n",
    "insert into dept values(3,'C','SALES');<br>\n",
    "insert into dept values(4,'D','SALES');<br>\n",
    "insert into dept values(5,'E','SALES');<br>\n",
    "insert into dept values(6,'F',NULL);<br>\n",
    "insert into dept values(7,'G',NULL);***"
   ]
  },
  {
   "cell_type": "code",
   "execution_count": 92,
   "id": "7f298f55",
   "metadata": {},
   "outputs": [
    {
     "name": "stdout",
     "output_type": "stream",
     "text": [
      " * sqlite://\n",
      "Done.\n",
      "1 rows affected.\n",
      "1 rows affected.\n",
      "1 rows affected.\n",
      "1 rows affected.\n",
      "1 rows affected.\n",
      "1 rows affected.\n",
      "1 rows affected.\n",
      " * sqlite://\n",
      "Done.\n"
     ]
    },
    {
     "data": {
      "text/html": [
       "<table>\n",
       "    <tr>\n",
       "        <th>Empid</th>\n",
       "        <th>Empname</th>\n",
       "        <th>Dept</th>\n",
       "    </tr>\n",
       "    <tr>\n",
       "        <td>1</td>\n",
       "        <td>A</td>\n",
       "        <td>HR</td>\n",
       "    </tr>\n",
       "    <tr>\n",
       "        <td>2</td>\n",
       "        <td>B</td>\n",
       "        <td>HR</td>\n",
       "    </tr>\n",
       "    <tr>\n",
       "        <td>3</td>\n",
       "        <td>C</td>\n",
       "        <td>SALES</td>\n",
       "    </tr>\n",
       "    <tr>\n",
       "        <td>4</td>\n",
       "        <td>D</td>\n",
       "        <td>SALES</td>\n",
       "    </tr>\n",
       "    <tr>\n",
       "        <td>5</td>\n",
       "        <td>E</td>\n",
       "        <td>SALES</td>\n",
       "    </tr>\n",
       "    <tr>\n",
       "        <td>6</td>\n",
       "        <td>F</td>\n",
       "        <td>None</td>\n",
       "    </tr>\n",
       "    <tr>\n",
       "        <td>7</td>\n",
       "        <td>G</td>\n",
       "        <td>None</td>\n",
       "    </tr>\n",
       "</table>"
      ],
      "text/plain": [
       "[(1, 'A', 'HR'),\n",
       " (2, 'B', 'HR'),\n",
       " (3, 'C', 'SALES'),\n",
       " (4, 'D', 'SALES'),\n",
       " (5, 'E', 'SALES'),\n",
       " (6, 'F', None),\n",
       " (7, 'G', None)]"
      ]
     },
     "execution_count": 92,
     "metadata": {},
     "output_type": "execute_result"
    }
   ],
   "source": [
    "%sql Create table Dept(Empid number,Empname varchar2(10),Dept varchar2(10));insert into dept values(1,'A','HR');insert into dept values(2,'B','HR');insert into dept values(3,'C','SALES');insert into dept values(4,'D','SALES');insert into dept values(5,'E','SALES');insert into dept values(6,'F',NULL);insert into dept values(7,'G',NULL);\n",
    "%sql select * from dept;"
   ]
  },
  {
   "cell_type": "code",
   "execution_count": 96,
   "id": "032f2699",
   "metadata": {},
   "outputs": [
    {
     "name": "stdout",
     "output_type": "stream",
     "text": [
      " * sqlite://\n",
      "Done.\n"
     ]
    },
    {
     "data": {
      "text/html": [
       "<table>\n",
       "    <tr>\n",
       "        <th>Dept</th>\n",
       "        <th># of Employees</th>\n",
       "    </tr>\n",
       "    <tr>\n",
       "        <td>None</td>\n",
       "        <td>2</td>\n",
       "    </tr>\n",
       "    <tr>\n",
       "        <td>HR</td>\n",
       "        <td>2</td>\n",
       "    </tr>\n",
       "    <tr>\n",
       "        <td>SALES</td>\n",
       "        <td>3</td>\n",
       "    </tr>\n",
       "</table>"
      ],
      "text/plain": [
       "[(None, 2), ('HR', 2), ('SALES', 3)]"
      ]
     },
     "execution_count": 96,
     "metadata": {},
     "output_type": "execute_result"
    }
   ],
   "source": [
    "# solution\n",
    "%sql select dept,count(*) as '# of Employees' from dept group by dept;"
   ]
  },
  {
   "cell_type": "code",
   "execution_count": 97,
   "id": "d223d3c2",
   "metadata": {},
   "outputs": [
    {
     "name": "stdout",
     "output_type": "stream",
     "text": [
      " * sqlite://\n",
      "Done.\n"
     ]
    },
    {
     "data": {
      "text/plain": [
       "[]"
      ]
     },
     "execution_count": 97,
     "metadata": {},
     "output_type": "execute_result"
    }
   ],
   "source": [
    "%sql drop table dept;"
   ]
  },
  {
   "cell_type": "markdown",
   "id": "6ac160b0",
   "metadata": {},
   "source": [
    "<hr>\n",
    "\n",
    "## Q7.Write a SQL query to find the total number of students gender wise.\n",
    "\n",
    "***create table stud(studid number,studname varchar2(20),Gender varchar2(5));<br>\n",
    "insert into stud values(1,'Bilal','M');<br>\n",
    "insert into stud values(2,'Suresh','M');<br>\n",
    "insert into stud values(3,'Aman','M');<br>\n",
    "insert into stud values(4,'Swati','F');<br>\n",
    "insert into stud values(5,'Saurabh','M');<br>\n",
    "insert into stud values(6,'Abdul','M');<br>\n",
    "insert into stud values(7,'Ankit','M');<br>\n",
    "insert into stud values(8,'Shruti','F');<br>\n",
    "insert into stud values(9,'Ahmed','M');<br>\n",
    "insert into stud values(10,'Anup','M');<br>\n",
    "insert into stud values(11,'Rakesh','M');<br>\n",
    "insert into stud values(12,'Neha','F');<br>\n",
    "insert into stud values(13,'Suresh','M');<br>\n",
    "insert into stud values(14,'Mukesh','M');<br>\n",
    "insert into stud values(15,'Majid','M');<br>\n",
    "insert into stud values(16,'Priyanka','F');***"
   ]
  },
  {
   "cell_type": "code",
   "execution_count": 57,
   "id": "fd4b5a5c",
   "metadata": {},
   "outputs": [
    {
     "name": "stdout",
     "output_type": "stream",
     "text": [
      " * sqlite://\n",
      "Done.\n",
      "1 rows affected.\n",
      "1 rows affected.\n",
      "1 rows affected.\n",
      "1 rows affected.\n",
      "1 rows affected.\n",
      "1 rows affected.\n",
      "1 rows affected.\n",
      "1 rows affected.\n",
      "1 rows affected.\n",
      "1 rows affected.\n",
      "1 rows affected.\n",
      "1 rows affected.\n",
      "1 rows affected.\n",
      "1 rows affected.\n",
      "1 rows affected.\n",
      "1 rows affected.\n",
      " * sqlite://\n",
      "Done.\n"
     ]
    },
    {
     "data": {
      "text/html": [
       "<table>\n",
       "    <tr>\n",
       "        <th>studid</th>\n",
       "        <th>studname</th>\n",
       "        <th>Gender</th>\n",
       "    </tr>\n",
       "    <tr>\n",
       "        <td>1</td>\n",
       "        <td>Bilal</td>\n",
       "        <td>M</td>\n",
       "    </tr>\n",
       "    <tr>\n",
       "        <td>2</td>\n",
       "        <td>Suresh</td>\n",
       "        <td>M</td>\n",
       "    </tr>\n",
       "    <tr>\n",
       "        <td>3</td>\n",
       "        <td>Aman</td>\n",
       "        <td>M</td>\n",
       "    </tr>\n",
       "    <tr>\n",
       "        <td>4</td>\n",
       "        <td>Swati</td>\n",
       "        <td>F</td>\n",
       "    </tr>\n",
       "    <tr>\n",
       "        <td>5</td>\n",
       "        <td>Saurabh</td>\n",
       "        <td>M</td>\n",
       "    </tr>\n",
       "    <tr>\n",
       "        <td>6</td>\n",
       "        <td>Abdul</td>\n",
       "        <td>M</td>\n",
       "    </tr>\n",
       "    <tr>\n",
       "        <td>7</td>\n",
       "        <td>Ankit</td>\n",
       "        <td>M</td>\n",
       "    </tr>\n",
       "    <tr>\n",
       "        <td>8</td>\n",
       "        <td>Shruti</td>\n",
       "        <td>F</td>\n",
       "    </tr>\n",
       "    <tr>\n",
       "        <td>9</td>\n",
       "        <td>Ahmed</td>\n",
       "        <td>M</td>\n",
       "    </tr>\n",
       "    <tr>\n",
       "        <td>10</td>\n",
       "        <td>Anup</td>\n",
       "        <td>M</td>\n",
       "    </tr>\n",
       "    <tr>\n",
       "        <td>11</td>\n",
       "        <td>Rakesh</td>\n",
       "        <td>M</td>\n",
       "    </tr>\n",
       "    <tr>\n",
       "        <td>12</td>\n",
       "        <td>Neha</td>\n",
       "        <td>F</td>\n",
       "    </tr>\n",
       "    <tr>\n",
       "        <td>13</td>\n",
       "        <td>Suresh</td>\n",
       "        <td>M</td>\n",
       "    </tr>\n",
       "    <tr>\n",
       "        <td>14</td>\n",
       "        <td>Mukesh</td>\n",
       "        <td>M</td>\n",
       "    </tr>\n",
       "    <tr>\n",
       "        <td>15</td>\n",
       "        <td>Majid</td>\n",
       "        <td>M</td>\n",
       "    </tr>\n",
       "    <tr>\n",
       "        <td>16</td>\n",
       "        <td>Priyanka</td>\n",
       "        <td>F</td>\n",
       "    </tr>\n",
       "</table>"
      ],
      "text/plain": [
       "[(1, 'Bilal', 'M'),\n",
       " (2, 'Suresh', 'M'),\n",
       " (3, 'Aman', 'M'),\n",
       " (4, 'Swati', 'F'),\n",
       " (5, 'Saurabh', 'M'),\n",
       " (6, 'Abdul', 'M'),\n",
       " (7, 'Ankit', 'M'),\n",
       " (8, 'Shruti', 'F'),\n",
       " (9, 'Ahmed', 'M'),\n",
       " (10, 'Anup', 'M'),\n",
       " (11, 'Rakesh', 'M'),\n",
       " (12, 'Neha', 'F'),\n",
       " (13, 'Suresh', 'M'),\n",
       " (14, 'Mukesh', 'M'),\n",
       " (15, 'Majid', 'M'),\n",
       " (16, 'Priyanka', 'F')]"
      ]
     },
     "execution_count": 57,
     "metadata": {},
     "output_type": "execute_result"
    }
   ],
   "source": [
    "%sql create table stud(studid number,studname varchar2(20),Gender varchar2(5));insert into stud values(1,'Bilal','M');insert into stud values(2,'Suresh','M');insert into stud values(3,'Aman','M');insert into stud values(4,'Swati','F');insert into stud values(5,'Saurabh','M');insert into stud values(6,'Abdul','M');insert into stud values(7,'Ankit','M');insert into stud values(8,'Shruti','F');insert into stud values(9,'Ahmed','M');insert into stud values(10,'Anup','M');insert into stud values(11,'Rakesh','M');insert into stud values(12,'Neha','F');insert into stud values(13,'Suresh','M');insert into stud values(14,'Mukesh','M');insert into stud values(15,'Majid','M');insert into stud values(16,'Priyanka','F');\n",
    "%sql select * from stud; "
   ]
  },
  {
   "cell_type": "code",
   "execution_count": 61,
   "id": "16379bc6",
   "metadata": {},
   "outputs": [
    {
     "name": "stdout",
     "output_type": "stream",
     "text": [
      " * sqlite://\n",
      "Done.\n"
     ]
    },
    {
     "data": {
      "text/html": [
       "<table>\n",
       "    <tr>\n",
       "        <th>Gender</th>\n",
       "        <th>count(1)</th>\n",
       "    </tr>\n",
       "    <tr>\n",
       "        <td>F</td>\n",
       "        <td>4</td>\n",
       "    </tr>\n",
       "    <tr>\n",
       "        <td>M</td>\n",
       "        <td>12</td>\n",
       "    </tr>\n",
       "</table>"
      ],
      "text/plain": [
       "[('F', 4), ('M', 12)]"
      ]
     },
     "execution_count": 61,
     "metadata": {},
     "output_type": "execute_result"
    }
   ],
   "source": [
    "%sql select gender,count(1) from stud group by gender;"
   ]
  },
  {
   "cell_type": "code",
   "execution_count": 62,
   "id": "7d6445ec",
   "metadata": {},
   "outputs": [
    {
     "name": "stdout",
     "output_type": "stream",
     "text": [
      " * sqlite://\n",
      "Done.\n"
     ]
    },
    {
     "data": {
      "text/plain": [
       "[]"
      ]
     },
     "execution_count": 62,
     "metadata": {},
     "output_type": "execute_result"
    }
   ],
   "source": [
    "%sql drop table stud;"
   ]
  },
  {
   "cell_type": "markdown",
   "id": "3bd6a416",
   "metadata": {},
   "source": [
    "<hr>\n",
    "\n",
    "## Q8. Write an SQL query to fetch the number of students Passed or Failed.\n",
    "\n",
    "***Create table student(id number,name varchar2(10),subject varchar2(10),result varchar2(10));<br>\n",
    "insert into student values(1,'A','Maths','Pass');<br>\n",
    "insert into student values(1,'A','Phy','Pass');<br>\n",
    "insert into student values(1,'A','Chem','Fail');<br>\n",
    "insert into student values(1,'A','Chem','Fail');<br>\n",
    "insert into student values(2,'B','Maths','Pass');<br>\n",
    "insert into student values(2,'B','Phy','Fail');<br>\n",
    "insert into student values(2,'B','Chem','Fail');<br>\n",
    "insert into student values(3,'C','Maths','Pass');<br>\n",
    "insert into student values(3,'C','Phy','Pass');<br>\n",
    "insert into student values(3,'C','Chem','Fail');***"
   ]
  },
  {
   "cell_type": "code",
   "execution_count": 63,
   "id": "a2b16327",
   "metadata": {},
   "outputs": [
    {
     "name": "stdout",
     "output_type": "stream",
     "text": [
      " * sqlite://\n",
      "Done.\n",
      "1 rows affected.\n",
      "1 rows affected.\n",
      "1 rows affected.\n",
      "1 rows affected.\n",
      "1 rows affected.\n",
      "1 rows affected.\n",
      "1 rows affected.\n",
      "1 rows affected.\n",
      "1 rows affected.\n",
      "1 rows affected.\n",
      " * sqlite://\n",
      "Done.\n"
     ]
    },
    {
     "data": {
      "text/html": [
       "<table>\n",
       "    <tr>\n",
       "        <th>id</th>\n",
       "        <th>name</th>\n",
       "        <th>subject</th>\n",
       "        <th>result</th>\n",
       "    </tr>\n",
       "    <tr>\n",
       "        <td>1</td>\n",
       "        <td>A</td>\n",
       "        <td>Maths</td>\n",
       "        <td>Pass</td>\n",
       "    </tr>\n",
       "    <tr>\n",
       "        <td>1</td>\n",
       "        <td>A</td>\n",
       "        <td>Phy</td>\n",
       "        <td>Pass</td>\n",
       "    </tr>\n",
       "    <tr>\n",
       "        <td>1</td>\n",
       "        <td>A</td>\n",
       "        <td>Chem</td>\n",
       "        <td>Fail</td>\n",
       "    </tr>\n",
       "    <tr>\n",
       "        <td>1</td>\n",
       "        <td>A</td>\n",
       "        <td>Chem</td>\n",
       "        <td>Fail</td>\n",
       "    </tr>\n",
       "    <tr>\n",
       "        <td>2</td>\n",
       "        <td>B</td>\n",
       "        <td>Maths</td>\n",
       "        <td>Pass</td>\n",
       "    </tr>\n",
       "    <tr>\n",
       "        <td>2</td>\n",
       "        <td>B</td>\n",
       "        <td>Phy</td>\n",
       "        <td>Fail</td>\n",
       "    </tr>\n",
       "    <tr>\n",
       "        <td>2</td>\n",
       "        <td>B</td>\n",
       "        <td>Chem</td>\n",
       "        <td>Fail</td>\n",
       "    </tr>\n",
       "    <tr>\n",
       "        <td>3</td>\n",
       "        <td>C</td>\n",
       "        <td>Maths</td>\n",
       "        <td>Pass</td>\n",
       "    </tr>\n",
       "    <tr>\n",
       "        <td>3</td>\n",
       "        <td>C</td>\n",
       "        <td>Phy</td>\n",
       "        <td>Pass</td>\n",
       "    </tr>\n",
       "    <tr>\n",
       "        <td>3</td>\n",
       "        <td>C</td>\n",
       "        <td>Chem</td>\n",
       "        <td>Fail</td>\n",
       "    </tr>\n",
       "</table>"
      ],
      "text/plain": [
       "[(1, 'A', 'Maths', 'Pass'),\n",
       " (1, 'A', 'Phy', 'Pass'),\n",
       " (1, 'A', 'Chem', 'Fail'),\n",
       " (1, 'A', 'Chem', 'Fail'),\n",
       " (2, 'B', 'Maths', 'Pass'),\n",
       " (2, 'B', 'Phy', 'Fail'),\n",
       " (2, 'B', 'Chem', 'Fail'),\n",
       " (3, 'C', 'Maths', 'Pass'),\n",
       " (3, 'C', 'Phy', 'Pass'),\n",
       " (3, 'C', 'Chem', 'Fail')]"
      ]
     },
     "execution_count": 63,
     "metadata": {},
     "output_type": "execute_result"
    }
   ],
   "source": [
    "%sql Create table student(id number,name varchar2(10),subject varchar2(10),result varchar2(10));insert into student values(1,'A','Maths','Pass');insert into student values(1,'A','Phy','Pass');insert into student values(1,'A','Chem','Fail');insert into student values(1,'A','Chem','Fail');insert into student values(2,'B','Maths','Pass');insert into student values(2,'B','Phy','Fail');insert into student values(2,'B','Chem','Fail');insert into student values(3,'C','Maths','Pass');insert into student values(3,'C','Phy','Pass');insert into student values(3,'C','Chem','Fail');\n",
    "%sql select * from student;"
   ]
  },
  {
   "cell_type": "code",
   "execution_count": 64,
   "id": "bb9680f8",
   "metadata": {},
   "outputs": [
    {
     "name": "stdout",
     "output_type": "stream",
     "text": [
      " * sqlite://\n",
      "Done.\n"
     ]
    },
    {
     "data": {
      "text/html": [
       "<table>\n",
       "    <tr>\n",
       "        <th>result</th>\n",
       "        <th>count(1)</th>\n",
       "    </tr>\n",
       "    <tr>\n",
       "        <td>Fail</td>\n",
       "        <td>5</td>\n",
       "    </tr>\n",
       "    <tr>\n",
       "        <td>Pass</td>\n",
       "        <td>5</td>\n",
       "    </tr>\n",
       "</table>"
      ],
      "text/plain": [
       "[('Fail', 5), ('Pass', 5)]"
      ]
     },
     "execution_count": 64,
     "metadata": {},
     "output_type": "execute_result"
    }
   ],
   "source": [
    "%sql select result,count(1) from student group by result;"
   ]
  },
  {
   "cell_type": "code",
   "execution_count": 65,
   "id": "35525655",
   "metadata": {},
   "outputs": [
    {
     "name": "stdout",
     "output_type": "stream",
     "text": [
      " * sqlite://\n",
      "Done.\n"
     ]
    },
    {
     "data": {
      "text/plain": [
       "[]"
      ]
     },
     "execution_count": 65,
     "metadata": {},
     "output_type": "execute_result"
    }
   ],
   "source": [
    "%sql drop table student;"
   ]
  },
  {
   "cell_type": "markdown",
   "id": "3086292c",
   "metadata": {},
   "source": [
    "<hr>\n",
    "\n",
    "## Q9.Write a query to display \n",
    "***a)the total count of records,\n",
    "b)total count of records with subject as Maths,<br>\n",
    "c)total count of records with subject as Phy,<br>\n",
    "d)total count of records with subject as Chem,<br>\n",
    "e)total count of records with result as Pass,<br>\n",
    "f)total count of records with result as Fail***<br>\n",
    "\n",
    "***Create table student(id number,name varchar2(10),subject varchar2(10),result varchar2(10));<br>\n",
    "insert into student values(1,'A','Maths','Pass');<br>\n",
    "insert into student values(1,'A','Phy','Pass');<br>\n",
    "insert into student values(1,'A','Chem','Fail');<br>\n",
    "insert into student values(1,'A','Chem','Fail');<br>\n",
    "insert into student values(2,'B','Maths','Pass');<br>\n",
    "insert into student values(2,'B','Phy','Fail');<br>\n",
    "insert into student values(2,'B','Chem','Fail');<br>\n",
    "insert into student values(3,'C','Maths','Pass');<br>\n",
    "insert into student values(3,'C','Phy','Pass');<br>\n",
    "insert into student values(3,'C','Chem','Fail');***"
   ]
  },
  {
   "cell_type": "code",
   "execution_count": 66,
   "id": "1d24f2e4",
   "metadata": {},
   "outputs": [
    {
     "name": "stdout",
     "output_type": "stream",
     "text": [
      " * sqlite://\n",
      "Done.\n",
      "1 rows affected.\n",
      "1 rows affected.\n",
      "1 rows affected.\n",
      "1 rows affected.\n",
      "1 rows affected.\n",
      "1 rows affected.\n",
      "1 rows affected.\n",
      "1 rows affected.\n",
      "1 rows affected.\n",
      "1 rows affected.\n",
      " * sqlite://\n",
      "Done.\n"
     ]
    },
    {
     "data": {
      "text/html": [
       "<table>\n",
       "    <tr>\n",
       "        <th>id</th>\n",
       "        <th>name</th>\n",
       "        <th>subject</th>\n",
       "        <th>result</th>\n",
       "    </tr>\n",
       "    <tr>\n",
       "        <td>1</td>\n",
       "        <td>A</td>\n",
       "        <td>Maths</td>\n",
       "        <td>Pass</td>\n",
       "    </tr>\n",
       "    <tr>\n",
       "        <td>1</td>\n",
       "        <td>A</td>\n",
       "        <td>Phy</td>\n",
       "        <td>Pass</td>\n",
       "    </tr>\n",
       "    <tr>\n",
       "        <td>1</td>\n",
       "        <td>A</td>\n",
       "        <td>Chem</td>\n",
       "        <td>Fail</td>\n",
       "    </tr>\n",
       "    <tr>\n",
       "        <td>1</td>\n",
       "        <td>A</td>\n",
       "        <td>Chem</td>\n",
       "        <td>Fail</td>\n",
       "    </tr>\n",
       "    <tr>\n",
       "        <td>2</td>\n",
       "        <td>B</td>\n",
       "        <td>Maths</td>\n",
       "        <td>Pass</td>\n",
       "    </tr>\n",
       "    <tr>\n",
       "        <td>2</td>\n",
       "        <td>B</td>\n",
       "        <td>Phy</td>\n",
       "        <td>Fail</td>\n",
       "    </tr>\n",
       "    <tr>\n",
       "        <td>2</td>\n",
       "        <td>B</td>\n",
       "        <td>Chem</td>\n",
       "        <td>Fail</td>\n",
       "    </tr>\n",
       "    <tr>\n",
       "        <td>3</td>\n",
       "        <td>C</td>\n",
       "        <td>Maths</td>\n",
       "        <td>Pass</td>\n",
       "    </tr>\n",
       "    <tr>\n",
       "        <td>3</td>\n",
       "        <td>C</td>\n",
       "        <td>Phy</td>\n",
       "        <td>Pass</td>\n",
       "    </tr>\n",
       "    <tr>\n",
       "        <td>3</td>\n",
       "        <td>C</td>\n",
       "        <td>Chem</td>\n",
       "        <td>Fail</td>\n",
       "    </tr>\n",
       "</table>"
      ],
      "text/plain": [
       "[(1, 'A', 'Maths', 'Pass'),\n",
       " (1, 'A', 'Phy', 'Pass'),\n",
       " (1, 'A', 'Chem', 'Fail'),\n",
       " (1, 'A', 'Chem', 'Fail'),\n",
       " (2, 'B', 'Maths', 'Pass'),\n",
       " (2, 'B', 'Phy', 'Fail'),\n",
       " (2, 'B', 'Chem', 'Fail'),\n",
       " (3, 'C', 'Maths', 'Pass'),\n",
       " (3, 'C', 'Phy', 'Pass'),\n",
       " (3, 'C', 'Chem', 'Fail')]"
      ]
     },
     "execution_count": 66,
     "metadata": {},
     "output_type": "execute_result"
    }
   ],
   "source": [
    "%sql Create table student(id number,name varchar2(10),subject varchar2(10),result varchar2(10));insert into student values(1,'A','Maths','Pass');insert into student values(1,'A','Phy','Pass');insert into student values(1,'A','Chem','Fail');insert into student values(1,'A','Chem','Fail');insert into student values(2,'B','Maths','Pass');insert into student values(2,'B','Phy','Fail');insert into student values(2,'B','Chem','Fail');insert into student values(3,'C','Maths','Pass');insert into student values(3,'C','Phy','Pass');insert into student values(3,'C','Chem','Fail');\n",
    "%sql select * from student;\n"
   ]
  },
  {
   "cell_type": "code",
   "execution_count": 67,
   "id": "be74a7f9",
   "metadata": {},
   "outputs": [
    {
     "name": "stdout",
     "output_type": "stream",
     "text": [
      " * sqlite://\n",
      "Done.\n"
     ]
    },
    {
     "data": {
      "text/html": [
       "<table>\n",
       "    <tr>\n",
       "        <th>count(1)</th>\n",
       "    </tr>\n",
       "    <tr>\n",
       "        <td>10</td>\n",
       "    </tr>\n",
       "</table>"
      ],
      "text/plain": [
       "[(10,)]"
      ]
     },
     "execution_count": 67,
     "metadata": {},
     "output_type": "execute_result"
    }
   ],
   "source": [
    "# solution\n",
    "\n",
    "# a)the total count of records,\n",
    "\n",
    "%sql select count(1) from student;\n"
   ]
  },
  {
   "cell_type": "code",
   "execution_count": 71,
   "id": "33dd7f68",
   "metadata": {},
   "outputs": [
    {
     "name": "stdout",
     "output_type": "stream",
     "text": [
      " * sqlite://\n",
      "Done.\n"
     ]
    },
    {
     "data": {
      "text/html": [
       "<table>\n",
       "    <tr>\n",
       "        <th>subject</th>\n",
       "        <th># od records</th>\n",
       "    </tr>\n",
       "    <tr>\n",
       "        <td>Maths</td>\n",
       "        <td>3</td>\n",
       "    </tr>\n",
       "</table>"
      ],
      "text/plain": [
       "[('Maths', 3)]"
      ]
     },
     "execution_count": 71,
     "metadata": {},
     "output_type": "execute_result"
    }
   ],
   "source": [
    "# b)total count of records with subject as Maths\n",
    "%sql select subject,count(1) as '# od records' from student where subject='Maths';"
   ]
  },
  {
   "cell_type": "code",
   "execution_count": 73,
   "id": "44a88373",
   "metadata": {},
   "outputs": [
    {
     "name": "stdout",
     "output_type": "stream",
     "text": [
      " * sqlite://\n",
      "Done.\n"
     ]
    },
    {
     "data": {
      "text/html": [
       "<table>\n",
       "    <tr>\n",
       "        <th>subject</th>\n",
       "        <th># od records</th>\n",
       "    </tr>\n",
       "    <tr>\n",
       "        <td>Phy</td>\n",
       "        <td>3</td>\n",
       "    </tr>\n",
       "</table>"
      ],
      "text/plain": [
       "[('Phy', 3)]"
      ]
     },
     "execution_count": 73,
     "metadata": {},
     "output_type": "execute_result"
    }
   ],
   "source": [
    "# c)total count of records with subject as Phy,\n",
    "%sql select subject,count(1) as '# od records' from student where subject='Phy';"
   ]
  },
  {
   "cell_type": "code",
   "execution_count": 75,
   "id": "c766c0e4",
   "metadata": {},
   "outputs": [
    {
     "name": "stdout",
     "output_type": "stream",
     "text": [
      " * sqlite://\n",
      "Done.\n"
     ]
    },
    {
     "data": {
      "text/html": [
       "<table>\n",
       "    <tr>\n",
       "        <th>subject</th>\n",
       "        <th># od records</th>\n",
       "    </tr>\n",
       "    <tr>\n",
       "        <td>Chem</td>\n",
       "        <td>4</td>\n",
       "    </tr>\n",
       "</table>"
      ],
      "text/plain": [
       "[('Chem', 4)]"
      ]
     },
     "execution_count": 75,
     "metadata": {},
     "output_type": "execute_result"
    }
   ],
   "source": [
    "# d)total count of records with subject as Chem,\n",
    "%sql select subject,count(1) as '# od records' from student where subject='Chem';"
   ]
  },
  {
   "cell_type": "code",
   "execution_count": 77,
   "id": "1e6eb994",
   "metadata": {},
   "outputs": [
    {
     "name": "stdout",
     "output_type": "stream",
     "text": [
      " * sqlite://\n",
      "Done.\n"
     ]
    },
    {
     "data": {
      "text/html": [
       "<table>\n",
       "    <tr>\n",
       "        <th>result</th>\n",
       "        <th>count(1)</th>\n",
       "    </tr>\n",
       "    <tr>\n",
       "        <td>Pass</td>\n",
       "        <td>5</td>\n",
       "    </tr>\n",
       "</table>"
      ],
      "text/plain": [
       "[('Pass', 5)]"
      ]
     },
     "execution_count": 77,
     "metadata": {},
     "output_type": "execute_result"
    }
   ],
   "source": [
    "# e)total count of records with result as Pass,\n",
    "%sql select result,count(1) from student where result='Pass';"
   ]
  },
  {
   "cell_type": "code",
   "execution_count": 78,
   "id": "23a88a6c",
   "metadata": {},
   "outputs": [
    {
     "name": "stdout",
     "output_type": "stream",
     "text": [
      " * sqlite://\n",
      "Done.\n"
     ]
    },
    {
     "data": {
      "text/html": [
       "<table>\n",
       "    <tr>\n",
       "        <th>result</th>\n",
       "        <th>count(1)</th>\n",
       "    </tr>\n",
       "    <tr>\n",
       "        <td>Fail</td>\n",
       "        <td>5</td>\n",
       "    </tr>\n",
       "</table>"
      ],
      "text/plain": [
       "[('Fail', 5)]"
      ]
     },
     "execution_count": 78,
     "metadata": {},
     "output_type": "execute_result"
    }
   ],
   "source": [
    "# f)total count of records with result as Fail\n",
    "%sql select result,count(1) from student where result<>'Pass';"
   ]
  },
  {
   "cell_type": "code",
   "execution_count": 80,
   "id": "0a2ce041",
   "metadata": {},
   "outputs": [
    {
     "name": "stdout",
     "output_type": "stream",
     "text": [
      " * sqlite://\n",
      "Done.\n"
     ]
    },
    {
     "data": {
      "text/plain": [
       "[]"
      ]
     },
     "execution_count": 80,
     "metadata": {},
     "output_type": "execute_result"
    }
   ],
   "source": [
    "%sql drop table student;"
   ]
  },
  {
   "cell_type": "markdown",
   "id": "d85f7130",
   "metadata": {},
   "source": [
    "<hr>\n",
    "\n",
    "## Q10.Write an SQL query to find the total number of students  \n",
    "***a)who has scored marks greater than equal to 80<br>\n",
    "b)who has scored less than equal to 90<br>\n",
    "c)who has scored marks greater than 50 but less than 95<br>\n",
    "d)who has scored marks greater than equal to 50 and less than equal to 95***<br>\n",
    "\n",
    "***Create table Student(Studid number,NAME varchar2(10),Subject varchar2(20),marks number);<br>\n",
    "insert into student values(1,'A','Phy','90');<br>\n",
    "insert into student values(1,'A','Che','95');<br>\n",
    "insert into student values(2,'B','Phy','80');<br>\n",
    "insert into student values(2,'B','Che','85');<br>\n",
    "insert into student values(3,'C','Phy','90');<br>\n",
    "insert into student values(4,'D','Phy','75');<br>\n",
    "insert into student values(4,'D','Che','90');<br>\n",
    "insert into student values(5,'E','Che','95');***<br>"
   ]
  },
  {
   "cell_type": "code",
   "execution_count": 81,
   "id": "f110293e",
   "metadata": {},
   "outputs": [
    {
     "name": "stdout",
     "output_type": "stream",
     "text": [
      " * sqlite://\n",
      "Done.\n",
      "1 rows affected.\n",
      "1 rows affected.\n",
      "1 rows affected.\n",
      "1 rows affected.\n",
      "1 rows affected.\n",
      "1 rows affected.\n",
      "1 rows affected.\n",
      "1 rows affected.\n",
      " * sqlite://\n",
      "Done.\n"
     ]
    },
    {
     "data": {
      "text/html": [
       "<table>\n",
       "    <tr>\n",
       "        <th>Studid</th>\n",
       "        <th>NAME</th>\n",
       "        <th>Subject</th>\n",
       "        <th>marks</th>\n",
       "    </tr>\n",
       "    <tr>\n",
       "        <td>1</td>\n",
       "        <td>A</td>\n",
       "        <td>Phy</td>\n",
       "        <td>90</td>\n",
       "    </tr>\n",
       "    <tr>\n",
       "        <td>1</td>\n",
       "        <td>A</td>\n",
       "        <td>Che</td>\n",
       "        <td>95</td>\n",
       "    </tr>\n",
       "    <tr>\n",
       "        <td>2</td>\n",
       "        <td>B</td>\n",
       "        <td>Phy</td>\n",
       "        <td>80</td>\n",
       "    </tr>\n",
       "    <tr>\n",
       "        <td>2</td>\n",
       "        <td>B</td>\n",
       "        <td>Che</td>\n",
       "        <td>85</td>\n",
       "    </tr>\n",
       "    <tr>\n",
       "        <td>3</td>\n",
       "        <td>C</td>\n",
       "        <td>Phy</td>\n",
       "        <td>90</td>\n",
       "    </tr>\n",
       "    <tr>\n",
       "        <td>4</td>\n",
       "        <td>D</td>\n",
       "        <td>Phy</td>\n",
       "        <td>75</td>\n",
       "    </tr>\n",
       "    <tr>\n",
       "        <td>4</td>\n",
       "        <td>D</td>\n",
       "        <td>Che</td>\n",
       "        <td>90</td>\n",
       "    </tr>\n",
       "    <tr>\n",
       "        <td>5</td>\n",
       "        <td>E</td>\n",
       "        <td>Che</td>\n",
       "        <td>95</td>\n",
       "    </tr>\n",
       "</table>"
      ],
      "text/plain": [
       "[(1, 'A', 'Phy', 90),\n",
       " (1, 'A', 'Che', 95),\n",
       " (2, 'B', 'Phy', 80),\n",
       " (2, 'B', 'Che', 85),\n",
       " (3, 'C', 'Phy', 90),\n",
       " (4, 'D', 'Phy', 75),\n",
       " (4, 'D', 'Che', 90),\n",
       " (5, 'E', 'Che', 95)]"
      ]
     },
     "execution_count": 81,
     "metadata": {},
     "output_type": "execute_result"
    }
   ],
   "source": [
    "%sql Create table Student(Studid number,NAME varchar2(10),Subject varchar2(20),marks number);insert into student values(1,'A','Phy','90');insert into student values(1,'A','Che','95');insert into student values(2,'B','Phy','80');insert into student values(2,'B','Che','85');insert into student values(3,'C','Phy','90');insert into student values(4,'D','Phy','75');insert into student values(4,'D','Che','90');insert into student values(5,'E','Che','95');\n",
    "%sql select * from student;"
   ]
  },
  {
   "cell_type": "code",
   "execution_count": 87,
   "id": "86ed5869",
   "metadata": {},
   "outputs": [
    {
     "name": "stdout",
     "output_type": "stream",
     "text": [
      " * sqlite://\n",
      "Done.\n"
     ]
    },
    {
     "data": {
      "text/html": [
       "<table>\n",
       "    <tr>\n",
       "        <th>Total # of students scoring &gt;=80 </th>\n",
       "    </tr>\n",
       "    <tr>\n",
       "        <td>7</td>\n",
       "    </tr>\n",
       "</table>"
      ],
      "text/plain": [
       "[(7,)]"
      ]
     },
     "execution_count": 87,
     "metadata": {},
     "output_type": "execute_result"
    }
   ],
   "source": [
    "# solution\n",
    "\n",
    "# a)who has scored marks greater than equal to 80\n",
    "%sql select count(1) as 'Total # of students scoring >=80 ' from student where marks >= 80;"
   ]
  },
  {
   "cell_type": "code",
   "execution_count": 86,
   "id": "52b2cd6e",
   "metadata": {},
   "outputs": [
    {
     "name": "stdout",
     "output_type": "stream",
     "text": [
      " * sqlite://\n",
      "Done.\n"
     ]
    },
    {
     "data": {
      "text/html": [
       "<table>\n",
       "    <tr>\n",
       "        <th>Total # of students scoring &lt; 90 </th>\n",
       "    </tr>\n",
       "    <tr>\n",
       "        <td>6</td>\n",
       "    </tr>\n",
       "</table>"
      ],
      "text/plain": [
       "[(6,)]"
      ]
     },
     "execution_count": 86,
     "metadata": {},
     "output_type": "execute_result"
    }
   ],
   "source": [
    "# b)who has scored less than equal to 90\n",
    "%sql select count(1) as 'Total # of students scoring < 90 ' from student where marks <= 90;"
   ]
  },
  {
   "cell_type": "code",
   "execution_count": 90,
   "id": "d36e3dde",
   "metadata": {},
   "outputs": [
    {
     "name": "stdout",
     "output_type": "stream",
     "text": [
      " * sqlite://\n",
      "Done.\n"
     ]
    },
    {
     "data": {
      "text/html": [
       "<table>\n",
       "    <tr>\n",
       "        <th>Total # of students scoring &gt; 50 &lt; 95 </th>\n",
       "    </tr>\n",
       "    <tr>\n",
       "        <td>6</td>\n",
       "    </tr>\n",
       "</table>"
      ],
      "text/plain": [
       "[(6,)]"
      ]
     },
     "execution_count": 90,
     "metadata": {},
     "output_type": "execute_result"
    }
   ],
   "source": [
    "# c)who has scored marks greater than 50 but less than 95\n",
    "%sql select count(1) as 'Total # of students scoring > 50 < 95 ' from student where marks between 51 and 94;"
   ]
  },
  {
   "cell_type": "code",
   "execution_count": 91,
   "id": "c463665f",
   "metadata": {},
   "outputs": [
    {
     "name": "stdout",
     "output_type": "stream",
     "text": [
      " * sqlite://\n",
      "Done.\n"
     ]
    },
    {
     "data": {
      "text/html": [
       "<table>\n",
       "    <tr>\n",
       "        <th>Total # of students scoring &gt;= 50 &lt;= 95 </th>\n",
       "    </tr>\n",
       "    <tr>\n",
       "        <td>8</td>\n",
       "    </tr>\n",
       "</table>"
      ],
      "text/plain": [
       "[(8,)]"
      ]
     },
     "execution_count": 91,
     "metadata": {},
     "output_type": "execute_result"
    }
   ],
   "source": [
    "# d)who has scored marks greater than equal to 50 and less than equal to 95\n",
    "%sql select count(1) as 'Total # of students scoring >= 50 <= 95 ' from student where marks between 50 and 95;"
   ]
  },
  {
   "cell_type": "code",
   "execution_count": null,
   "id": "22fb6b38",
   "metadata": {},
   "outputs": [],
   "source": []
  }
 ],
 "metadata": {
  "kernelspec": {
   "display_name": "Python 3 (ipykernel)",
   "language": "python",
   "name": "python3"
  },
  "language_info": {
   "codemirror_mode": {
    "name": "ipython",
    "version": 3
   },
   "file_extension": ".py",
   "mimetype": "text/x-python",
   "name": "python",
   "nbconvert_exporter": "python",
   "pygments_lexer": "ipython3",
   "version": "3.9.12"
  }
 },
 "nbformat": 4,
 "nbformat_minor": 5
}
