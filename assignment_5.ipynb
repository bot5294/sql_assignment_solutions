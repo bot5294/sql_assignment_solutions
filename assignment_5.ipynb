{
 "cells": [
  {
   "cell_type": "markdown",
   "id": "c349aa25",
   "metadata": {},
   "source": [
    "# TechNest Assignment Solution 5 (22-10-2022)"
   ]
  },
  {
   "cell_type": "code",
   "execution_count": 1,
   "id": "4e31a225",
   "metadata": {},
   "outputs": [
    {
     "name": "stdout",
     "output_type": "stream",
     "text": [
      "Requirement already satisfied: ipython-sql in c:\\users\\bot5294\\anaconda3\\lib\\site-packages (0.4.1)\n",
      "Requirement already satisfied: six in c:\\users\\bot5294\\anaconda3\\lib\\site-packages (from ipython-sql) (1.16.0)\n",
      "Requirement already satisfied: prettytable<1 in c:\\users\\bot5294\\anaconda3\\lib\\site-packages (from ipython-sql) (0.7.2)\n",
      "Requirement already satisfied: ipython>=1.0 in c:\\users\\bot5294\\appdata\\roaming\\python\\python39\\site-packages (from ipython-sql) (8.5.0)\n",
      "Requirement already satisfied: sqlalchemy>=0.6.7 in c:\\users\\bot5294\\anaconda3\\lib\\site-packages (from ipython-sql) (1.4.39)\n",
      "Requirement already satisfied: sqlparse in c:\\users\\bot5294\\anaconda3\\lib\\site-packages (from ipython-sql) (0.4.3)\n",
      "Requirement already satisfied: ipython-genutils>=0.1.0 in c:\\users\\bot5294\\anaconda3\\lib\\site-packages (from ipython-sql) (0.2.0)\n",
      "Requirement already satisfied: jedi>=0.16 in c:\\users\\bot5294\\appdata\\roaming\\python\\python39\\site-packages (from ipython>=1.0->ipython-sql) (0.18.1)\n",
      "Requirement already satisfied: pygments>=2.4.0 in c:\\users\\bot5294\\appdata\\roaming\\python\\python39\\site-packages (from ipython>=1.0->ipython-sql) (2.13.0)\n",
      "Requirement already satisfied: prompt-toolkit<3.1.0,>3.0.1 in c:\\users\\bot5294\\appdata\\roaming\\python\\python39\\site-packages (from ipython>=1.0->ipython-sql) (3.0.31)\n",
      "Requirement already satisfied: matplotlib-inline in c:\\users\\bot5294\\appdata\\roaming\\python\\python39\\site-packages (from ipython>=1.0->ipython-sql) (0.1.6)\n",
      "Requirement already satisfied: stack-data in c:\\users\\bot5294\\appdata\\roaming\\python\\python39\\site-packages (from ipython>=1.0->ipython-sql) (0.5.1)\n",
      "Requirement already satisfied: backcall in c:\\users\\bot5294\\appdata\\roaming\\python\\python39\\site-packages (from ipython>=1.0->ipython-sql) (0.2.0)\n",
      "Requirement already satisfied: pickleshare in c:\\users\\bot5294\\appdata\\roaming\\python\\python39\\site-packages (from ipython>=1.0->ipython-sql) (0.7.5)\n",
      "Requirement already satisfied: colorama in c:\\users\\bot5294\\appdata\\roaming\\python\\python39\\site-packages (from ipython>=1.0->ipython-sql) (0.4.5)\n",
      "Requirement already satisfied: traitlets>=5 in c:\\users\\bot5294\\appdata\\roaming\\python\\python39\\site-packages (from ipython>=1.0->ipython-sql) (5.4.0)\n",
      "Requirement already satisfied: decorator in c:\\users\\bot5294\\appdata\\roaming\\python\\python39\\site-packages (from ipython>=1.0->ipython-sql) (5.1.1)\n",
      "Requirement already satisfied: greenlet!=0.4.17 in c:\\users\\bot5294\\anaconda3\\lib\\site-packages (from sqlalchemy>=0.6.7->ipython-sql) (1.1.1)\n",
      "Requirement already satisfied: parso<0.9.0,>=0.8.0 in c:\\users\\bot5294\\appdata\\roaming\\python\\python39\\site-packages (from jedi>=0.16->ipython>=1.0->ipython-sql) (0.8.3)\n",
      "Requirement already satisfied: wcwidth in c:\\users\\bot5294\\appdata\\roaming\\python\\python39\\site-packages (from prompt-toolkit<3.1.0,>3.0.1->ipython>=1.0->ipython-sql) (0.2.5)\n",
      "Requirement already satisfied: asttokens in c:\\users\\bot5294\\appdata\\roaming\\python\\python39\\site-packages (from stack-data->ipython>=1.0->ipython-sql) (2.0.8)\n",
      "Requirement already satisfied: executing in c:\\users\\bot5294\\appdata\\roaming\\python\\python39\\site-packages (from stack-data->ipython>=1.0->ipython-sql) (1.1.1)\n",
      "Requirement already satisfied: pure-eval in c:\\users\\bot5294\\appdata\\roaming\\python\\python39\\site-packages (from stack-data->ipython>=1.0->ipython-sql) (0.2.2)\n",
      "Note: you may need to restart the kernel to use updated packages.\n"
     ]
    }
   ],
   "source": [
    "pip install ipython-sql"
   ]
  },
  {
   "cell_type": "code",
   "execution_count": 1,
   "id": "60d7a321",
   "metadata": {},
   "outputs": [],
   "source": [
    "%load_ext sql"
   ]
  },
  {
   "cell_type": "code",
   "execution_count": 2,
   "id": "1c668115",
   "metadata": {},
   "outputs": [],
   "source": [
    "%sql sqlite://"
   ]
  },
  {
   "cell_type": "markdown",
   "id": "4bca1ca8",
   "metadata": {},
   "source": [
    "# Q1.Write a SQL query to fetch the student name who has appeared in only 1 subject.\n",
    "\n",
    "***Create table Student(Studid number,NAME varchar2(10),Subject varchar2(20),marks number);<br>\n",
    "insert into student values(1,'A','Phy','90');<br>\n",
    "insert into student values(1,'A','Che','95');<br>\n",
    "insert into student values(2,'B','Phy','80');<br>\n",
    "insert into student values(2,'B','Che','85');<br>\n",
    "insert into student values(3,'C','Phy','90');<br>\n",
    "insert into student values(4,'D','Phy','75');<br>\n",
    "insert into student values(4,'D','Che','90');***"
   ]
  },
  {
   "cell_type": "code",
   "execution_count": 12,
   "id": "0d9c1593",
   "metadata": {},
   "outputs": [
    {
     "name": "stdout",
     "output_type": "stream",
     "text": [
      " * sqlite://\n",
      "Done.\n",
      "1 rows affected.\n",
      "1 rows affected.\n",
      "1 rows affected.\n",
      "1 rows affected.\n",
      "1 rows affected.\n",
      "1 rows affected.\n",
      "1 rows affected.\n"
     ]
    },
    {
     "data": {
      "text/plain": [
       "[]"
      ]
     },
     "execution_count": 12,
     "metadata": {},
     "output_type": "execute_result"
    }
   ],
   "source": [
    "%sql Create table Student(Studid number,NAME varchar2(10),Subject varchar2(20),marks number);insert into student values(1,'A','Phy','90');insert into student values(1,'A','Che','95');insert into student values(2,'B','Phy','80');insert into student values(2,'B','Che','85');insert into student values(3,'C','Phy','90');insert into student values(4,'D','Phy','75');insert into student values(4,'D','Che','90');"
   ]
  },
  {
   "cell_type": "code",
   "execution_count": 6,
   "id": "23664640",
   "metadata": {},
   "outputs": [
    {
     "name": "stdout",
     "output_type": "stream",
     "text": [
      " * sqlite://\n",
      "Done.\n"
     ]
    },
    {
     "data": {
      "text/html": [
       "<table>\n",
       "    <tr>\n",
       "        <th>Studid</th>\n",
       "        <th>NAME</th>\n",
       "        <th>Subject</th>\n",
       "        <th>marks</th>\n",
       "    </tr>\n",
       "    <tr>\n",
       "        <td>1</td>\n",
       "        <td>A</td>\n",
       "        <td>Phy</td>\n",
       "        <td>90</td>\n",
       "    </tr>\n",
       "    <tr>\n",
       "        <td>1</td>\n",
       "        <td>A</td>\n",
       "        <td>Che</td>\n",
       "        <td>95</td>\n",
       "    </tr>\n",
       "    <tr>\n",
       "        <td>2</td>\n",
       "        <td>B</td>\n",
       "        <td>Phy</td>\n",
       "        <td>80</td>\n",
       "    </tr>\n",
       "    <tr>\n",
       "        <td>2</td>\n",
       "        <td>B</td>\n",
       "        <td>Che</td>\n",
       "        <td>85</td>\n",
       "    </tr>\n",
       "    <tr>\n",
       "        <td>3</td>\n",
       "        <td>C</td>\n",
       "        <td>Phy</td>\n",
       "        <td>90</td>\n",
       "    </tr>\n",
       "    <tr>\n",
       "        <td>4</td>\n",
       "        <td>D</td>\n",
       "        <td>Phy</td>\n",
       "        <td>75</td>\n",
       "    </tr>\n",
       "    <tr>\n",
       "        <td>4</td>\n",
       "        <td>D</td>\n",
       "        <td>Che</td>\n",
       "        <td>90</td>\n",
       "    </tr>\n",
       "</table>"
      ],
      "text/plain": [
       "[(1, 'A', 'Phy', 90),\n",
       " (1, 'A', 'Che', 95),\n",
       " (2, 'B', 'Phy', 80),\n",
       " (2, 'B', 'Che', 85),\n",
       " (3, 'C', 'Phy', 90),\n",
       " (4, 'D', 'Phy', 75),\n",
       " (4, 'D', 'Che', 90)]"
      ]
     },
     "execution_count": 6,
     "metadata": {},
     "output_type": "execute_result"
    }
   ],
   "source": [
    "%sql select * from student;"
   ]
  },
  {
   "cell_type": "code",
   "execution_count": 18,
   "id": "5062b925",
   "metadata": {
    "scrolled": true
   },
   "outputs": [
    {
     "name": "stdout",
     "output_type": "stream",
     "text": [
      " * sqlite://\n",
      "Done.\n"
     ]
    },
    {
     "data": {
      "text/html": [
       "<table>\n",
       "    <tr>\n",
       "        <th>name</th>\n",
       "    </tr>\n",
       "    <tr>\n",
       "        <td>C</td>\n",
       "    </tr>\n",
       "</table>"
      ],
      "text/plain": [
       "[('C',)]"
      ]
     },
     "execution_count": 18,
     "metadata": {},
     "output_type": "execute_result"
    }
   ],
   "source": [
    "# solution\n",
    "\n",
    "%sql with q1 as ( select name,count(subject) as num from student group by name), q2 as ( select name from q1 where num=1) select name from q2;"
   ]
  },
  {
   "attachments": {
    "image-2.png": {
     "image/png": "[encoded data removed]"
    },
    "image-3.png": {
     "image/png": "[encoded data removed]"
    },
    "image.png": {
     "image/png": "[encoded data removed]"
    }
   },
   "cell_type": "markdown",
   "id": "e07fb690",
   "metadata": {},
   "source": [
    "# Step by Step solution\n",
    "\n",
    "![image-3.png](attachment:image-3.png)\n",
    "\n",
    "![image.png](attachment:image.png)\n",
    "\n",
    "![image-2.png](attachment:image-2.png)"
   ]
  },
  {
   "cell_type": "code",
   "execution_count": 19,
   "id": "ba0d5512",
   "metadata": {},
   "outputs": [
    {
     "name": "stdout",
     "output_type": "stream",
     "text": [
      " * sqlite://\n",
      "Done.\n"
     ]
    },
    {
     "data": {
      "text/plain": [
       "[]"
      ]
     },
     "execution_count": 19,
     "metadata": {},
     "output_type": "execute_result"
    }
   ],
   "source": [
    "%sql drop table student;"
   ]
  },
  {
   "cell_type": "markdown",
   "id": "273ea6b2",
   "metadata": {},
   "source": [
    "# Q2.Write a SQL query to fetch the student name who has appeared in more than 1 subject.\n",
    "\n",
    "***Create table Student(Studid number,NAME varchar2(10),Subject varchar2(20),marks number);<br>\n",
    "insert into student values(1,'A','Phy','90');<br>\n",
    "insert into student values(1,'A','Che','95');<br>\n",
    "insert into student values(2,'B','Phy','80');<br>\n",
    "insert into student values(2,'B','Che','85');<br>\n",
    "insert into student values(3,'C','Phy','90');<br>\n",
    "insert into student values(4,'D','Phy','75');<br>\n",
    "insert into student values(4,'D','Che','90');***"
   ]
  },
  {
   "cell_type": "code",
   "execution_count": 23,
   "id": "754d5555",
   "metadata": {},
   "outputs": [
    {
     "name": "stdout",
     "output_type": "stream",
     "text": [
      " * sqlite://\n",
      "Done.\n"
     ]
    },
    {
     "data": {
      "text/html": [
       "<table>\n",
       "    <tr>\n",
       "        <th>Studid</th>\n",
       "        <th>NAME</th>\n",
       "        <th>Subject</th>\n",
       "        <th>marks</th>\n",
       "    </tr>\n",
       "    <tr>\n",
       "        <td>1</td>\n",
       "        <td>A</td>\n",
       "        <td>Phy</td>\n",
       "        <td>90</td>\n",
       "    </tr>\n",
       "    <tr>\n",
       "        <td>1</td>\n",
       "        <td>A</td>\n",
       "        <td>Che</td>\n",
       "        <td>95</td>\n",
       "    </tr>\n",
       "    <tr>\n",
       "        <td>2</td>\n",
       "        <td>B</td>\n",
       "        <td>Phy</td>\n",
       "        <td>80</td>\n",
       "    </tr>\n",
       "    <tr>\n",
       "        <td>2</td>\n",
       "        <td>B</td>\n",
       "        <td>Che</td>\n",
       "        <td>85</td>\n",
       "    </tr>\n",
       "    <tr>\n",
       "        <td>3</td>\n",
       "        <td>C</td>\n",
       "        <td>Phy</td>\n",
       "        <td>90</td>\n",
       "    </tr>\n",
       "    <tr>\n",
       "        <td>4</td>\n",
       "        <td>D</td>\n",
       "        <td>Phy</td>\n",
       "        <td>75</td>\n",
       "    </tr>\n",
       "    <tr>\n",
       "        <td>4</td>\n",
       "        <td>D</td>\n",
       "        <td>Che</td>\n",
       "        <td>90</td>\n",
       "    </tr>\n",
       "</table>"
      ],
      "text/plain": [
       "[(1, 'A', 'Phy', 90),\n",
       " (1, 'A', 'Che', 95),\n",
       " (2, 'B', 'Phy', 80),\n",
       " (2, 'B', 'Che', 85),\n",
       " (3, 'C', 'Phy', 90),\n",
       " (4, 'D', 'Phy', 75),\n",
       " (4, 'D', 'Che', 90)]"
      ]
     },
     "execution_count": 23,
     "metadata": {},
     "output_type": "execute_result"
    }
   ],
   "source": [
    "%sql Create table Student(Studid number,NAME varchar2(10),Subject varchar2(20),marks number);insert into student values(1,'A','Phy','90');insert into student values(1,'A','Che','95');insert into student values(2,'B','Phy','80');insert into student values(2,'B','Che','85');insert into student values(3,'C','Phy','90');insert into student values(4,'D','Phy','75');insert into student values(4,'D','Che','90');\n",
    "%sql select * from student;"
   ]
  },
  {
   "cell_type": "code",
   "execution_count": 24,
   "id": "39018a54",
   "metadata": {},
   "outputs": [
    {
     "name": "stdout",
     "output_type": "stream",
     "text": [
      " * sqlite://\n",
      "Done.\n"
     ]
    },
    {
     "data": {
      "text/html": [
       "<table>\n",
       "    <tr>\n",
       "        <th>name</th>\n",
       "    </tr>\n",
       "    <tr>\n",
       "        <td>A</td>\n",
       "    </tr>\n",
       "    <tr>\n",
       "        <td>B</td>\n",
       "    </tr>\n",
       "    <tr>\n",
       "        <td>D</td>\n",
       "    </tr>\n",
       "</table>"
      ],
      "text/plain": [
       "[('A',), ('B',), ('D',)]"
      ]
     },
     "execution_count": 24,
     "metadata": {},
     "output_type": "execute_result"
    }
   ],
   "source": [
    "%sql with q1 as (select name,count(subject) as num from student group by name), q2 as (select name from q1 where num>1) select name from q2;"
   ]
  },
  {
   "attachments": {
    "image-2.png": {
     "image/png": "[encoded data removed]"
    },
    "image-3.png": {
     "image/png": "[encoded data removed]"
    },
    "image.png": {
     "image/png": "[encoded data removed]"
    }
   },
   "cell_type": "markdown",
   "id": "db094866",
   "metadata": {},
   "source": [
    "# Step by Step Solution\n",
    "\n",
    "![image.png](attachment:image.png)\n",
    "\n",
    "![image-2.png](attachment:image-2.png)\n",
    "\n",
    "![image-3.png](attachment:image-3.png)"
   ]
  },
  {
   "cell_type": "code",
   "execution_count": null,
   "id": "fcf325c6",
   "metadata": {},
   "outputs": [],
   "source": [
    "%sql drop table student;"
   ]
  },
  {
   "cell_type": "markdown",
   "id": "4cabe441",
   "metadata": {},
   "source": [
    "# Q3.Write a SQL query to fetch the student name who has appeared in more than 1 subject and have scored marks greater than 85\n",
    "\n",
    "***Create table Student(Studid number,NAME varchar2(10),Subject varchar2(20),marks number);<br>\n",
    "insert into student values(1,'A','Phy','90');<br>\n",
    "insert into student values(1,'A','Che','95');<br>\n",
    "insert into student values(2,'B','Phy','80');<br>\n",
    "insert into student values(2,'B','Che','85');<br>\n",
    "insert into student values(3,'C','Phy','90');<br>\n",
    "insert into student values(4,'D','Phy','75');<br>\n",
    "insert into student values(4,'D','Che','90');***"
   ]
  },
  {
   "cell_type": "code",
   "execution_count": 4,
   "id": "f5f0ca88",
   "metadata": {},
   "outputs": [
    {
     "name": "stdout",
     "output_type": "stream",
     "text": [
      " * sqlite://\n",
      "Done.\n",
      "1 rows affected.\n",
      "1 rows affected.\n",
      "1 rows affected.\n",
      "1 rows affected.\n",
      "1 rows affected.\n",
      "1 rows affected.\n",
      "1 rows affected.\n",
      " * sqlite://\n",
      "Done.\n"
     ]
    },
    {
     "data": {
      "text/html": [
       "<table>\n",
       "    <tr>\n",
       "        <th>Studid</th>\n",
       "        <th>NAME</th>\n",
       "        <th>Subject</th>\n",
       "        <th>marks</th>\n",
       "    </tr>\n",
       "    <tr>\n",
       "        <td>1</td>\n",
       "        <td>A</td>\n",
       "        <td>Phy</td>\n",
       "        <td>90</td>\n",
       "    </tr>\n",
       "    <tr>\n",
       "        <td>1</td>\n",
       "        <td>A</td>\n",
       "        <td>Che</td>\n",
       "        <td>95</td>\n",
       "    </tr>\n",
       "    <tr>\n",
       "        <td>2</td>\n",
       "        <td>B</td>\n",
       "        <td>Phy</td>\n",
       "        <td>80</td>\n",
       "    </tr>\n",
       "    <tr>\n",
       "        <td>2</td>\n",
       "        <td>B</td>\n",
       "        <td>Che</td>\n",
       "        <td>85</td>\n",
       "    </tr>\n",
       "    <tr>\n",
       "        <td>3</td>\n",
       "        <td>C</td>\n",
       "        <td>Phy</td>\n",
       "        <td>90</td>\n",
       "    </tr>\n",
       "    <tr>\n",
       "        <td>4</td>\n",
       "        <td>D</td>\n",
       "        <td>Phy</td>\n",
       "        <td>75</td>\n",
       "    </tr>\n",
       "    <tr>\n",
       "        <td>4</td>\n",
       "        <td>D</td>\n",
       "        <td>Che</td>\n",
       "        <td>90</td>\n",
       "    </tr>\n",
       "</table>"
      ],
      "text/plain": [
       "[(1, 'A', 'Phy', 90),\n",
       " (1, 'A', 'Che', 95),\n",
       " (2, 'B', 'Phy', 80),\n",
       " (2, 'B', 'Che', 85),\n",
       " (3, 'C', 'Phy', 90),\n",
       " (4, 'D', 'Phy', 75),\n",
       " (4, 'D', 'Che', 90)]"
      ]
     },
     "execution_count": 4,
     "metadata": {},
     "output_type": "execute_result"
    }
   ],
   "source": [
    "%sql Create table Student(Studid number,NAME varchar2(10),Subject varchar2(20),marks number);insert into student values(1,'A','Phy','90');insert into student values(1,'A','Che','95');insert into student values(2,'B','Phy','80');insert into student values(2,'B','Che','85');insert into student values(3,'C','Phy','90');insert into student values(4,'D','Phy','75');insert into student values(4,'D','Che','90');\n",
    "%sql select * from student;"
   ]
  },
  {
   "cell_type": "code",
   "execution_count": 9,
   "id": "1ff4fe49",
   "metadata": {},
   "outputs": [
    {
     "name": "stdout",
     "output_type": "stream",
     "text": [
      " * sqlite://\n",
      "Done.\n"
     ]
    },
    {
     "data": {
      "text/html": [
       "<table>\n",
       "    <tr>\n",
       "        <th>name</th>\n",
       "    </tr>\n",
       "    <tr>\n",
       "        <td>A</td>\n",
       "    </tr>\n",
       "</table>"
      ],
      "text/plain": [
       "[('A',)]"
      ]
     },
     "execution_count": 9,
     "metadata": {},
     "output_type": "execute_result"
    }
   ],
   "source": [
    "%sql with q1 as (select name,marks,count(subject) as num from student group by name), q2 as (select name,marks from q1 where num >1), q3 as (select distinct name,marks from q2 where marks > 85 group by marks) select name from q3;"
   ]
  },
  {
   "attachments": {
    "image-2.png": {
     "image/png": "[encoded data removed]"
    },
    "image-3.png": {
     "image/png": "[encoded data removed]"
    },
    "image.png": {
     "image/png": "[encoded data removed]"
    }
   },
   "cell_type": "markdown",
   "id": "649dcdfe",
   "metadata": {},
   "source": [
    "# Step by Step solution\n",
    "\n",
    "\n",
    "![image.png](attachment:image.png)\n",
    "\n",
    "![image-2.png](attachment:image-2.png)\n",
    "\n",
    "![image-3.png](attachment:image-3.png)"
   ]
  },
  {
   "attachments": {
    "image.png": {
     "image/png": "[encoded data removed]"
    }
   },
   "cell_type": "markdown",
   "id": "b23c4f21",
   "metadata": {},
   "source": [
    "![image.png](attachment:image.png)"
   ]
  },
  {
   "cell_type": "markdown",
   "id": "24a51919",
   "metadata": {},
   "source": [
    "# Q4.Write a query and show the details of students who have not failed in any subject.\n",
    "\n",
    "***Create table student(id number,name varchar2(10),subject varchar2(10),result varchar2(10));<br>\n",
    "insert into student values(1,'A','Maths','Pass');<br>\n",
    "insert into student values(1,'A','Phy','Pass');<br>\n",
    "insert into student values(1,'A','Chem','Fail');<br>\n",
    "insert into student values(2,'B','Maths','Pass');<br>\n",
    "insert into student values(2,'B','Phy','Fail');<br>\n",
    "insert into student values(2,'B','Chem','Fail');<br>\n",
    "insert into student values(3,'C','Maths','Pass');<br>\n",
    "insert into student values(3,'C','Phy','Pass');<br>\n",
    "insert into student values(3,'C','Chem','Pass');***"
   ]
  },
  {
   "cell_type": "code",
   "execution_count": 19,
   "id": "3be357e1",
   "metadata": {},
   "outputs": [
    {
     "name": "stdout",
     "output_type": "stream",
     "text": [
      " * sqlite://\n",
      "Done.\n",
      "1 rows affected.\n",
      "1 rows affected.\n",
      "1 rows affected.\n",
      "1 rows affected.\n",
      "1 rows affected.\n",
      "1 rows affected.\n",
      "1 rows affected.\n",
      "1 rows affected.\n",
      "1 rows affected.\n",
      " * sqlite://\n",
      "Done.\n"
     ]
    },
    {
     "data": {
      "text/html": [
       "<table>\n",
       "    <tr>\n",
       "        <th>id</th>\n",
       "        <th>name</th>\n",
       "        <th>subject</th>\n",
       "        <th>result</th>\n",
       "    </tr>\n",
       "    <tr>\n",
       "        <td>1</td>\n",
       "        <td>A</td>\n",
       "        <td>Maths</td>\n",
       "        <td>Pass</td>\n",
       "    </tr>\n",
       "    <tr>\n",
       "        <td>1</td>\n",
       "        <td>A</td>\n",
       "        <td>Phy</td>\n",
       "        <td>Pass</td>\n",
       "    </tr>\n",
       "    <tr>\n",
       "        <td>1</td>\n",
       "        <td>A</td>\n",
       "        <td>Chem</td>\n",
       "        <td>Fail</td>\n",
       "    </tr>\n",
       "    <tr>\n",
       "        <td>2</td>\n",
       "        <td>B</td>\n",
       "        <td>Maths</td>\n",
       "        <td>Pass</td>\n",
       "    </tr>\n",
       "    <tr>\n",
       "        <td>2</td>\n",
       "        <td>B</td>\n",
       "        <td>Phy</td>\n",
       "        <td>Fail</td>\n",
       "    </tr>\n",
       "    <tr>\n",
       "        <td>2</td>\n",
       "        <td>B</td>\n",
       "        <td>Chem</td>\n",
       "        <td>Fail</td>\n",
       "    </tr>\n",
       "    <tr>\n",
       "        <td>3</td>\n",
       "        <td>C</td>\n",
       "        <td>Maths</td>\n",
       "        <td>Pass</td>\n",
       "    </tr>\n",
       "    <tr>\n",
       "        <td>3</td>\n",
       "        <td>C</td>\n",
       "        <td>Phy</td>\n",
       "        <td>Pass</td>\n",
       "    </tr>\n",
       "    <tr>\n",
       "        <td>3</td>\n",
       "        <td>C</td>\n",
       "        <td>Chem</td>\n",
       "        <td>Pass</td>\n",
       "    </tr>\n",
       "</table>"
      ],
      "text/plain": [
       "[(1, 'A', 'Maths', 'Pass'),\n",
       " (1, 'A', 'Phy', 'Pass'),\n",
       " (1, 'A', 'Chem', 'Fail'),\n",
       " (2, 'B', 'Maths', 'Pass'),\n",
       " (2, 'B', 'Phy', 'Fail'),\n",
       " (2, 'B', 'Chem', 'Fail'),\n",
       " (3, 'C', 'Maths', 'Pass'),\n",
       " (3, 'C', 'Phy', 'Pass'),\n",
       " (3, 'C', 'Chem', 'Pass')]"
      ]
     },
     "execution_count": 19,
     "metadata": {},
     "output_type": "execute_result"
    }
   ],
   "source": [
    "%sql Create table student(id number,name varchar2(10),subject varchar2(10),result varchar2(10));insert into student values(1,'A','Maths','Pass');insert into student values(1,'A','Phy','Pass');insert into student values(1,'A','Chem','Fail');insert into student values(2,'B','Maths','Pass');insert into student values(2,'B','Phy','Fail');insert into student values(2,'B','Chem','Fail');insert into student values(3,'C','Maths','Pass');insert into student values(3,'C','Phy','Pass');insert into student values(3,'C','Chem','Pass');\n",
    "%sql Select * from student"
   ]
  },
  {
   "cell_type": "code",
   "execution_count": 26,
   "id": "2e7f7021",
   "metadata": {},
   "outputs": [
    {
     "ename": "IndentationError",
     "evalue": "unexpected indent (1951515922.py, line 2)",
     "output_type": "error",
     "traceback": [
      "\u001b[1;36m  Cell \u001b[1;32mIn [26], line 2\u001b[1;36m\u001b[0m\n\u001b[1;33m    SELECT name FROM student WHERE result = 'Fail';\u001b[0m\n\u001b[1;37m    ^\u001b[0m\n\u001b[1;31mIndentationError\u001b[0m\u001b[1;31m:\u001b[0m unexpected indent\n"
     ]
    }
   ],
   "source": [
    "%sql with q1 as (\n",
    "    SELECT name FROM student WHERE result = 'Fail';\n",
    ") SELECT * FROM q1;"
   ]
  },
  {
   "cell_type": "code",
   "execution_count": 18,
   "id": "15fbd463",
   "metadata": {},
   "outputs": [
    {
     "name": "stdout",
     "output_type": "stream",
     "text": [
      " * sqlite://\n",
      "Done.\n"
     ]
    },
    {
     "data": {
      "text/plain": [
       "[]"
      ]
     },
     "execution_count": 18,
     "metadata": {},
     "output_type": "execute_result"
    }
   ],
   "source": [
    "%sql DROP TABLE student"
   ]
  },
  {
   "cell_type": "markdown",
   "id": "11a38905",
   "metadata": {},
   "source": [
    "# Q5. Write an SQL query to fetch the below details:(Ignore subquestion-e,f,i,j)\n",
    "## a) Total profit of shopping store\n",
    "## b) Total profit deptwise\n",
    "## c) Total Profit monthwise\n",
    "## d) Total Profit location wise\n",
    "## e) Dept where profit has increased month over month\n",
    "## f) Dept where profit has decreased month over month\n",
    "## g) Location which is giving the least profit\n",
    "## h) Location which is giving the maximum profit\n",
    "## i) Dept and location where profit has continously increased month over month\n",
    "## j) Dept and Location where profit has continously decreased month over month\n"
   ]
  },
  {
   "cell_type": "markdown",
   "id": "390276fa",
   "metadata": {},
   "source": [
    "***create table shopping(deptname varchar(50),location varchar(50),month varchar(50),profit int);<br>\n",
    "insert into shopping values('clothing','delhi','jan',200);<br>insert into shopping values('clothing','delhi','feb',300);<br>insert into shopping values('clothing','delhi','mar',500);<br>insert into shopping values('clothing','mumbai','jan',300);<br>insert into shopping values('clothing','mumbai','feb',200);<br>insert into shopping values('clothing','mumbai','mar',150);<br>insert into shopping values('clothing','chennai','jan',400);<br>insert into shopping values('clothing','chennai','feb',400);<br>insert into shopping values('clothing','chennai','mar',400);<br>insert into shopping values('sports','delhi','jan',200);<br>insert into shopping values('sports','delhi','feb',150);<br>insert into shopping values('sports','delhi','mar',100);<br>insert into shopping values('sports','mumbai','jan',300);<br>insert into shopping values('sports','mumbai','feb',400);<br>insert into shopping values('sports','mumbai','mar',500);<br>insert into shopping values('sports','chennai','jan',400);<br>insert into shopping values('sports','chennai','feb',500);<br>insert into shopping values('sports','chennai','mar',300);<br>insert into shopping values('appliances','delhi','jan',200);<br>insert into shopping values('appliances','delhi','feb',350);<br>insert into shopping values('appliances','delhi','mar',100);<br>\n",
    "insert into shopping values('appliances','mumbai','jan',350);<br>insert into shopping values('appliances','mumbai','feb',400);<br>insert into shopping values('appliances','mumbai','mar',500);<br>insert into shopping values('appliances','chennai','jan',400);<br>insert into shopping values('appliances','chennai','feb',500);<br>insert into shopping values('appliances','chennai','mar',200);***\n"
   ]
  },
  {
   "cell_type": "code",
   "execution_count": 7,
   "id": "7bf3ab32",
   "metadata": {},
   "outputs": [
    {
     "name": "stdout",
     "output_type": "stream",
     "text": [
      " * sqlite://\n",
      "Done.\n",
      "1 rows affected.\n",
      "1 rows affected.\n",
      "1 rows affected.\n",
      "1 rows affected.\n",
      "1 rows affected.\n",
      "1 rows affected.\n",
      "1 rows affected.\n",
      "1 rows affected.\n",
      "1 rows affected.\n",
      "1 rows affected.\n",
      "1 rows affected.\n",
      "1 rows affected.\n",
      "1 rows affected.\n",
      "1 rows affected.\n",
      "1 rows affected.\n",
      "1 rows affected.\n",
      "1 rows affected.\n",
      "1 rows affected.\n",
      "1 rows affected.\n",
      "1 rows affected.\n",
      "1 rows affected.\n",
      "1 rows affected.\n",
      "1 rows affected.\n",
      "1 rows affected.\n",
      "1 rows affected.\n",
      "1 rows affected.\n",
      "1 rows affected.\n",
      " * sqlite://\n",
      "Done.\n"
     ]
    },
    {
     "data": {
      "text/html": [
       "<table>\n",
       "    <tr>\n",
       "        <th>deptname</th>\n",
       "        <th>location</th>\n",
       "        <th>month</th>\n",
       "        <th>profit</th>\n",
       "    </tr>\n",
       "    <tr>\n",
       "        <td>clothing</td>\n",
       "        <td>delhi</td>\n",
       "        <td>jan</td>\n",
       "        <td>200</td>\n",
       "    </tr>\n",
       "    <tr>\n",
       "        <td>clothing</td>\n",
       "        <td>delhi</td>\n",
       "        <td>feb</td>\n",
       "        <td>300</td>\n",
       "    </tr>\n",
       "    <tr>\n",
       "        <td>clothing</td>\n",
       "        <td>delhi</td>\n",
       "        <td>mar</td>\n",
       "        <td>500</td>\n",
       "    </tr>\n",
       "    <tr>\n",
       "        <td>clothing</td>\n",
       "        <td>mumbai</td>\n",
       "        <td>jan</td>\n",
       "        <td>300</td>\n",
       "    </tr>\n",
       "    <tr>\n",
       "        <td>clothing</td>\n",
       "        <td>mumbai</td>\n",
       "        <td>feb</td>\n",
       "        <td>200</td>\n",
       "    </tr>\n",
       "    <tr>\n",
       "        <td>clothing</td>\n",
       "        <td>mumbai</td>\n",
       "        <td>mar</td>\n",
       "        <td>150</td>\n",
       "    </tr>\n",
       "    <tr>\n",
       "        <td>clothing</td>\n",
       "        <td>chennai</td>\n",
       "        <td>jan</td>\n",
       "        <td>400</td>\n",
       "    </tr>\n",
       "    <tr>\n",
       "        <td>clothing</td>\n",
       "        <td>chennai</td>\n",
       "        <td>feb</td>\n",
       "        <td>400</td>\n",
       "    </tr>\n",
       "    <tr>\n",
       "        <td>clothing</td>\n",
       "        <td>chennai</td>\n",
       "        <td>mar</td>\n",
       "        <td>400</td>\n",
       "    </tr>\n",
       "    <tr>\n",
       "        <td>sports</td>\n",
       "        <td>delhi</td>\n",
       "        <td>jan</td>\n",
       "        <td>200</td>\n",
       "    </tr>\n",
       "    <tr>\n",
       "        <td>sports</td>\n",
       "        <td>delhi</td>\n",
       "        <td>feb</td>\n",
       "        <td>150</td>\n",
       "    </tr>\n",
       "    <tr>\n",
       "        <td>sports</td>\n",
       "        <td>delhi</td>\n",
       "        <td>mar</td>\n",
       "        <td>100</td>\n",
       "    </tr>\n",
       "    <tr>\n",
       "        <td>sports</td>\n",
       "        <td>mumbai</td>\n",
       "        <td>jan</td>\n",
       "        <td>300</td>\n",
       "    </tr>\n",
       "    <tr>\n",
       "        <td>sports</td>\n",
       "        <td>mumbai</td>\n",
       "        <td>feb</td>\n",
       "        <td>400</td>\n",
       "    </tr>\n",
       "    <tr>\n",
       "        <td>sports</td>\n",
       "        <td>mumbai</td>\n",
       "        <td>mar</td>\n",
       "        <td>500</td>\n",
       "    </tr>\n",
       "    <tr>\n",
       "        <td>sports</td>\n",
       "        <td>chennai</td>\n",
       "        <td>jan</td>\n",
       "        <td>400</td>\n",
       "    </tr>\n",
       "    <tr>\n",
       "        <td>sports</td>\n",
       "        <td>chennai</td>\n",
       "        <td>feb</td>\n",
       "        <td>500</td>\n",
       "    </tr>\n",
       "    <tr>\n",
       "        <td>sports</td>\n",
       "        <td>chennai</td>\n",
       "        <td>mar</td>\n",
       "        <td>300</td>\n",
       "    </tr>\n",
       "    <tr>\n",
       "        <td>appliances</td>\n",
       "        <td>delhi</td>\n",
       "        <td>jan</td>\n",
       "        <td>200</td>\n",
       "    </tr>\n",
       "    <tr>\n",
       "        <td>appliances</td>\n",
       "        <td>delhi</td>\n",
       "        <td>feb</td>\n",
       "        <td>350</td>\n",
       "    </tr>\n",
       "    <tr>\n",
       "        <td>appliances</td>\n",
       "        <td>delhi</td>\n",
       "        <td>mar</td>\n",
       "        <td>100</td>\n",
       "    </tr>\n",
       "    <tr>\n",
       "        <td>appliances</td>\n",
       "        <td>mumbai</td>\n",
       "        <td>jan</td>\n",
       "        <td>350</td>\n",
       "    </tr>\n",
       "    <tr>\n",
       "        <td>appliances</td>\n",
       "        <td>mumbai</td>\n",
       "        <td>feb</td>\n",
       "        <td>400</td>\n",
       "    </tr>\n",
       "    <tr>\n",
       "        <td>appliances</td>\n",
       "        <td>mumbai</td>\n",
       "        <td>mar</td>\n",
       "        <td>500</td>\n",
       "    </tr>\n",
       "    <tr>\n",
       "        <td>appliances</td>\n",
       "        <td>chennai</td>\n",
       "        <td>jan</td>\n",
       "        <td>400</td>\n",
       "    </tr>\n",
       "    <tr>\n",
       "        <td>appliances</td>\n",
       "        <td>chennai</td>\n",
       "        <td>feb</td>\n",
       "        <td>500</td>\n",
       "    </tr>\n",
       "    <tr>\n",
       "        <td>appliances</td>\n",
       "        <td>chennai</td>\n",
       "        <td>mar</td>\n",
       "        <td>200</td>\n",
       "    </tr>\n",
       "</table>"
      ],
      "text/plain": [
       "[('clothing', 'delhi', 'jan', 200),\n",
       " ('clothing', 'delhi', 'feb', 300),\n",
       " ('clothing', 'delhi', 'mar', 500),\n",
       " ('clothing', 'mumbai', 'jan', 300),\n",
       " ('clothing', 'mumbai', 'feb', 200),\n",
       " ('clothing', 'mumbai', 'mar', 150),\n",
       " ('clothing', 'chennai', 'jan', 400),\n",
       " ('clothing', 'chennai', 'feb', 400),\n",
       " ('clothing', 'chennai', 'mar', 400),\n",
       " ('sports', 'delhi', 'jan', 200),\n",
       " ('sports', 'delhi', 'feb', 150),\n",
       " ('sports', 'delhi', 'mar', 100),\n",
       " ('sports', 'mumbai', 'jan', 300),\n",
       " ('sports', 'mumbai', 'feb', 400),\n",
       " ('sports', 'mumbai', 'mar', 500),\n",
       " ('sports', 'chennai', 'jan', 400),\n",
       " ('sports', 'chennai', 'feb', 500),\n",
       " ('sports', 'chennai', 'mar', 300),\n",
       " ('appliances', 'delhi', 'jan', 200),\n",
       " ('appliances', 'delhi', 'feb', 350),\n",
       " ('appliances', 'delhi', 'mar', 100),\n",
       " ('appliances', 'mumbai', 'jan', 350),\n",
       " ('appliances', 'mumbai', 'feb', 400),\n",
       " ('appliances', 'mumbai', 'mar', 500),\n",
       " ('appliances', 'chennai', 'jan', 400),\n",
       " ('appliances', 'chennai', 'feb', 500),\n",
       " ('appliances', 'chennai', 'mar', 200)]"
      ]
     },
     "execution_count": 7,
     "metadata": {},
     "output_type": "execute_result"
    }
   ],
   "source": [
    "%sql create table shopping(deptname varchar(50),location varchar(50),month varchar(50),profit int);insert into shopping values('clothing','delhi','jan',200);insert into shopping values('clothing','delhi','feb',300);insert into shopping values('clothing','delhi','mar',500);insert into shopping values('clothing','mumbai','jan',300);insert into shopping values('clothing','mumbai','feb',200);insert into shopping values('clothing','mumbai','mar',150);insert into shopping values('clothing','chennai','jan',400);insert into shopping values('clothing','chennai','feb',400);insert into shopping values('clothing','chennai','mar',400);insert into shopping values('sports','delhi','jan',200);insert into shopping values('sports','delhi','feb',150);insert into shopping values('sports','delhi','mar',100);insert into shopping values('sports','mumbai','jan',300);insert into shopping values('sports','mumbai','feb',400);insert into shopping values('sports','mumbai','mar',500);insert into shopping values('sports','chennai','jan',400);insert into shopping values('sports','chennai','feb',500);insert into shopping values('sports','chennai','mar',300);insert into shopping values('appliances','delhi','jan',200);insert into shopping values('appliances','delhi','feb',350);insert into shopping values('appliances','delhi','mar',100);insert into shopping values('appliances','mumbai','jan',350);insert into shopping values('appliances','mumbai','feb',400);insert into shopping values('appliances','mumbai','mar',500);insert into shopping values('appliances','chennai','jan',400);insert into shopping values('appliances','chennai','feb',500);insert into shopping values('appliances','chennai','mar',200);\n",
    "%sql select * from shopping"
   ]
  },
  {
   "cell_type": "markdown",
   "id": "603eb8a4",
   "metadata": {},
   "source": [
    "# a) Total profit of shopping store"
   ]
  },
  {
   "cell_type": "code",
   "execution_count": 9,
   "id": "080d6954",
   "metadata": {},
   "outputs": [
    {
     "name": "stdout",
     "output_type": "stream",
     "text": [
      " * sqlite://\n",
      "Done.\n"
     ]
    },
    {
     "data": {
      "text/html": [
       "<table>\n",
       "    <tr>\n",
       "        <th>Total_Profit</th>\n",
       "    </tr>\n",
       "    <tr>\n",
       "        <td>8700</td>\n",
       "    </tr>\n",
       "</table>"
      ],
      "text/plain": [
       "[(8700,)]"
      ]
     },
     "execution_count": 9,
     "metadata": {},
     "output_type": "execute_result"
    }
   ],
   "source": [
    "%sql select sum(profit) as Total_Profit from shopping;"
   ]
  },
  {
   "cell_type": "markdown",
   "id": "922f1b3d",
   "metadata": {},
   "source": [
    "# b) Total profit deptwise"
   ]
  },
  {
   "cell_type": "code",
   "execution_count": 15,
   "id": "3bb0fc0b",
   "metadata": {},
   "outputs": [
    {
     "name": "stdout",
     "output_type": "stream",
     "text": [
      " * sqlite://\n",
      "Done.\n"
     ]
    },
    {
     "data": {
      "text/html": [
       "<table>\n",
       "    <tr>\n",
       "        <th>Department Name</th>\n",
       "        <th>Total_Profit</th>\n",
       "    </tr>\n",
       "    <tr>\n",
       "        <td>appliances</td>\n",
       "        <td>3000</td>\n",
       "    </tr>\n",
       "    <tr>\n",
       "        <td>clothing</td>\n",
       "        <td>2850</td>\n",
       "    </tr>\n",
       "    <tr>\n",
       "        <td>sports</td>\n",
       "        <td>2850</td>\n",
       "    </tr>\n",
       "</table>"
      ],
      "text/plain": [
       "[('appliances', 3000), ('clothing', 2850), ('sports', 2850)]"
      ]
     },
     "execution_count": 15,
     "metadata": {},
     "output_type": "execute_result"
    }
   ],
   "source": [
    "%sql select deptname as `Department Name`,sum(profit) as Total_Profit from shopping group by deptname;"
   ]
  },
  {
   "cell_type": "markdown",
   "id": "fcf1f8b4",
   "metadata": {},
   "source": [
    "# c) Total Profit monthwise"
   ]
  },
  {
   "cell_type": "code",
   "execution_count": 17,
   "id": "35f20d72",
   "metadata": {},
   "outputs": [
    {
     "name": "stdout",
     "output_type": "stream",
     "text": [
      " * sqlite://\n",
      "Done.\n"
     ]
    },
    {
     "data": {
      "text/html": [
       "<table>\n",
       "    <tr>\n",
       "        <th>month</th>\n",
       "        <th>Total_Profit</th>\n",
       "    </tr>\n",
       "    <tr>\n",
       "        <td>feb</td>\n",
       "        <td>3200</td>\n",
       "    </tr>\n",
       "    <tr>\n",
       "        <td>jan</td>\n",
       "        <td>2750</td>\n",
       "    </tr>\n",
       "    <tr>\n",
       "        <td>mar</td>\n",
       "        <td>2750</td>\n",
       "    </tr>\n",
       "</table>"
      ],
      "text/plain": [
       "[('feb', 3200), ('jan', 2750), ('mar', 2750)]"
      ]
     },
     "execution_count": 17,
     "metadata": {},
     "output_type": "execute_result"
    }
   ],
   "source": [
    "%sql select month,sum(profit) as Total_Profit from shopping group by month;"
   ]
  },
  {
   "cell_type": "markdown",
   "id": "296e86f3",
   "metadata": {},
   "source": [
    "# d) Total Profit location wise"
   ]
  },
  {
   "cell_type": "code",
   "execution_count": 18,
   "id": "2e223159",
   "metadata": {},
   "outputs": [
    {
     "name": "stdout",
     "output_type": "stream",
     "text": [
      " * sqlite://\n",
      "Done.\n"
     ]
    },
    {
     "data": {
      "text/html": [
       "<table>\n",
       "    <tr>\n",
       "        <th>location</th>\n",
       "        <th>Total_Profit</th>\n",
       "    </tr>\n",
       "    <tr>\n",
       "        <td>chennai</td>\n",
       "        <td>3500</td>\n",
       "    </tr>\n",
       "    <tr>\n",
       "        <td>delhi</td>\n",
       "        <td>2100</td>\n",
       "    </tr>\n",
       "    <tr>\n",
       "        <td>mumbai</td>\n",
       "        <td>3100</td>\n",
       "    </tr>\n",
       "</table>"
      ],
      "text/plain": [
       "[('chennai', 3500), ('delhi', 2100), ('mumbai', 3100)]"
      ]
     },
     "execution_count": 18,
     "metadata": {},
     "output_type": "execute_result"
    }
   ],
   "source": [
    "%sql select location,sum(profit) as Total_Profit from  shopping group by location;"
   ]
  },
  {
   "cell_type": "markdown",
   "id": "bd381895",
   "metadata": {},
   "source": [
    "# g) Location which is giving the least profit"
   ]
  },
  {
   "cell_type": "code",
   "execution_count": 31,
   "id": "0f6fe50f",
   "metadata": {},
   "outputs": [
    {
     "name": "stdout",
     "output_type": "stream",
     "text": [
      " * sqlite://\n",
      "Done.\n"
     ]
    },
    {
     "data": {
      "text/html": [
       "<table>\n",
       "    <tr>\n",
       "        <th>location</th>\n",
       "    </tr>\n",
       "    <tr>\n",
       "        <td>delhi</td>\n",
       "    </tr>\n",
       "</table>"
      ],
      "text/plain": [
       "[('delhi',)]"
      ]
     },
     "execution_count": 31,
     "metadata": {},
     "output_type": "execute_result"
    }
   ],
   "source": [
    "%sql select location from (select location,sum(profit) as Total_Profit from  shopping group by location order by Total_Profit limit 1);"
   ]
  },
  {
   "cell_type": "code",
   "execution_count": 36,
   "id": "d46d3544",
   "metadata": {},
   "outputs": [
    {
     "name": "stdout",
     "output_type": "stream",
     "text": [
      " * sqlite://\n",
      "Done.\n"
     ]
    },
    {
     "data": {
      "text/html": [
       "<table>\n",
       "    <tr>\n",
       "        <th>location</th>\n",
       "    </tr>\n",
       "    <tr>\n",
       "        <td>delhi</td>\n",
       "    </tr>\n",
       "</table>"
      ],
      "text/plain": [
       "[('delhi',)]"
      ]
     },
     "execution_count": 36,
     "metadata": {},
     "output_type": "execute_result"
    }
   ],
   "source": [
    "%sql with cte1 as (select location,sum(profit) as TP from shopping group by location), cte2 as (select location from cte1 order by TP limit 1) select * from cte2;"
   ]
  },
  {
   "cell_type": "markdown",
   "id": "434b3e6e",
   "metadata": {},
   "source": [
    "# h) Location which is giving the maximum profit"
   ]
  },
  {
   "cell_type": "code",
   "execution_count": 37,
   "id": "aedd23bd",
   "metadata": {},
   "outputs": [
    {
     "name": "stdout",
     "output_type": "stream",
     "text": [
      " * sqlite://\n",
      "Done.\n"
     ]
    },
    {
     "data": {
      "text/html": [
       "<table>\n",
       "    <tr>\n",
       "        <th>location</th>\n",
       "    </tr>\n",
       "    <tr>\n",
       "        <td>chennai</td>\n",
       "    </tr>\n",
       "</table>"
      ],
      "text/plain": [
       "[('chennai',)]"
      ]
     },
     "execution_count": 37,
     "metadata": {},
     "output_type": "execute_result"
    }
   ],
   "source": [
    "%sql select location from (select location,sum(profit) as TP from shopping group by location order by TP DESC limit 1);"
   ]
  },
  {
   "cell_type": "code",
   "execution_count": 45,
   "id": "f074aa9c",
   "metadata": {},
   "outputs": [
    {
     "name": "stdout",
     "output_type": "stream",
     "text": [
      " * sqlite://\n",
      "Done.\n"
     ]
    },
    {
     "data": {
      "text/html": [
       "<table>\n",
       "    <tr>\n",
       "        <th>location</th>\n",
       "    </tr>\n",
       "    <tr>\n",
       "        <td>chennai</td>\n",
       "    </tr>\n",
       "</table>"
      ],
      "text/plain": [
       "[('chennai',)]"
      ]
     },
     "execution_count": 45,
     "metadata": {},
     "output_type": "execute_result"
    }
   ],
   "source": [
    "%sql with cte1 as (select location,sum(profit) as TP from shopping group by location order by TP DESC), cte2 as (select location from cte1 limit 1) select * from cte2;"
   ]
  },
  {
   "cell_type": "code",
   "execution_count": 50,
   "id": "43b9beae",
   "metadata": {},
   "outputs": [
    {
     "name": "stdout",
     "output_type": "stream",
     "text": [
      " * sqlite://\n",
      "Done.\n"
     ]
    },
    {
     "data": {
      "text/plain": [
       "[]"
      ]
     },
     "execution_count": 50,
     "metadata": {},
     "output_type": "execute_result"
    }
   ],
   "source": [
    "%sql drop table shopping"
   ]
  },
  {
   "cell_type": "markdown",
   "id": "1da00cf2",
   "metadata": {},
   "source": [
    "# Q6. Write an SQL query to find the topper in each semester."
   ]
  },
  {
   "cell_type": "code",
   "execution_count": 5,
   "id": "56fc25c9",
   "metadata": {},
   "outputs": [
    {
     "name": "stdout",
     "output_type": "stream",
     "text": [
      " * sqlite://\n",
      "Done.\n",
      "1 rows affected.\n",
      "1 rows affected.\n",
      "1 rows affected.\n",
      "1 rows affected.\n",
      "1 rows affected.\n",
      "1 rows affected.\n",
      "1 rows affected.\n",
      "1 rows affected.\n",
      "1 rows affected.\n",
      "1 rows affected.\n",
      "1 rows affected.\n",
      "1 rows affected.\n",
      "1 rows affected.\n",
      "1 rows affected.\n",
      "1 rows affected.\n",
      "1 rows affected.\n",
      " * sqlite://\n",
      "Done.\n"
     ]
    },
    {
     "data": {
      "text/html": [
       "<table>\n",
       "    <tr>\n",
       "        <th>ID</th>\n",
       "        <th>NAME</th>\n",
       "        <th>SEMESTER</th>\n",
       "        <th>SUBJECT</th>\n",
       "        <th>MARKS</th>\n",
       "    </tr>\n",
       "    <tr>\n",
       "        <td>1</td>\n",
       "        <td>A</td>\n",
       "        <td>1</td>\n",
       "        <td>PHYSICS</td>\n",
       "        <td>100</td>\n",
       "    </tr>\n",
       "    <tr>\n",
       "        <td>1</td>\n",
       "        <td>A</td>\n",
       "        <td>2</td>\n",
       "        <td>PHYSICS</td>\n",
       "        <td>150</td>\n",
       "    </tr>\n",
       "    <tr>\n",
       "        <td>1</td>\n",
       "        <td>A</td>\n",
       "        <td>3</td>\n",
       "        <td>PHYSICS</td>\n",
       "        <td>200</td>\n",
       "    </tr>\n",
       "    <tr>\n",
       "        <td>1</td>\n",
       "        <td>A</td>\n",
       "        <td>4</td>\n",
       "        <td>PHYSICS</td>\n",
       "        <td>250</td>\n",
       "    </tr>\n",
       "    <tr>\n",
       "        <td>1</td>\n",
       "        <td>A</td>\n",
       "        <td>1</td>\n",
       "        <td>CHEMISTRY</td>\n",
       "        <td>50</td>\n",
       "    </tr>\n",
       "    <tr>\n",
       "        <td>1</td>\n",
       "        <td>A</td>\n",
       "        <td>2</td>\n",
       "        <td>CHEMISTRY</td>\n",
       "        <td>250</td>\n",
       "    </tr>\n",
       "    <tr>\n",
       "        <td>1</td>\n",
       "        <td>A</td>\n",
       "        <td>3</td>\n",
       "        <td>CHEMISTRY</td>\n",
       "        <td>200</td>\n",
       "    </tr>\n",
       "    <tr>\n",
       "        <td>1</td>\n",
       "        <td>A</td>\n",
       "        <td>4</td>\n",
       "        <td>CHEMISTRY</td>\n",
       "        <td>350</td>\n",
       "    </tr>\n",
       "    <tr>\n",
       "        <td>2</td>\n",
       "        <td>B</td>\n",
       "        <td>1</td>\n",
       "        <td>PHYSICS</td>\n",
       "        <td>150</td>\n",
       "    </tr>\n",
       "    <tr>\n",
       "        <td>2</td>\n",
       "        <td>B</td>\n",
       "        <td>2</td>\n",
       "        <td>PHYSICS</td>\n",
       "        <td>250</td>\n",
       "    </tr>\n",
       "    <tr>\n",
       "        <td>2</td>\n",
       "        <td>B</td>\n",
       "        <td>3</td>\n",
       "        <td>PHYSICS</td>\n",
       "        <td>100</td>\n",
       "    </tr>\n",
       "    <tr>\n",
       "        <td>2</td>\n",
       "        <td>B</td>\n",
       "        <td>4</td>\n",
       "        <td>PHYSICS</td>\n",
       "        <td>200</td>\n",
       "    </tr>\n",
       "    <tr>\n",
       "        <td>2</td>\n",
       "        <td>B</td>\n",
       "        <td>1</td>\n",
       "        <td>CHEMISTRY</td>\n",
       "        <td>150</td>\n",
       "    </tr>\n",
       "    <tr>\n",
       "        <td>2</td>\n",
       "        <td>B</td>\n",
       "        <td>2</td>\n",
       "        <td>CHEMISTRY</td>\n",
       "        <td>150</td>\n",
       "    </tr>\n",
       "    <tr>\n",
       "        <td>2</td>\n",
       "        <td>B</td>\n",
       "        <td>3</td>\n",
       "        <td>CHEMISTRY</td>\n",
       "        <td>250</td>\n",
       "    </tr>\n",
       "    <tr>\n",
       "        <td>2</td>\n",
       "        <td>B</td>\n",
       "        <td>4</td>\n",
       "        <td>CHEMISTRY</td>\n",
       "        <td>300</td>\n",
       "    </tr>\n",
       "</table>"
      ],
      "text/plain": [
       "[(1, 'A', 1, 'PHYSICS', 100),\n",
       " (1, 'A', 2, 'PHYSICS', 150),\n",
       " (1, 'A', 3, 'PHYSICS', 200),\n",
       " (1, 'A', 4, 'PHYSICS', 250),\n",
       " (1, 'A', 1, 'CHEMISTRY', 50),\n",
       " (1, 'A', 2, 'CHEMISTRY', 250),\n",
       " (1, 'A', 3, 'CHEMISTRY', 200),\n",
       " (1, 'A', 4, 'CHEMISTRY', 350),\n",
       " (2, 'B', 1, 'PHYSICS', 150),\n",
       " (2, 'B', 2, 'PHYSICS', 250),\n",
       " (2, 'B', 3, 'PHYSICS', 100),\n",
       " (2, 'B', 4, 'PHYSICS', 200),\n",
       " (2, 'B', 1, 'CHEMISTRY', 150),\n",
       " (2, 'B', 2, 'CHEMISTRY', 150),\n",
       " (2, 'B', 3, 'CHEMISTRY', 250),\n",
       " (2, 'B', 4, 'CHEMISTRY', 300)]"
      ]
     },
     "execution_count": 5,
     "metadata": {},
     "output_type": "execute_result"
    }
   ],
   "source": [
    "%sql CREATE TABLE STUD(ID NUMBER,NAME VARCHAR2(10),SEMESTER NUMBER,SUBJECT VARCHAR2(10),MARKS NUMBER);INSERT INTO STUD VALUES(1,'A',1,'PHYSICS',100);INSERT INTO STUD VALUES(1,'A',2,'PHYSICS',150);INSERT INTO STUD VALUES(1,'A',3,'PHYSICS',200);INSERT INTO STUD VALUES(1,'A',4,'PHYSICS',250);INSERT INTO STUD VALUES(1,'A',1,'CHEMISTRY',50);INSERT INTO STUD VALUES(1,'A',2,'CHEMISTRY',250);INSERT INTO STUD VALUES(1,'A',3,'CHEMISTRY',200);INSERT INTO STUD VALUES(1,'A',4,'CHEMISTRY',350);INSERT INTO STUD VALUES(2,'B',1,'PHYSICS',150);INSERT INTO STUD VALUES(2,'B',2,'PHYSICS',250);INSERT INTO STUD VALUES(2,'B',3,'PHYSICS',100);INSERT INTO STUD VALUES(2,'B',4,'PHYSICS',200);INSERT INTO STUD VALUES(2,'B',1,'CHEMISTRY',150);INSERT INTO STUD VALUES(2,'B',2,'CHEMISTRY',150);INSERT INTO STUD VALUES(2,'B',3,'CHEMISTRY',250);INSERT INTO STUD VALUES(2,'B',4,'CHEMISTRY',300);\n",
    "%sql select * from STUD;"
   ]
  },
  {
   "cell_type": "code",
   "execution_count": 9,
   "id": "d8c8a6a2",
   "metadata": {},
   "outputs": [
    {
     "name": "stdout",
     "output_type": "stream",
     "text": [
      " * sqlite://\n",
      "Done.\n"
     ]
    },
    {
     "data": {
      "text/html": [
       "<table>\n",
       "    <tr>\n",
       "        <th>name</th>\n",
       "        <th>semester</th>\n",
       "        <th>max(total_marks)</th>\n",
       "    </tr>\n",
       "    <tr>\n",
       "        <td>B</td>\n",
       "        <td>1</td>\n",
       "        <td>300</td>\n",
       "    </tr>\n",
       "    <tr>\n",
       "        <td>A</td>\n",
       "        <td>2</td>\n",
       "        <td>400</td>\n",
       "    </tr>\n",
       "    <tr>\n",
       "        <td>A</td>\n",
       "        <td>3</td>\n",
       "        <td>400</td>\n",
       "    </tr>\n",
       "    <tr>\n",
       "        <td>A</td>\n",
       "        <td>4</td>\n",
       "        <td>600</td>\n",
       "    </tr>\n",
       "</table>"
      ],
      "text/plain": [
       "[('B', 1, 300), ('A', 2, 400), ('A', 3, 400), ('A', 4, 600)]"
      ]
     },
     "execution_count": 9,
     "metadata": {},
     "output_type": "execute_result"
    }
   ],
   "source": [
    "%sql select name,semester,max(total_marks) from (select name,semester,sum(marks) as total_marks from STUD group by semester,name) group by semester; "
   ]
  },
  {
   "cell_type": "code",
   "execution_count": 14,
   "id": "059957a9",
   "metadata": {},
   "outputs": [
    {
     "name": "stdout",
     "output_type": "stream",
     "text": [
      " * sqlite://\n",
      "Done.\n"
     ]
    },
    {
     "data": {
      "text/html": [
       "<table>\n",
       "    <tr>\n",
       "        <th>name</th>\n",
       "        <th>semester</th>\n",
       "        <th>score</th>\n",
       "    </tr>\n",
       "    <tr>\n",
       "        <td>B</td>\n",
       "        <td>1</td>\n",
       "        <td>300</td>\n",
       "    </tr>\n",
       "    <tr>\n",
       "        <td>A</td>\n",
       "        <td>2</td>\n",
       "        <td>400</td>\n",
       "    </tr>\n",
       "    <tr>\n",
       "        <td>A</td>\n",
       "        <td>3</td>\n",
       "        <td>400</td>\n",
       "    </tr>\n",
       "    <tr>\n",
       "        <td>A</td>\n",
       "        <td>4</td>\n",
       "        <td>600</td>\n",
       "    </tr>\n",
       "</table>"
      ],
      "text/plain": [
       "[('B', 1, 300), ('A', 2, 400), ('A', 3, 400), ('A', 4, 600)]"
      ]
     },
     "execution_count": 14,
     "metadata": {},
     "output_type": "execute_result"
    }
   ],
   "source": [
    "%sql with cte1 as (select name,semester,sum(marks) as total_marks from STUD group by semester,name) select name,semester,max(total_marks) as score from cte1 group by semester;"
   ]
  },
  {
   "cell_type": "code",
   "execution_count": 48,
   "id": "9f00d1e6",
   "metadata": {},
   "outputs": [
    {
     "name": "stdout",
     "output_type": "stream",
     "text": [
      " * sqlite://\n",
      "Done.\n"
     ]
    },
    {
     "data": {
      "text/plain": [
       "[]"
      ]
     },
     "execution_count": 48,
     "metadata": {},
     "output_type": "execute_result"
    }
   ],
   "source": [
    "%sql drop table STUD\n"
   ]
  }
 ],
 "metadata": {
  "kernelspec": {
   "display_name": "Python 3 (ipykernel)",
   "language": "python",
   "name": "python3"
  },
  "language_info": {
   "codemirror_mode": {
    "name": "ipython",
    "version": 3
   },
   "file_extension": ".py",
   "mimetype": "text/x-python",
   "name": "python",
   "nbconvert_exporter": "python",
   "pygments_lexer": "ipython3",
   "version": "3.9.13"
  }
 },
 "nbformat": 4,
 "nbformat_minor": 5
}
