{
 "cells": [
  {
   "cell_type": "markdown",
   "id": "c349aa25",
   "metadata": {},
   "source": [
    "# TechNest Assignment Solution 5"
   ]
  },
  {
   "cell_type": "code",
   "execution_count": 2,
   "id": "60d7a321",
   "metadata": {},
   "outputs": [],
   "source": [
    "%load_ext sql"
   ]
  },
  {
   "cell_type": "code",
   "execution_count": 3,
   "id": "1c668115",
   "metadata": {},
   "outputs": [],
   "source": [
    "%sql sqlite://"
   ]
  },
  {
   "cell_type": "markdown",
   "id": "4bca1ca8",
   "metadata": {},
   "source": [
    "# Q1.Write a SQL query to fetch the student name who has appeared in only 1 subject.\n",
    "\n",
    "***Create table Student(Studid number,NAME varchar2(10),Subject varchar2(20),marks number);<br>\n",
    "insert into student values(1,'A','Phy','90');<br>\n",
    "insert into student values(1,'A','Che','95');<br>\n",
    "insert into student values(2,'B','Phy','80');<br>\n",
    "insert into student values(2,'B','Che','85');<br>\n",
    "insert into student values(3,'C','Phy','90');<br>\n",
    "insert into student values(4,'D','Phy','75');<br>\n",
    "insert into student values(4,'D','Che','90');***"
   ]
  },
  {
   "cell_type": "code",
   "execution_count": 5,
   "id": "0d9c1593",
   "metadata": {},
   "outputs": [
    {
     "name": "stdout",
     "output_type": "stream",
     "text": [
      " * sqlite://\n",
      "Done.\n",
      "1 rows affected.\n",
      "1 rows affected.\n",
      "1 rows affected.\n",
      "1 rows affected.\n",
      "1 rows affected.\n",
      "1 rows affected.\n",
      "1 rows affected.\n"
     ]
    },
    {
     "data": {
      "text/plain": [
       "[]"
      ]
     },
     "execution_count": 5,
     "metadata": {},
     "output_type": "execute_result"
    }
   ],
   "source": [
    "%sql Create table Student(Studid number,NAME varchar2(10),Subject varchar2(20),marks number);insert into student values(1,'A','Phy','90');insert into student values(1,'A','Che','95');insert into student values(2,'B','Phy','80');insert into student values(2,'B','Che','85');insert into student values(3,'C','Phy','90');insert into student values(4,'D','Phy','75');insert into student values(4,'D','Che','90');"
   ]
  },
  {
   "cell_type": "code",
   "execution_count": 6,
   "id": "23664640",
   "metadata": {},
   "outputs": [
    {
     "name": "stdout",
     "output_type": "stream",
     "text": [
      " * sqlite://\n",
      "Done.\n"
     ]
    },
    {
     "data": {
      "text/html": [
       "<table>\n",
       "    <tr>\n",
       "        <th>Studid</th>\n",
       "        <th>NAME</th>\n",
       "        <th>Subject</th>\n",
       "        <th>marks</th>\n",
       "    </tr>\n",
       "    <tr>\n",
       "        <td>1</td>\n",
       "        <td>A</td>\n",
       "        <td>Phy</td>\n",
       "        <td>90</td>\n",
       "    </tr>\n",
       "    <tr>\n",
       "        <td>1</td>\n",
       "        <td>A</td>\n",
       "        <td>Che</td>\n",
       "        <td>95</td>\n",
       "    </tr>\n",
       "    <tr>\n",
       "        <td>2</td>\n",
       "        <td>B</td>\n",
       "        <td>Phy</td>\n",
       "        <td>80</td>\n",
       "    </tr>\n",
       "    <tr>\n",
       "        <td>2</td>\n",
       "        <td>B</td>\n",
       "        <td>Che</td>\n",
       "        <td>85</td>\n",
       "    </tr>\n",
       "    <tr>\n",
       "        <td>3</td>\n",
       "        <td>C</td>\n",
       "        <td>Phy</td>\n",
       "        <td>90</td>\n",
       "    </tr>\n",
       "    <tr>\n",
       "        <td>4</td>\n",
       "        <td>D</td>\n",
       "        <td>Phy</td>\n",
       "        <td>75</td>\n",
       "    </tr>\n",
       "    <tr>\n",
       "        <td>4</td>\n",
       "        <td>D</td>\n",
       "        <td>Che</td>\n",
       "        <td>90</td>\n",
       "    </tr>\n",
       "</table>"
      ],
      "text/plain": [
       "[(1, 'A', 'Phy', 90),\n",
       " (1, 'A', 'Che', 95),\n",
       " (2, 'B', 'Phy', 80),\n",
       " (2, 'B', 'Che', 85),\n",
       " (3, 'C', 'Phy', 90),\n",
       " (4, 'D', 'Phy', 75),\n",
       " (4, 'D', 'Che', 90)]"
      ]
     },
     "execution_count": 6,
     "metadata": {},
     "output_type": "execute_result"
    }
   ],
   "source": [
    "%sql select * from student;"
   ]
  },
  {
   "cell_type": "code",
   "execution_count": 18,
   "id": "5062b925",
   "metadata": {
    "scrolled": true
   },
   "outputs": [
    {
     "name": "stdout",
     "output_type": "stream",
     "text": [
      " * sqlite://\n",
      "Done.\n"
     ]
    },
    {
     "data": {
      "text/html": [
       "<table>\n",
       "    <tr>\n",
       "        <th>name</th>\n",
       "    </tr>\n",
       "    <tr>\n",
       "        <td>C</td>\n",
       "    </tr>\n",
       "</table>"
      ],
      "text/plain": [
       "[('C',)]"
      ]
     },
     "execution_count": 18,
     "metadata": {},
     "output_type": "execute_result"
    }
   ],
   "source": [
    "# solution\n",
    "\n",
    "%sql with q1 as ( select name,count(subject) as num from student group by name), q2 as ( select name from q1 where num=1) select name from q2;"
   ]
  },
  {
   "attachments": {
    "image-2.png": {
     "image/png": "[encoded data removed]"
    },
    "image-3.png": {
     "image/png": "[encoded data removed]"
    },
    "image.png": {
     "image/png": "[encoded data removed]"
    }
   },
   "cell_type": "markdown",
   "id": "e07fb690",
   "metadata": {},
   "source": [
    "# Step by Step solution\n",
    "\n",
    "![image-3.png](attachment:image-3.png)\n",
    "\n",
    "![image.png](attachment:image.png)\n",
    "\n",
    "![image-2.png](attachment:image-2.png)"
   ]
  },
  {
   "cell_type": "code",
   "execution_count": 19,
   "id": "ba0d5512",
   "metadata": {},
   "outputs": [
    {
     "name": "stdout",
     "output_type": "stream",
     "text": [
      " * sqlite://\n",
      "Done.\n"
     ]
    },
    {
     "data": {
      "text/plain": [
       "[]"
      ]
     },
     "execution_count": 19,
     "metadata": {},
     "output_type": "execute_result"
    }
   ],
   "source": [
    "%sql drop table student;"
   ]
  },
  {
   "cell_type": "markdown",
   "id": "273ea6b2",
   "metadata": {},
   "source": [
    "# Q2.Write a SQL query to fetch the student name who has appeared in more than 1 subject.\n",
    "\n",
    "***Create table Student(Studid number,NAME varchar2(10),Subject varchar2(20),marks number);<br>\n",
    "insert into student values(1,'A','Phy','90');<br>\n",
    "insert into student values(1,'A','Che','95');<br>\n",
    "insert into student values(2,'B','Phy','80');<br>\n",
    "insert into student values(2,'B','Che','85');<br>\n",
    "insert into student values(3,'C','Phy','90');<br>\n",
    "insert into student values(4,'D','Phy','75');<br>\n",
    "insert into student values(4,'D','Che','90');***"
   ]
  },
  {
   "cell_type": "code",
   "execution_count": 23,
   "id": "754d5555",
   "metadata": {},
   "outputs": [
    {
     "name": "stdout",
     "output_type": "stream",
     "text": [
      " * sqlite://\n",
      "Done.\n"
     ]
    },
    {
     "data": {
      "text/html": [
       "<table>\n",
       "    <tr>\n",
       "        <th>Studid</th>\n",
       "        <th>NAME</th>\n",
       "        <th>Subject</th>\n",
       "        <th>marks</th>\n",
       "    </tr>\n",
       "    <tr>\n",
       "        <td>1</td>\n",
       "        <td>A</td>\n",
       "        <td>Phy</td>\n",
       "        <td>90</td>\n",
       "    </tr>\n",
       "    <tr>\n",
       "        <td>1</td>\n",
       "        <td>A</td>\n",
       "        <td>Che</td>\n",
       "        <td>95</td>\n",
       "    </tr>\n",
       "    <tr>\n",
       "        <td>2</td>\n",
       "        <td>B</td>\n",
       "        <td>Phy</td>\n",
       "        <td>80</td>\n",
       "    </tr>\n",
       "    <tr>\n",
       "        <td>2</td>\n",
       "        <td>B</td>\n",
       "        <td>Che</td>\n",
       "        <td>85</td>\n",
       "    </tr>\n",
       "    <tr>\n",
       "        <td>3</td>\n",
       "        <td>C</td>\n",
       "        <td>Phy</td>\n",
       "        <td>90</td>\n",
       "    </tr>\n",
       "    <tr>\n",
       "        <td>4</td>\n",
       "        <td>D</td>\n",
       "        <td>Phy</td>\n",
       "        <td>75</td>\n",
       "    </tr>\n",
       "    <tr>\n",
       "        <td>4</td>\n",
       "        <td>D</td>\n",
       "        <td>Che</td>\n",
       "        <td>90</td>\n",
       "    </tr>\n",
       "</table>"
      ],
      "text/plain": [
       "[(1, 'A', 'Phy', 90),\n",
       " (1, 'A', 'Che', 95),\n",
       " (2, 'B', 'Phy', 80),\n",
       " (2, 'B', 'Che', 85),\n",
       " (3, 'C', 'Phy', 90),\n",
       " (4, 'D', 'Phy', 75),\n",
       " (4, 'D', 'Che', 90)]"
      ]
     },
     "execution_count": 23,
     "metadata": {},
     "output_type": "execute_result"
    }
   ],
   "source": [
    "%sql Create table Student(Studid number,NAME varchar2(10),Subject varchar2(20),marks number);insert into student values(1,'A','Phy','90');insert into student values(1,'A','Che','95');insert into student values(2,'B','Phy','80');insert into student values(2,'B','Che','85');insert into student values(3,'C','Phy','90');insert into student values(4,'D','Phy','75');insert into student values(4,'D','Che','90');\n",
    "%sql select * from student;"
   ]
  },
  {
   "cell_type": "code",
   "execution_count": 24,
   "id": "39018a54",
   "metadata": {},
   "outputs": [
    {
     "name": "stdout",
     "output_type": "stream",
     "text": [
      " * sqlite://\n",
      "Done.\n"
     ]
    },
    {
     "data": {
      "text/html": [
       "<table>\n",
       "    <tr>\n",
       "        <th>name</th>\n",
       "    </tr>\n",
       "    <tr>\n",
       "        <td>A</td>\n",
       "    </tr>\n",
       "    <tr>\n",
       "        <td>B</td>\n",
       "    </tr>\n",
       "    <tr>\n",
       "        <td>D</td>\n",
       "    </tr>\n",
       "</table>"
      ],
      "text/plain": [
       "[('A',), ('B',), ('D',)]"
      ]
     },
     "execution_count": 24,
     "metadata": {},
     "output_type": "execute_result"
    }
   ],
   "source": [
    "%sql with q1 as (select name,count(subject) as num from student group by name), q2 as (select name from q1 where num>1) select name from q2;"
   ]
  },
  {
   "attachments": {
    "image-2.png": {
     "image/png": "[encoded data removed]"
    },
    "image-3.png": {
     "image/png": "[encoded data removed]"
    },
    "image.png": {
     "image/png": "[encoded data removed]"
    }
   },
   "cell_type": "markdown",
   "id": "db094866",
   "metadata": {},
   "source": [
    "# Step by Step Solution\n",
    "\n",
    "![image.png](attachment:image.png)\n",
    "\n",
    "![image-2.png](attachment:image-2.png)\n",
    "\n",
    "![image-3.png](attachment:image-3.png)"
   ]
  },
  {
   "cell_type": "code",
   "execution_count": null,
   "id": "fcf325c6",
   "metadata": {},
   "outputs": [],
   "source": [
    "%sql drop table student;"
   ]
  },
  {
   "cell_type": "markdown",
   "id": "4cabe441",
   "metadata": {},
   "source": [
    "# Q3.Write a SQL query to fetch the student name who has appeared in more than 1 subject and have scored marks greater than 85\n",
    "\n",
    "***Create table Student(Studid number,NAME varchar2(10),Subject varchar2(20),marks number);<br>\n",
    "insert into student values(1,'A','Phy','90');<br>\n",
    "insert into student values(1,'A','Che','95');<br>\n",
    "insert into student values(2,'B','Phy','80');<br>\n",
    "insert into student values(2,'B','Che','85');<br>\n",
    "insert into student values(3,'C','Phy','90');<br>\n",
    "insert into student values(4,'D','Phy','75');<br>\n",
    "insert into student values(4,'D','Che','90');***"
   ]
  },
  {
   "cell_type": "code",
   "execution_count": 28,
   "id": "f5f0ca88",
   "metadata": {},
   "outputs": [
    {
     "name": "stdout",
     "output_type": "stream",
     "text": [
      " * sqlite://\n",
      "Done.\n",
      "1 rows affected.\n",
      "1 rows affected.\n",
      "1 rows affected.\n",
      "1 rows affected.\n",
      "1 rows affected.\n",
      "1 rows affected.\n",
      "1 rows affected.\n",
      " * sqlite://\n",
      "Done.\n"
     ]
    },
    {
     "data": {
      "text/html": [
       "<table>\n",
       "    <tr>\n",
       "        <th>Studid</th>\n",
       "        <th>NAME</th>\n",
       "        <th>Subject</th>\n",
       "        <th>marks</th>\n",
       "    </tr>\n",
       "    <tr>\n",
       "        <td>1</td>\n",
       "        <td>A</td>\n",
       "        <td>Phy</td>\n",
       "        <td>90</td>\n",
       "    </tr>\n",
       "    <tr>\n",
       "        <td>1</td>\n",
       "        <td>A</td>\n",
       "        <td>Che</td>\n",
       "        <td>95</td>\n",
       "    </tr>\n",
       "    <tr>\n",
       "        <td>2</td>\n",
       "        <td>B</td>\n",
       "        <td>Phy</td>\n",
       "        <td>80</td>\n",
       "    </tr>\n",
       "    <tr>\n",
       "        <td>2</td>\n",
       "        <td>B</td>\n",
       "        <td>Che</td>\n",
       "        <td>85</td>\n",
       "    </tr>\n",
       "    <tr>\n",
       "        <td>3</td>\n",
       "        <td>C</td>\n",
       "        <td>Phy</td>\n",
       "        <td>90</td>\n",
       "    </tr>\n",
       "    <tr>\n",
       "        <td>4</td>\n",
       "        <td>D</td>\n",
       "        <td>Phy</td>\n",
       "        <td>75</td>\n",
       "    </tr>\n",
       "    <tr>\n",
       "        <td>4</td>\n",
       "        <td>D</td>\n",
       "        <td>Che</td>\n",
       "        <td>90</td>\n",
       "    </tr>\n",
       "</table>"
      ],
      "text/plain": [
       "[(1, 'A', 'Phy', 90),\n",
       " (1, 'A', 'Che', 95),\n",
       " (2, 'B', 'Phy', 80),\n",
       " (2, 'B', 'Che', 85),\n",
       " (3, 'C', 'Phy', 90),\n",
       " (4, 'D', 'Phy', 75),\n",
       " (4, 'D', 'Che', 90)]"
      ]
     },
     "execution_count": 28,
     "metadata": {},
     "output_type": "execute_result"
    }
   ],
   "source": [
    "%sql Create table Student(Studid number,NAME varchar2(10),Subject varchar2(20),marks number);insert into student values(1,'A','Phy','90');insert into student values(1,'A','Che','95');insert into student values(2,'B','Phy','80');insert into student values(2,'B','Che','85');insert into student values(3,'C','Phy','90');insert into student values(4,'D','Phy','75');insert into student values(4,'D','Che','90');\n",
    "%sql select * from student;"
   ]
  },
  {
   "cell_type": "code",
   "execution_count": 29,
   "id": "1ff4fe49",
   "metadata": {},
   "outputs": [
    {
     "name": "stdout",
     "output_type": "stream",
     "text": [
      " * sqlite://\n",
      "Done.\n"
     ]
    },
    {
     "data": {
      "text/html": [
       "<table>\n",
       "    <tr>\n",
       "        <th>name</th>\n",
       "    </tr>\n",
       "    <tr>\n",
       "        <td>A</td>\n",
       "    </tr>\n",
       "</table>"
      ],
      "text/plain": [
       "[('A',)]"
      ]
     },
     "execution_count": 29,
     "metadata": {},
     "output_type": "execute_result"
    }
   ],
   "source": [
    "%sql with q1 as (select name,marks,count(subject) as num from student group by name), q2 as (select name from q1 where num >1 and marks>85) select * from q2;"
   ]
  },
  {
   "attachments": {
    "image-2.png": {
     "image/png": "[encoded data removed]"
    },
    "image-3.png": {
     "image/png": "[encoded data removed]"
    },
    "image.png": {
     "image/png": "[encoded data removed]"
    }
   },
   "cell_type": "markdown",
   "id": "649dcdfe",
   "metadata": {},
   "source": [
    "# Step by Step solution\n",
    "\n",
    "\n",
    "![image.png](attachment:image.png)\n",
    "\n",
    "![image-2.png](attachment:image-2.png)\n",
    "\n",
    "![image-3.png](attachment:image-3.png)"
   ]
  },
  {
   "cell_type": "code",
   "execution_count": null,
   "id": "cde875c0",
   "metadata": {},
   "outputs": [],
   "source": []
  }
 ],
 "metadata": {
  "kernelspec": {
   "display_name": "Python 3 (ipykernel)",
   "language": "python",
   "name": "python3"
  },
  "language_info": {
   "codemirror_mode": {
    "name": "ipython",
    "version": 3
   },
   "file_extension": ".py",
   "mimetype": "text/x-python",
   "name": "python",
   "nbconvert_exporter": "python",
   "pygments_lexer": "ipython3",
   "version": "3.9.12"
  }
 },
 "nbformat": 4,
 "nbformat_minor": 5
}
