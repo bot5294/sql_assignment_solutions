{
 "cells": [
  {
   "cell_type": "markdown",
   "id": "003bc672",
   "metadata": {},
   "source": [
    "# TechNest Assignment 3"
   ]
  },
  {
   "cell_type": "code",
   "execution_count": 1,
   "id": "eb9293a0",
   "metadata": {},
   "outputs": [],
   "source": [
    "%load_ext sql"
   ]
  },
  {
   "cell_type": "code",
   "execution_count": 2,
   "id": "dc160897",
   "metadata": {},
   "outputs": [],
   "source": [
    "%sql sqlite://"
   ]
  },
  {
   "cell_type": "markdown",
   "id": "b76f886f",
   "metadata": {},
   "source": [
    "# Q1. Write an SQL query to fetch the student details for the below conditions.\n",
    "***All these conditions are sub questions so your query must be seperate for each of the sub questions mentioned below.<br>\n",
    "a)Those who have scored 90 in Phy<br>\n",
    "b)Those who have scored 90 in Che<br>\n",
    "c)Those who have scored 90 in Phy or Che***<br>\n",
    "<br>\n",
    "***Create table Student(Studid number,NAME varchar2(10),Subject varchar2(20),marks number);<br>\n",
    "insert into student values(1,'A','Phy','90');<br>\n",
    "insert into student values(1,'A','Che','90');<br>\n",
    "insert into student values(2,'B','Phy','80');<br>\n",
    "insert into student values(2,'B','Che','85');<br>\n",
    "insert into student values(3,'C','Phy','90');<br>\n",
    "insert into student values(4,'D','Phy','75');<br>\n",
    "insert into student values(4,'D','Che','90');***\n"
   ]
  },
  {
   "cell_type": "code",
   "execution_count": 4,
   "id": "80d2824c",
   "metadata": {},
   "outputs": [
    {
     "name": "stdout",
     "output_type": "stream",
     "text": [
      " * sqlite://\n",
      "Done.\n"
     ]
    },
    {
     "data": {
      "text/html": [
       "<table>\n",
       "    <tr>\n",
       "        <th>Studid</th>\n",
       "        <th>NAME</th>\n",
       "        <th>Subject</th>\n",
       "        <th>marks</th>\n",
       "    </tr>\n",
       "    <tr>\n",
       "        <td>1</td>\n",
       "        <td>A</td>\n",
       "        <td>Phy</td>\n",
       "        <td>90</td>\n",
       "    </tr>\n",
       "    <tr>\n",
       "        <td>1</td>\n",
       "        <td>A</td>\n",
       "        <td>Che</td>\n",
       "        <td>90</td>\n",
       "    </tr>\n",
       "    <tr>\n",
       "        <td>2</td>\n",
       "        <td>B</td>\n",
       "        <td>Phy</td>\n",
       "        <td>80</td>\n",
       "    </tr>\n",
       "    <tr>\n",
       "        <td>2</td>\n",
       "        <td>B</td>\n",
       "        <td>Che</td>\n",
       "        <td>85</td>\n",
       "    </tr>\n",
       "    <tr>\n",
       "        <td>3</td>\n",
       "        <td>C</td>\n",
       "        <td>Phy</td>\n",
       "        <td>90</td>\n",
       "    </tr>\n",
       "    <tr>\n",
       "        <td>4</td>\n",
       "        <td>D</td>\n",
       "        <td>Phy</td>\n",
       "        <td>75</td>\n",
       "    </tr>\n",
       "    <tr>\n",
       "        <td>4</td>\n",
       "        <td>D</td>\n",
       "        <td>Che</td>\n",
       "        <td>90</td>\n",
       "    </tr>\n",
       "</table>"
      ],
      "text/plain": [
       "[(1, 'A', 'Phy', 90),\n",
       " (1, 'A', 'Che', 90),\n",
       " (2, 'B', 'Phy', 80),\n",
       " (2, 'B', 'Che', 85),\n",
       " (3, 'C', 'Phy', 90),\n",
       " (4, 'D', 'Phy', 75),\n",
       " (4, 'D', 'Che', 90)]"
      ]
     },
     "execution_count": 4,
     "metadata": {},
     "output_type": "execute_result"
    }
   ],
   "source": [
    "%sql Create table Student(Studid number,NAME varchar2(10),Subject varchar2(20),marks number);insert into student values(1,'A','Phy','90');insert into student values(1,'A','Che','90');insert into student values(2,'B','Phy','80');insert into student values(2,'B','Che','85');insert into student values(3,'C','Phy','90');insert into student values(4,'D','Phy','75');insert into student values(4,'D','Che','90');\n",
    "\n",
    "%sql select * from student;"
   ]
  },
  {
   "cell_type": "code",
   "execution_count": 5,
   "id": "1128206a",
   "metadata": {},
   "outputs": [
    {
     "name": "stdout",
     "output_type": "stream",
     "text": [
      " * sqlite://\n",
      "Done.\n"
     ]
    },
    {
     "data": {
      "text/html": [
       "<table>\n",
       "    <tr>\n",
       "        <th>Studid</th>\n",
       "        <th>NAME</th>\n",
       "        <th>Subject</th>\n",
       "        <th>marks</th>\n",
       "    </tr>\n",
       "    <tr>\n",
       "        <td>1</td>\n",
       "        <td>A</td>\n",
       "        <td>Phy</td>\n",
       "        <td>90</td>\n",
       "    </tr>\n",
       "    <tr>\n",
       "        <td>3</td>\n",
       "        <td>C</td>\n",
       "        <td>Phy</td>\n",
       "        <td>90</td>\n",
       "    </tr>\n",
       "</table>"
      ],
      "text/plain": [
       "[(1, 'A', 'Phy', 90), (3, 'C', 'Phy', 90)]"
      ]
     },
     "execution_count": 5,
     "metadata": {},
     "output_type": "execute_result"
    }
   ],
   "source": [
    "#### solution\n",
    "#### (a)\n",
    "%sql select * from student where marks = '90' and subject = 'Phy';"
   ]
  },
  {
   "cell_type": "code",
   "execution_count": 6,
   "id": "3779c189",
   "metadata": {},
   "outputs": [
    {
     "name": "stdout",
     "output_type": "stream",
     "text": [
      " * sqlite://\n",
      "Done.\n"
     ]
    },
    {
     "data": {
      "text/html": [
       "<table>\n",
       "    <tr>\n",
       "        <th>Studid</th>\n",
       "        <th>NAME</th>\n",
       "        <th>Subject</th>\n",
       "        <th>marks</th>\n",
       "    </tr>\n",
       "    <tr>\n",
       "        <td>1</td>\n",
       "        <td>A</td>\n",
       "        <td>Che</td>\n",
       "        <td>90</td>\n",
       "    </tr>\n",
       "    <tr>\n",
       "        <td>4</td>\n",
       "        <td>D</td>\n",
       "        <td>Che</td>\n",
       "        <td>90</td>\n",
       "    </tr>\n",
       "</table>"
      ],
      "text/plain": [
       "[(1, 'A', 'Che', 90), (4, 'D', 'Che', 90)]"
      ]
     },
     "execution_count": 6,
     "metadata": {},
     "output_type": "execute_result"
    }
   ],
   "source": [
    "#### (b)\n",
    "%sql select * from student where marks = '90' and subject = 'Che';"
   ]
  },
  {
   "cell_type": "code",
   "execution_count": 7,
   "id": "359ece83",
   "metadata": {},
   "outputs": [
    {
     "name": "stdout",
     "output_type": "stream",
     "text": [
      " * sqlite://\n",
      "Done.\n"
     ]
    },
    {
     "data": {
      "text/html": [
       "<table>\n",
       "    <tr>\n",
       "        <th>Studid</th>\n",
       "        <th>NAME</th>\n",
       "        <th>Subject</th>\n",
       "        <th>marks</th>\n",
       "    </tr>\n",
       "    <tr>\n",
       "        <td>1</td>\n",
       "        <td>A</td>\n",
       "        <td>Phy</td>\n",
       "        <td>90</td>\n",
       "    </tr>\n",
       "    <tr>\n",
       "        <td>1</td>\n",
       "        <td>A</td>\n",
       "        <td>Che</td>\n",
       "        <td>90</td>\n",
       "    </tr>\n",
       "    <tr>\n",
       "        <td>3</td>\n",
       "        <td>C</td>\n",
       "        <td>Phy</td>\n",
       "        <td>90</td>\n",
       "    </tr>\n",
       "    <tr>\n",
       "        <td>4</td>\n",
       "        <td>D</td>\n",
       "        <td>Che</td>\n",
       "        <td>90</td>\n",
       "    </tr>\n",
       "</table>"
      ],
      "text/plain": [
       "[(1, 'A', 'Phy', 90),\n",
       " (1, 'A', 'Che', 90),\n",
       " (3, 'C', 'Phy', 90),\n",
       " (4, 'D', 'Che', 90)]"
      ]
     },
     "execution_count": 7,
     "metadata": {},
     "output_type": "execute_result"
    }
   ],
   "source": [
    "#### (c)\n",
    "%sql select * from student where marks = '90' and subject in ('Phy','Che');"
   ]
  },
  {
   "cell_type": "code",
   "execution_count": 8,
   "id": "4202a549",
   "metadata": {},
   "outputs": [
    {
     "name": "stdout",
     "output_type": "stream",
     "text": [
      " * sqlite://\n",
      "Done.\n"
     ]
    },
    {
     "data": {
      "text/plain": [
       "[]"
      ]
     },
     "execution_count": 8,
     "metadata": {},
     "output_type": "execute_result"
    }
   ],
   "source": [
    "%sql drop table student;"
   ]
  },
  {
   "cell_type": "markdown",
   "id": "a9f1b873",
   "metadata": {},
   "source": [
    "# Q2. Write a SQL query to fetch the employee details with empid 1 or 2 or 8 using IN operator.\n",
    "***Create table employee(empid number,empname varchar2(10),Mgrid number);\n",
    "insert into employee values(1,'A',4);<br>\n",
    "insert into employee values(2,'B',5);<br>\n",
    "insert into employee values(3,'C',6);<br>\n",
    "insert into employee values(4,'D',5);<br>\n",
    "insert into employee values(5,'E','');<br>\n",
    "insert into employee values(6,'F','');***"
   ]
  },
  {
   "cell_type": "code",
   "execution_count": 9,
   "id": "cb5f81e3",
   "metadata": {},
   "outputs": [
    {
     "name": "stdout",
     "output_type": "stream",
     "text": [
      " * sqlite://\n",
      "Done.\n",
      "1 rows affected.\n",
      "1 rows affected.\n",
      "1 rows affected.\n",
      "1 rows affected.\n",
      "1 rows affected.\n",
      "1 rows affected.\n",
      " * sqlite://\n",
      "Done.\n"
     ]
    },
    {
     "data": {
      "text/html": [
       "<table>\n",
       "    <tr>\n",
       "        <th>empid</th>\n",
       "        <th>empname</th>\n",
       "        <th>Mgrid</th>\n",
       "    </tr>\n",
       "    <tr>\n",
       "        <td>1</td>\n",
       "        <td>A</td>\n",
       "        <td>4</td>\n",
       "    </tr>\n",
       "    <tr>\n",
       "        <td>2</td>\n",
       "        <td>B</td>\n",
       "        <td>5</td>\n",
       "    </tr>\n",
       "    <tr>\n",
       "        <td>3</td>\n",
       "        <td>C</td>\n",
       "        <td>6</td>\n",
       "    </tr>\n",
       "    <tr>\n",
       "        <td>4</td>\n",
       "        <td>D</td>\n",
       "        <td>5</td>\n",
       "    </tr>\n",
       "    <tr>\n",
       "        <td>5</td>\n",
       "        <td>E</td>\n",
       "        <td></td>\n",
       "    </tr>\n",
       "    <tr>\n",
       "        <td>6</td>\n",
       "        <td>F</td>\n",
       "        <td></td>\n",
       "    </tr>\n",
       "</table>"
      ],
      "text/plain": [
       "[(1, 'A', 4),\n",
       " (2, 'B', 5),\n",
       " (3, 'C', 6),\n",
       " (4, 'D', 5),\n",
       " (5, 'E', ''),\n",
       " (6, 'F', '')]"
      ]
     },
     "execution_count": 9,
     "metadata": {},
     "output_type": "execute_result"
    }
   ],
   "source": [
    "%sql Create table employee(empid number,empname varchar2(10),Mgrid number); insert into employee values(1,'A',4);insert into employee values(2,'B',5);insert into employee values(3,'C',6);insert into employee values(4,'D',5);insert into employee values(5,'E','');insert into employee values(6,'F','');\n",
    "%sql select * from employee;"
   ]
  },
  {
   "cell_type": "code",
   "execution_count": 10,
   "id": "fe55ce4f",
   "metadata": {},
   "outputs": [
    {
     "name": "stdout",
     "output_type": "stream",
     "text": [
      " * sqlite://\n",
      "Done.\n"
     ]
    },
    {
     "data": {
      "text/html": [
       "<table>\n",
       "    <tr>\n",
       "        <th>empid</th>\n",
       "        <th>empname</th>\n",
       "        <th>Mgrid</th>\n",
       "    </tr>\n",
       "    <tr>\n",
       "        <td>1</td>\n",
       "        <td>A</td>\n",
       "        <td>4</td>\n",
       "    </tr>\n",
       "    <tr>\n",
       "        <td>2</td>\n",
       "        <td>B</td>\n",
       "        <td>5</td>\n",
       "    </tr>\n",
       "</table>"
      ],
      "text/plain": [
       "[(1, 'A', 4), (2, 'B', 5)]"
      ]
     },
     "execution_count": 10,
     "metadata": {},
     "output_type": "execute_result"
    }
   ],
   "source": [
    "# solution\n",
    "%sql select * from employee where empid in ('1','2','8');"
   ]
  },
  {
   "cell_type": "code",
   "execution_count": 65,
   "id": "64b7b7a0",
   "metadata": {},
   "outputs": [
    {
     "name": "stdout",
     "output_type": "stream",
     "text": [
      " * sqlite://\n",
      "Done.\n"
     ]
    },
    {
     "data": {
      "text/plain": [
       "[]"
      ]
     },
     "execution_count": 65,
     "metadata": {},
     "output_type": "execute_result"
    }
   ],
   "source": [
    "%sql drop table employee;"
   ]
  },
  {
   "cell_type": "markdown",
   "id": "a7efbc52",
   "metadata": {},
   "source": [
    "# Q3.Write a SQL query to fetch distinct \n",
    "***a) empid<br>\n",
    "b) empname<br>\n",
    "c) dept<br>\n",
    "d) empid,empname<br>\n",
    "e) empname,dept***<br>\n",
    "<br>\n",
    "***Create table Dept(Empid number,Empname varchar2(10),Dept varchar2(10));<br>\n",
    "insert into dept values(1,'A','HR');<br>\n",
    "insert into dept values(2,'B','HR');<br>\n",
    "insert into dept values(3,'C','SALES');<br>\n",
    "insert into dept values(4,'D','SALES');<br>\n",
    "insert into dept values(5,'E','SALES');<br>\n",
    "insert into dept values(6,'F',NULL);<br>\n",
    "insert into dept values(7,'G',NULL);<br>\n",
    "insert into dept values(1,'A','HR');<br>\n",
    "insert into dept values(2,'B','HR');<br>\n",
    "insert into dept values(3,'C','SALES');***"
   ]
  },
  {
   "cell_type": "code",
   "execution_count": 12,
   "id": "1f2a3aa8",
   "metadata": {},
   "outputs": [
    {
     "name": "stdout",
     "output_type": "stream",
     "text": [
      " * sqlite://\n",
      "Done.\n"
     ]
    },
    {
     "data": {
      "text/html": [
       "<table>\n",
       "    <tr>\n",
       "        <th>Empid</th>\n",
       "        <th>Empname</th>\n",
       "        <th>Dept</th>\n",
       "    </tr>\n",
       "    <tr>\n",
       "        <td>1</td>\n",
       "        <td>A</td>\n",
       "        <td>HR</td>\n",
       "    </tr>\n",
       "    <tr>\n",
       "        <td>2</td>\n",
       "        <td>B</td>\n",
       "        <td>HR</td>\n",
       "    </tr>\n",
       "    <tr>\n",
       "        <td>3</td>\n",
       "        <td>C</td>\n",
       "        <td>SALES</td>\n",
       "    </tr>\n",
       "    <tr>\n",
       "        <td>4</td>\n",
       "        <td>D</td>\n",
       "        <td>SALES</td>\n",
       "    </tr>\n",
       "    <tr>\n",
       "        <td>5</td>\n",
       "        <td>E</td>\n",
       "        <td>SALES</td>\n",
       "    </tr>\n",
       "    <tr>\n",
       "        <td>6</td>\n",
       "        <td>F</td>\n",
       "        <td>None</td>\n",
       "    </tr>\n",
       "    <tr>\n",
       "        <td>7</td>\n",
       "        <td>G</td>\n",
       "        <td>None</td>\n",
       "    </tr>\n",
       "    <tr>\n",
       "        <td>1</td>\n",
       "        <td>A</td>\n",
       "        <td>HR</td>\n",
       "    </tr>\n",
       "    <tr>\n",
       "        <td>2</td>\n",
       "        <td>B</td>\n",
       "        <td>HR</td>\n",
       "    </tr>\n",
       "    <tr>\n",
       "        <td>3</td>\n",
       "        <td>C</td>\n",
       "        <td>SALES</td>\n",
       "    </tr>\n",
       "</table>"
      ],
      "text/plain": [
       "[(1, 'A', 'HR'),\n",
       " (2, 'B', 'HR'),\n",
       " (3, 'C', 'SALES'),\n",
       " (4, 'D', 'SALES'),\n",
       " (5, 'E', 'SALES'),\n",
       " (6, 'F', None),\n",
       " (7, 'G', None),\n",
       " (1, 'A', 'HR'),\n",
       " (2, 'B', 'HR'),\n",
       " (3, 'C', 'SALES')]"
      ]
     },
     "execution_count": 12,
     "metadata": {},
     "output_type": "execute_result"
    }
   ],
   "source": [
    "%sql Create table Dept(Empid number,Empname varchar2(10),Dept varchar2(10));insert into dept values(1,'A','HR');insert into dept values(2,'B','HR');insert into dept values(3,'C','SALES');insert into dept values(4,'D','SALES');insert into dept values(5,'E','SALES');insert into dept values(6,'F',NULL);insert into dept values(7,'G',NULL);insert into dept values(1,'A','HR');insert into dept values(2,'B','HR');insert into dept values(3,'C','SALES');\n",
    "%sql select * from dept;"
   ]
  },
  {
   "cell_type": "code",
   "execution_count": 13,
   "id": "867aaa8b",
   "metadata": {},
   "outputs": [
    {
     "name": "stdout",
     "output_type": "stream",
     "text": [
      " * sqlite://\n",
      "Done.\n"
     ]
    },
    {
     "data": {
      "text/html": [
       "<table>\n",
       "    <tr>\n",
       "        <th>Empid</th>\n",
       "    </tr>\n",
       "    <tr>\n",
       "        <td>1</td>\n",
       "    </tr>\n",
       "    <tr>\n",
       "        <td>2</td>\n",
       "    </tr>\n",
       "    <tr>\n",
       "        <td>3</td>\n",
       "    </tr>\n",
       "    <tr>\n",
       "        <td>4</td>\n",
       "    </tr>\n",
       "    <tr>\n",
       "        <td>5</td>\n",
       "    </tr>\n",
       "    <tr>\n",
       "        <td>6</td>\n",
       "    </tr>\n",
       "    <tr>\n",
       "        <td>7</td>\n",
       "    </tr>\n",
       "</table>"
      ],
      "text/plain": [
       "[(1,), (2,), (3,), (4,), (5,), (6,), (7,)]"
      ]
     },
     "execution_count": 13,
     "metadata": {},
     "output_type": "execute_result"
    }
   ],
   "source": [
    "# solution\n",
    "\n",
    "# (a)\n",
    "%sql select distinct empid from dept;"
   ]
  },
  {
   "cell_type": "code",
   "execution_count": 14,
   "id": "d953e497",
   "metadata": {},
   "outputs": [
    {
     "name": "stdout",
     "output_type": "stream",
     "text": [
      " * sqlite://\n",
      "Done.\n"
     ]
    },
    {
     "data": {
      "text/html": [
       "<table>\n",
       "    <tr>\n",
       "        <th>Empname</th>\n",
       "    </tr>\n",
       "    <tr>\n",
       "        <td>A</td>\n",
       "    </tr>\n",
       "    <tr>\n",
       "        <td>B</td>\n",
       "    </tr>\n",
       "    <tr>\n",
       "        <td>C</td>\n",
       "    </tr>\n",
       "    <tr>\n",
       "        <td>D</td>\n",
       "    </tr>\n",
       "    <tr>\n",
       "        <td>E</td>\n",
       "    </tr>\n",
       "    <tr>\n",
       "        <td>F</td>\n",
       "    </tr>\n",
       "    <tr>\n",
       "        <td>G</td>\n",
       "    </tr>\n",
       "</table>"
      ],
      "text/plain": [
       "[('A',), ('B',), ('C',), ('D',), ('E',), ('F',), ('G',)]"
      ]
     },
     "execution_count": 14,
     "metadata": {},
     "output_type": "execute_result"
    }
   ],
   "source": [
    "# (b)\n",
    "%sql select distinct empname from dept;"
   ]
  },
  {
   "cell_type": "code",
   "execution_count": 15,
   "id": "72df8903",
   "metadata": {},
   "outputs": [
    {
     "name": "stdout",
     "output_type": "stream",
     "text": [
      " * sqlite://\n",
      "Done.\n"
     ]
    },
    {
     "data": {
      "text/html": [
       "<table>\n",
       "    <tr>\n",
       "        <th>Dept</th>\n",
       "    </tr>\n",
       "    <tr>\n",
       "        <td>HR</td>\n",
       "    </tr>\n",
       "    <tr>\n",
       "        <td>SALES</td>\n",
       "    </tr>\n",
       "    <tr>\n",
       "        <td>None</td>\n",
       "    </tr>\n",
       "</table>"
      ],
      "text/plain": [
       "[('HR',), ('SALES',), (None,)]"
      ]
     },
     "execution_count": 15,
     "metadata": {},
     "output_type": "execute_result"
    }
   ],
   "source": [
    "# (c)\n",
    "%sql select distinct dept from dept;"
   ]
  },
  {
   "cell_type": "code",
   "execution_count": 16,
   "id": "2cb73de8",
   "metadata": {},
   "outputs": [
    {
     "name": "stdout",
     "output_type": "stream",
     "text": [
      " * sqlite://\n",
      "Done.\n"
     ]
    },
    {
     "data": {
      "text/html": [
       "<table>\n",
       "    <tr>\n",
       "        <th>Empid</th>\n",
       "        <th>Empname</th>\n",
       "    </tr>\n",
       "    <tr>\n",
       "        <td>1</td>\n",
       "        <td>A</td>\n",
       "    </tr>\n",
       "    <tr>\n",
       "        <td>2</td>\n",
       "        <td>B</td>\n",
       "    </tr>\n",
       "    <tr>\n",
       "        <td>3</td>\n",
       "        <td>C</td>\n",
       "    </tr>\n",
       "    <tr>\n",
       "        <td>4</td>\n",
       "        <td>D</td>\n",
       "    </tr>\n",
       "    <tr>\n",
       "        <td>5</td>\n",
       "        <td>E</td>\n",
       "    </tr>\n",
       "    <tr>\n",
       "        <td>6</td>\n",
       "        <td>F</td>\n",
       "    </tr>\n",
       "    <tr>\n",
       "        <td>7</td>\n",
       "        <td>G</td>\n",
       "    </tr>\n",
       "</table>"
      ],
      "text/plain": [
       "[(1, 'A'), (2, 'B'), (3, 'C'), (4, 'D'), (5, 'E'), (6, 'F'), (7, 'G')]"
      ]
     },
     "execution_count": 16,
     "metadata": {},
     "output_type": "execute_result"
    }
   ],
   "source": [
    "# (d)\n",
    "%sql select distinct empid,empname from dept;"
   ]
  },
  {
   "cell_type": "code",
   "execution_count": 17,
   "id": "bbfc2485",
   "metadata": {
    "scrolled": true
   },
   "outputs": [
    {
     "name": "stdout",
     "output_type": "stream",
     "text": [
      " * sqlite://\n",
      "Done.\n"
     ]
    },
    {
     "data": {
      "text/html": [
       "<table>\n",
       "    <tr>\n",
       "        <th>Empname</th>\n",
       "        <th>Dept</th>\n",
       "    </tr>\n",
       "    <tr>\n",
       "        <td>A</td>\n",
       "        <td>HR</td>\n",
       "    </tr>\n",
       "    <tr>\n",
       "        <td>B</td>\n",
       "        <td>HR</td>\n",
       "    </tr>\n",
       "    <tr>\n",
       "        <td>C</td>\n",
       "        <td>SALES</td>\n",
       "    </tr>\n",
       "    <tr>\n",
       "        <td>D</td>\n",
       "        <td>SALES</td>\n",
       "    </tr>\n",
       "    <tr>\n",
       "        <td>E</td>\n",
       "        <td>SALES</td>\n",
       "    </tr>\n",
       "    <tr>\n",
       "        <td>F</td>\n",
       "        <td>None</td>\n",
       "    </tr>\n",
       "    <tr>\n",
       "        <td>G</td>\n",
       "        <td>None</td>\n",
       "    </tr>\n",
       "</table>"
      ],
      "text/plain": [
       "[('A', 'HR'),\n",
       " ('B', 'HR'),\n",
       " ('C', 'SALES'),\n",
       " ('D', 'SALES'),\n",
       " ('E', 'SALES'),\n",
       " ('F', None),\n",
       " ('G', None)]"
      ]
     },
     "execution_count": 17,
     "metadata": {},
     "output_type": "execute_result"
    }
   ],
   "source": [
    "# (e)\n",
    "%sql select distinct empname,dept from dept;"
   ]
  },
  {
   "cell_type": "code",
   "execution_count": 19,
   "id": "a3ad191a",
   "metadata": {},
   "outputs": [
    {
     "name": "stdout",
     "output_type": "stream",
     "text": [
      " * sqlite://\n",
      "Done.\n"
     ]
    },
    {
     "data": {
      "text/plain": [
       "[]"
      ]
     },
     "execution_count": 19,
     "metadata": {},
     "output_type": "execute_result"
    }
   ],
   "source": [
    "%sql drop table dept;"
   ]
  },
  {
   "cell_type": "markdown",
   "id": "95287a34",
   "metadata": {},
   "source": [
    "# Q4. Write a SQL query to fetch the records where \n",
    "***a>ID is null<br>\n",
    "b>NAME is null<br>\n",
    "c>ID is not null<br>\n",
    "d>NAME is not null<br>\n",
    "e>ID and NAME both are null<br>\n",
    "f>Either ID is null or NAME is null.<br>\n",
    "g>total count of null records in ID column.<br>\n",
    "h>total count of null records in NAME column.<br>\n",
    "i>total count of records were ID and NAME both are null.<br>\n",
    "j>display the distinct IDs<br>\n",
    "k>display the distinct NAME***<br>\n",
    "<br>\n",
    "***CREATE TABLE STUD1(ID NUMBER,NAME VARCHAR2(10));<br>\n",
    "INSERT INTO STUD1 VALUES(NULL,'A');<br>\n",
    "INSERT INTO STUD1 VALUES(1,NULL);<br>\n",
    "INSERT INTO STUD1 VALUES(NULL,NULL);***"
   ]
  },
  {
   "cell_type": "code",
   "execution_count": 18,
   "id": "81877a68",
   "metadata": {},
   "outputs": [
    {
     "name": "stdout",
     "output_type": "stream",
     "text": [
      " * sqlite://\n",
      "Done.\n",
      "1 rows affected.\n",
      "1 rows affected.\n",
      "1 rows affected.\n",
      " * sqlite://\n",
      "Done.\n"
     ]
    },
    {
     "data": {
      "text/html": [
       "<table>\n",
       "    <tr>\n",
       "        <th>ID</th>\n",
       "        <th>NAME</th>\n",
       "    </tr>\n",
       "    <tr>\n",
       "        <td>None</td>\n",
       "        <td>A</td>\n",
       "    </tr>\n",
       "    <tr>\n",
       "        <td>1</td>\n",
       "        <td>None</td>\n",
       "    </tr>\n",
       "    <tr>\n",
       "        <td>None</td>\n",
       "        <td>None</td>\n",
       "    </tr>\n",
       "</table>"
      ],
      "text/plain": [
       "[(None, 'A'), (1, None), (None, None)]"
      ]
     },
     "execution_count": 18,
     "metadata": {},
     "output_type": "execute_result"
    }
   ],
   "source": [
    "%sql CREATE TABLE STUD1(ID NUMBER,NAME VARCHAR2(10));INSERT INTO STUD1 VALUES(NULL,'A');INSERT INTO STUD1 VALUES(1,NULL);INSERT INTO STUD1 VALUES(NULL,NULL);\n",
    "%sql select * from stud1;"
   ]
  },
  {
   "cell_type": "code",
   "execution_count": 21,
   "id": "04ce843b",
   "metadata": {},
   "outputs": [
    {
     "name": "stdout",
     "output_type": "stream",
     "text": [
      " * sqlite://\n",
      "Done.\n"
     ]
    },
    {
     "data": {
      "text/html": [
       "<table>\n",
       "    <tr>\n",
       "        <th>ID</th>\n",
       "        <th>NAME</th>\n",
       "    </tr>\n",
       "    <tr>\n",
       "        <td>None</td>\n",
       "        <td>A</td>\n",
       "    </tr>\n",
       "    <tr>\n",
       "        <td>None</td>\n",
       "        <td>None</td>\n",
       "    </tr>\n",
       "</table>"
      ],
      "text/plain": [
       "[(None, 'A'), (None, None)]"
      ]
     },
     "execution_count": 21,
     "metadata": {},
     "output_type": "execute_result"
    }
   ],
   "source": [
    "# solution\n",
    "\n",
    "# (a)\n",
    "%sql select * from stud1 where id is null;"
   ]
  },
  {
   "cell_type": "code",
   "execution_count": 25,
   "id": "75269b93",
   "metadata": {},
   "outputs": [
    {
     "name": "stdout",
     "output_type": "stream",
     "text": [
      " * sqlite://\n",
      "Done.\n"
     ]
    },
    {
     "data": {
      "text/html": [
       "<table>\n",
       "    <tr>\n",
       "        <th>ID</th>\n",
       "        <th>NAME</th>\n",
       "    </tr>\n",
       "    <tr>\n",
       "        <td>1</td>\n",
       "        <td>None</td>\n",
       "    </tr>\n",
       "    <tr>\n",
       "        <td>None</td>\n",
       "        <td>None</td>\n",
       "    </tr>\n",
       "</table>"
      ],
      "text/plain": [
       "[(1, None), (None, None)]"
      ]
     },
     "execution_count": 25,
     "metadata": {},
     "output_type": "execute_result"
    }
   ],
   "source": [
    "# (b)\n",
    "%sql select * from stud1 where name is null;"
   ]
  },
  {
   "cell_type": "code",
   "execution_count": 23,
   "id": "95ed0b6d",
   "metadata": {},
   "outputs": [
    {
     "name": "stdout",
     "output_type": "stream",
     "text": [
      " * sqlite://\n",
      "Done.\n"
     ]
    },
    {
     "data": {
      "text/html": [
       "<table>\n",
       "    <tr>\n",
       "        <th>ID</th>\n",
       "        <th>NAME</th>\n",
       "    </tr>\n",
       "    <tr>\n",
       "        <td>1</td>\n",
       "        <td>None</td>\n",
       "    </tr>\n",
       "</table>"
      ],
      "text/plain": [
       "[(1, None)]"
      ]
     },
     "execution_count": 23,
     "metadata": {},
     "output_type": "execute_result"
    }
   ],
   "source": [
    "# (c)\n",
    "%sql select * from stud1 where id is not null;"
   ]
  },
  {
   "cell_type": "code",
   "execution_count": 26,
   "id": "5fa314ff",
   "metadata": {},
   "outputs": [
    {
     "name": "stdout",
     "output_type": "stream",
     "text": [
      " * sqlite://\n",
      "Done.\n"
     ]
    },
    {
     "data": {
      "text/html": [
       "<table>\n",
       "    <tr>\n",
       "        <th>ID</th>\n",
       "        <th>NAME</th>\n",
       "    </tr>\n",
       "    <tr>\n",
       "        <td>None</td>\n",
       "        <td>A</td>\n",
       "    </tr>\n",
       "</table>"
      ],
      "text/plain": [
       "[(None, 'A')]"
      ]
     },
     "execution_count": 26,
     "metadata": {},
     "output_type": "execute_result"
    }
   ],
   "source": [
    "# (d)\n",
    "%sql select * from stud1 where name is not null;"
   ]
  },
  {
   "cell_type": "code",
   "execution_count": 27,
   "id": "e596acc3",
   "metadata": {},
   "outputs": [
    {
     "name": "stdout",
     "output_type": "stream",
     "text": [
      " * sqlite://\n",
      "Done.\n"
     ]
    },
    {
     "data": {
      "text/html": [
       "<table>\n",
       "    <tr>\n",
       "        <th>ID</th>\n",
       "        <th>NAME</th>\n",
       "    </tr>\n",
       "    <tr>\n",
       "        <td>None</td>\n",
       "        <td>None</td>\n",
       "    </tr>\n",
       "</table>"
      ],
      "text/plain": [
       "[(None, None)]"
      ]
     },
     "execution_count": 27,
     "metadata": {},
     "output_type": "execute_result"
    }
   ],
   "source": [
    "# (e)\n",
    "%sql select * from stud1 where id is null and name is null;"
   ]
  },
  {
   "cell_type": "code",
   "execution_count": 28,
   "id": "dbdf7019",
   "metadata": {},
   "outputs": [
    {
     "name": "stdout",
     "output_type": "stream",
     "text": [
      " * sqlite://\n",
      "Done.\n"
     ]
    },
    {
     "data": {
      "text/html": [
       "<table>\n",
       "    <tr>\n",
       "        <th>ID</th>\n",
       "        <th>NAME</th>\n",
       "    </tr>\n",
       "    <tr>\n",
       "        <td>None</td>\n",
       "        <td>A</td>\n",
       "    </tr>\n",
       "    <tr>\n",
       "        <td>1</td>\n",
       "        <td>None</td>\n",
       "    </tr>\n",
       "    <tr>\n",
       "        <td>None</td>\n",
       "        <td>None</td>\n",
       "    </tr>\n",
       "</table>"
      ],
      "text/plain": [
       "[(None, 'A'), (1, None), (None, None)]"
      ]
     },
     "execution_count": 28,
     "metadata": {},
     "output_type": "execute_result"
    }
   ],
   "source": [
    "# (f)\n",
    "%sql select * from stud1 where id is null or name is null;"
   ]
  },
  {
   "cell_type": "code",
   "execution_count": 30,
   "id": "8db5d6bb",
   "metadata": {},
   "outputs": [
    {
     "name": "stdout",
     "output_type": "stream",
     "text": [
      " * sqlite://\n",
      "Done.\n"
     ]
    },
    {
     "data": {
      "text/html": [
       "<table>\n",
       "    <tr>\n",
       "        <th>count(*)</th>\n",
       "    </tr>\n",
       "    <tr>\n",
       "        <td>2</td>\n",
       "    </tr>\n",
       "</table>"
      ],
      "text/plain": [
       "[(2,)]"
      ]
     },
     "execution_count": 30,
     "metadata": {},
     "output_type": "execute_result"
    }
   ],
   "source": [
    "# (g)\n",
    "%sql select count(*) from stud1 where id is null;"
   ]
  },
  {
   "cell_type": "code",
   "execution_count": 32,
   "id": "5c604eb7",
   "metadata": {},
   "outputs": [
    {
     "name": "stdout",
     "output_type": "stream",
     "text": [
      " * sqlite://\n",
      "Done.\n"
     ]
    },
    {
     "data": {
      "text/html": [
       "<table>\n",
       "    <tr>\n",
       "        <th>count(*)</th>\n",
       "    </tr>\n",
       "    <tr>\n",
       "        <td>2</td>\n",
       "    </tr>\n",
       "</table>"
      ],
      "text/plain": [
       "[(2,)]"
      ]
     },
     "execution_count": 32,
     "metadata": {},
     "output_type": "execute_result"
    }
   ],
   "source": [
    "# (h)\n",
    "%sql select count(*) from stud1 where name is null;"
   ]
  },
  {
   "cell_type": "code",
   "execution_count": 33,
   "id": "78b9f75c",
   "metadata": {},
   "outputs": [
    {
     "name": "stdout",
     "output_type": "stream",
     "text": [
      " * sqlite://\n",
      "Done.\n"
     ]
    },
    {
     "data": {
      "text/html": [
       "<table>\n",
       "    <tr>\n",
       "        <th>count(*)</th>\n",
       "    </tr>\n",
       "    <tr>\n",
       "        <td>1</td>\n",
       "    </tr>\n",
       "</table>"
      ],
      "text/plain": [
       "[(1,)]"
      ]
     },
     "execution_count": 33,
     "metadata": {},
     "output_type": "execute_result"
    }
   ],
   "source": [
    "# (i)\n",
    "%sql select count(*) from stud1 where id is null and name is null;"
   ]
  },
  {
   "cell_type": "code",
   "execution_count": 38,
   "id": "487bce2d",
   "metadata": {},
   "outputs": [
    {
     "name": "stdout",
     "output_type": "stream",
     "text": [
      " * sqlite://\n",
      "Done.\n"
     ]
    },
    {
     "data": {
      "text/html": [
       "<table>\n",
       "    <tr>\n",
       "        <th>ID</th>\n",
       "    </tr>\n",
       "    <tr>\n",
       "        <td>None</td>\n",
       "    </tr>\n",
       "    <tr>\n",
       "        <td>1</td>\n",
       "    </tr>\n",
       "</table>"
      ],
      "text/plain": [
       "[(None,), (1,)]"
      ]
     },
     "execution_count": 38,
     "metadata": {},
     "output_type": "execute_result"
    }
   ],
   "source": [
    "# (j)\n",
    "%sql select distinct id from stud1;"
   ]
  },
  {
   "cell_type": "code",
   "execution_count": 39,
   "id": "40ddf05d",
   "metadata": {},
   "outputs": [
    {
     "name": "stdout",
     "output_type": "stream",
     "text": [
      " * sqlite://\n",
      "Done.\n"
     ]
    },
    {
     "data": {
      "text/html": [
       "<table>\n",
       "    <tr>\n",
       "        <th>NAME</th>\n",
       "    </tr>\n",
       "    <tr>\n",
       "        <td>A</td>\n",
       "    </tr>\n",
       "    <tr>\n",
       "        <td>None</td>\n",
       "    </tr>\n",
       "</table>"
      ],
      "text/plain": [
       "[('A',), (None,)]"
      ]
     },
     "execution_count": 39,
     "metadata": {},
     "output_type": "execute_result"
    }
   ],
   "source": [
    "# (k)\n",
    "%sql select distinct name from stud1;"
   ]
  },
  {
   "cell_type": "markdown",
   "id": "d93e77b6",
   "metadata": {},
   "source": [
    "# Q5. Write an SQL query to fetch the records which have atleast one yellow present in any of the columns(c1,c2 or c3)\n",
    "***create table practice(id int,c1 varchar(50),c2 varchar(50),c3 varchar(50));<br>\n",
    "insert into practice values(1,'red','yellow','blue');<br>\n",
    "insert into practice values(2,null,'red','green');<br>\n",
    "insert into practice values(3,'yellow',null,'violet');***"
   ]
  },
  {
   "cell_type": "code",
   "execution_count": 47,
   "id": "c152417e",
   "metadata": {},
   "outputs": [
    {
     "name": "stdout",
     "output_type": "stream",
     "text": [
      " * sqlite://\n",
      "Done.\n",
      "1 rows affected.\n",
      "1 rows affected.\n",
      "1 rows affected.\n",
      " * sqlite://\n",
      "Done.\n"
     ]
    },
    {
     "data": {
      "text/html": [
       "<table>\n",
       "    <tr>\n",
       "        <th>id</th>\n",
       "        <th>c1</th>\n",
       "        <th>c2</th>\n",
       "        <th>c3</th>\n",
       "    </tr>\n",
       "    <tr>\n",
       "        <td>1</td>\n",
       "        <td>red</td>\n",
       "        <td>yellow</td>\n",
       "        <td>blue</td>\n",
       "    </tr>\n",
       "    <tr>\n",
       "        <td>2</td>\n",
       "        <td>None</td>\n",
       "        <td>red</td>\n",
       "        <td>green</td>\n",
       "    </tr>\n",
       "    <tr>\n",
       "        <td>3</td>\n",
       "        <td>yellow</td>\n",
       "        <td>None</td>\n",
       "        <td>violet</td>\n",
       "    </tr>\n",
       "</table>"
      ],
      "text/plain": [
       "[(1, 'red', 'yellow', 'blue'),\n",
       " (2, None, 'red', 'green'),\n",
       " (3, 'yellow', None, 'violet')]"
      ]
     },
     "execution_count": 47,
     "metadata": {},
     "output_type": "execute_result"
    }
   ],
   "source": [
    "%sql create table practice(id int,c1 varchar(50),c2 varchar(50),c3 varchar(50));insert into practice values(1,'red','yellow','blue');insert into practice values(2,null,'red','green');insert into practice values(3,'yellow',null,'violet');\n",
    "\n",
    "%sql select * from practice;"
   ]
  },
  {
   "cell_type": "code",
   "execution_count": 50,
   "id": "a6c6352b",
   "metadata": {},
   "outputs": [
    {
     "name": "stdout",
     "output_type": "stream",
     "text": [
      " * sqlite://\n",
      "Done.\n"
     ]
    },
    {
     "data": {
      "text/html": [
       "<table>\n",
       "    <tr>\n",
       "        <th>id</th>\n",
       "        <th>c1</th>\n",
       "        <th>c2</th>\n",
       "        <th>c3</th>\n",
       "    </tr>\n",
       "    <tr>\n",
       "        <td>1</td>\n",
       "        <td>red</td>\n",
       "        <td>yellow</td>\n",
       "        <td>blue</td>\n",
       "    </tr>\n",
       "    <tr>\n",
       "        <td>3</td>\n",
       "        <td>yellow</td>\n",
       "        <td>None</td>\n",
       "        <td>violet</td>\n",
       "    </tr>\n",
       "</table>"
      ],
      "text/plain": [
       "[(1, 'red', 'yellow', 'blue'), (3, 'yellow', None, 'violet')]"
      ]
     },
     "execution_count": 50,
     "metadata": {},
     "output_type": "execute_result"
    }
   ],
   "source": [
    "# solution\n",
    "%sql select * from practice where c1 = 'yellow' or c2 = 'yellow' or c3 = 'yellow';"
   ]
  },
  {
   "cell_type": "code",
   "execution_count": 51,
   "id": "81ed3226",
   "metadata": {},
   "outputs": [
    {
     "name": "stdout",
     "output_type": "stream",
     "text": [
      " * sqlite://\n",
      "Done.\n"
     ]
    },
    {
     "data": {
      "text/plain": [
       "[]"
      ]
     },
     "execution_count": 51,
     "metadata": {},
     "output_type": "execute_result"
    }
   ],
   "source": [
    "%sql drop table practice;"
   ]
  },
  {
   "cell_type": "markdown",
   "id": "80698b0d",
   "metadata": {},
   "source": [
    "# Q6.Write a SQL query to fetch the records where salary is NULL and is from SALES DEPT.\n",
    "***create table dept (dept_id number,deptname varchar2(10),empname varchar2(10),salary number);<br>\n",
    "insert into dept values(1,'HR','A',100);<br>\n",
    "insert into dept values(1,'HR','B',200);<br>\n",
    "insert into dept values(1,'HR','C',300);<br>\n",
    "insert into dept values(1,'HR','X',NULL);<br>\n",
    "insert into dept values(2,'SALES','D',400);<br>\n",
    "insert into dept values(2,'SALES','E',500);<br>\n",
    "insert into dept values(2,'SALES','F',600);<br>\n",
    "insert into dept values(2,'SALES','Y',NULL);<br>\n",
    "insert into dept values(3,'TECH','G',700);<br>\n",
    "insert into dept values(3,'TECH','H',800);<br>\n",
    "insert into dept values(3,'TECH','I',900);<br>\n",
    "insert into dept values(3,'TECH','Z',NULL);***<br>\n",
    "<br>\n",
    "O/P:<br>\n",
    "id  c1     c2       c3<br>\n",
    "1  red     yellow   blue<br>\n",
    "3  yellow  null     violet<br>"
   ]
  },
  {
   "cell_type": "code",
   "execution_count": 52,
   "id": "83607628",
   "metadata": {},
   "outputs": [
    {
     "name": "stdout",
     "output_type": "stream",
     "text": [
      " * sqlite://\n",
      "Done.\n",
      "1 rows affected.\n",
      "1 rows affected.\n",
      "1 rows affected.\n",
      "1 rows affected.\n",
      "1 rows affected.\n",
      "1 rows affected.\n",
      "1 rows affected.\n",
      "1 rows affected.\n",
      "1 rows affected.\n",
      "1 rows affected.\n",
      "1 rows affected.\n",
      "1 rows affected.\n",
      " * sqlite://\n",
      "Done.\n"
     ]
    },
    {
     "data": {
      "text/html": [
       "<table>\n",
       "    <tr>\n",
       "        <th>dept_id</th>\n",
       "        <th>deptname</th>\n",
       "        <th>empname</th>\n",
       "        <th>salary</th>\n",
       "    </tr>\n",
       "    <tr>\n",
       "        <td>1</td>\n",
       "        <td>HR</td>\n",
       "        <td>A</td>\n",
       "        <td>100</td>\n",
       "    </tr>\n",
       "    <tr>\n",
       "        <td>1</td>\n",
       "        <td>HR</td>\n",
       "        <td>B</td>\n",
       "        <td>200</td>\n",
       "    </tr>\n",
       "    <tr>\n",
       "        <td>1</td>\n",
       "        <td>HR</td>\n",
       "        <td>C</td>\n",
       "        <td>300</td>\n",
       "    </tr>\n",
       "    <tr>\n",
       "        <td>1</td>\n",
       "        <td>HR</td>\n",
       "        <td>X</td>\n",
       "        <td>None</td>\n",
       "    </tr>\n",
       "    <tr>\n",
       "        <td>2</td>\n",
       "        <td>SALES</td>\n",
       "        <td>D</td>\n",
       "        <td>400</td>\n",
       "    </tr>\n",
       "    <tr>\n",
       "        <td>2</td>\n",
       "        <td>SALES</td>\n",
       "        <td>E</td>\n",
       "        <td>500</td>\n",
       "    </tr>\n",
       "    <tr>\n",
       "        <td>2</td>\n",
       "        <td>SALES</td>\n",
       "        <td>F</td>\n",
       "        <td>600</td>\n",
       "    </tr>\n",
       "    <tr>\n",
       "        <td>2</td>\n",
       "        <td>SALES</td>\n",
       "        <td>Y</td>\n",
       "        <td>None</td>\n",
       "    </tr>\n",
       "    <tr>\n",
       "        <td>3</td>\n",
       "        <td>TECH</td>\n",
       "        <td>G</td>\n",
       "        <td>700</td>\n",
       "    </tr>\n",
       "    <tr>\n",
       "        <td>3</td>\n",
       "        <td>TECH</td>\n",
       "        <td>H</td>\n",
       "        <td>800</td>\n",
       "    </tr>\n",
       "    <tr>\n",
       "        <td>3</td>\n",
       "        <td>TECH</td>\n",
       "        <td>I</td>\n",
       "        <td>900</td>\n",
       "    </tr>\n",
       "    <tr>\n",
       "        <td>3</td>\n",
       "        <td>TECH</td>\n",
       "        <td>Z</td>\n",
       "        <td>None</td>\n",
       "    </tr>\n",
       "</table>"
      ],
      "text/plain": [
       "[(1, 'HR', 'A', 100),\n",
       " (1, 'HR', 'B', 200),\n",
       " (1, 'HR', 'C', 300),\n",
       " (1, 'HR', 'X', None),\n",
       " (2, 'SALES', 'D', 400),\n",
       " (2, 'SALES', 'E', 500),\n",
       " (2, 'SALES', 'F', 600),\n",
       " (2, 'SALES', 'Y', None),\n",
       " (3, 'TECH', 'G', 700),\n",
       " (3, 'TECH', 'H', 800),\n",
       " (3, 'TECH', 'I', 900),\n",
       " (3, 'TECH', 'Z', None)]"
      ]
     },
     "execution_count": 52,
     "metadata": {},
     "output_type": "execute_result"
    }
   ],
   "source": [
    "%sql create table dept (dept_id number,deptname varchar2(10),empname varchar2(10),salary number);insert into dept values(1,'HR','A',100);insert into dept values(1,'HR','B',200);insert into dept values(1,'HR','C',300);insert into dept values(1,'HR','X',NULL);insert into dept values(2,'SALES','D',400);insert into dept values(2,'SALES','E',500);insert into dept values(2,'SALES','F',600);insert into dept values(2,'SALES','Y',NULL);insert into dept values(3,'TECH','G',700);insert into dept values(3,'TECH','H',800);insert into dept values(3,'TECH','I',900);insert into dept values(3,'TECH','Z',NULL);\n",
    "%sql select * from dept;"
   ]
  },
  {
   "cell_type": "code",
   "execution_count": 54,
   "id": "c0f626ba",
   "metadata": {},
   "outputs": [
    {
     "name": "stdout",
     "output_type": "stream",
     "text": [
      " * sqlite://\n",
      "Done.\n"
     ]
    },
    {
     "data": {
      "text/html": [
       "<table>\n",
       "    <tr>\n",
       "        <th>dept_id</th>\n",
       "        <th>deptname</th>\n",
       "        <th>empname</th>\n",
       "        <th>salary</th>\n",
       "    </tr>\n",
       "    <tr>\n",
       "        <td>2</td>\n",
       "        <td>SALES</td>\n",
       "        <td>Y</td>\n",
       "        <td>None</td>\n",
       "    </tr>\n",
       "</table>"
      ],
      "text/plain": [
       "[(2, 'SALES', 'Y', None)]"
      ]
     },
     "execution_count": 54,
     "metadata": {},
     "output_type": "execute_result"
    }
   ],
   "source": [
    "# solution\n",
    "%sql select * from dept where deptname = 'SALES' and salary is null;"
   ]
  },
  {
   "cell_type": "code",
   "execution_count": 57,
   "id": "0fa01445",
   "metadata": {},
   "outputs": [
    {
     "name": "stdout",
     "output_type": "stream",
     "text": [
      " * sqlite://\n",
      "Done.\n"
     ]
    },
    {
     "data": {
      "text/plain": [
       "[]"
      ]
     },
     "execution_count": 57,
     "metadata": {},
     "output_type": "execute_result"
    }
   ],
   "source": [
    "%sql drop table dept;"
   ]
  },
  {
   "cell_type": "markdown",
   "id": "fabab180",
   "metadata": {},
   "source": [
    "# Q7.Write a SQL query to fetch the records\n",
    "<br>\n",
    "\n",
    "***a)Employees who are working in HR dept<br>\n",
    "b)Employees who are working in HR or SALES dept<br>\n",
    "c)Employees who are working in Tech Dept and earning salary 900<br>***\n",
    "\n",
    "***create table dept (dept_id int,deptname varchar(10),empname varchar(10),salary int);<br>\n",
    "insert into dept values(1,'HR','A',100);<br>\n",
    "insert into dept values(1,'HR','B',200);<br>\n",
    "insert into dept values(1,'HR','C',300);<br>\n",
    "insert into dept values(1,'HR','X',NULL);<br>\n",
    "insert into dept values(2,'SALES','D',400);<br>\n",
    "insert into dept values(2,'SALES','E',500);<br>\n",
    "insert into dept values(2,'SALES','F',600);<br>\n",
    "insert into dept values(2,'SALES','Y',NULL);<br>\n",
    "insert into dept values(3,'TECH','G',700);<br>\n",
    "insert into dept values(3,'TECH','H',800);<br>\n",
    "insert into dept values(3,'TECH','I',900);<br>\n",
    "insert into dept values(3,'TECH','Z',NULL);***"
   ]
  },
  {
   "cell_type": "code",
   "execution_count": 59,
   "id": "ed9e3cef",
   "metadata": {},
   "outputs": [
    {
     "name": "stdout",
     "output_type": "stream",
     "text": [
      " * sqlite://\n",
      "Done.\n"
     ]
    },
    {
     "data": {
      "text/html": [
       "<table>\n",
       "    <tr>\n",
       "        <th>dept_id</th>\n",
       "        <th>deptname</th>\n",
       "        <th>empname</th>\n",
       "        <th>salary</th>\n",
       "    </tr>\n",
       "    <tr>\n",
       "        <td>1</td>\n",
       "        <td>HR</td>\n",
       "        <td>A</td>\n",
       "        <td>100</td>\n",
       "    </tr>\n",
       "    <tr>\n",
       "        <td>1</td>\n",
       "        <td>HR</td>\n",
       "        <td>B</td>\n",
       "        <td>200</td>\n",
       "    </tr>\n",
       "    <tr>\n",
       "        <td>1</td>\n",
       "        <td>HR</td>\n",
       "        <td>C</td>\n",
       "        <td>300</td>\n",
       "    </tr>\n",
       "    <tr>\n",
       "        <td>1</td>\n",
       "        <td>HR</td>\n",
       "        <td>X</td>\n",
       "        <td>None</td>\n",
       "    </tr>\n",
       "    <tr>\n",
       "        <td>2</td>\n",
       "        <td>SALES</td>\n",
       "        <td>D</td>\n",
       "        <td>400</td>\n",
       "    </tr>\n",
       "    <tr>\n",
       "        <td>2</td>\n",
       "        <td>SALES</td>\n",
       "        <td>E</td>\n",
       "        <td>500</td>\n",
       "    </tr>\n",
       "    <tr>\n",
       "        <td>2</td>\n",
       "        <td>SALES</td>\n",
       "        <td>F</td>\n",
       "        <td>600</td>\n",
       "    </tr>\n",
       "    <tr>\n",
       "        <td>2</td>\n",
       "        <td>SALES</td>\n",
       "        <td>Y</td>\n",
       "        <td>None</td>\n",
       "    </tr>\n",
       "    <tr>\n",
       "        <td>3</td>\n",
       "        <td>TECH</td>\n",
       "        <td>G</td>\n",
       "        <td>700</td>\n",
       "    </tr>\n",
       "    <tr>\n",
       "        <td>3</td>\n",
       "        <td>TECH</td>\n",
       "        <td>H</td>\n",
       "        <td>800</td>\n",
       "    </tr>\n",
       "    <tr>\n",
       "        <td>3</td>\n",
       "        <td>TECH</td>\n",
       "        <td>I</td>\n",
       "        <td>900</td>\n",
       "    </tr>\n",
       "    <tr>\n",
       "        <td>3</td>\n",
       "        <td>TECH</td>\n",
       "        <td>Z</td>\n",
       "        <td>None</td>\n",
       "    </tr>\n",
       "</table>"
      ],
      "text/plain": [
       "[(1, 'HR', 'A', 100),\n",
       " (1, 'HR', 'B', 200),\n",
       " (1, 'HR', 'C', 300),\n",
       " (1, 'HR', 'X', None),\n",
       " (2, 'SALES', 'D', 400),\n",
       " (2, 'SALES', 'E', 500),\n",
       " (2, 'SALES', 'F', 600),\n",
       " (2, 'SALES', 'Y', None),\n",
       " (3, 'TECH', 'G', 700),\n",
       " (3, 'TECH', 'H', 800),\n",
       " (3, 'TECH', 'I', 900),\n",
       " (3, 'TECH', 'Z', None)]"
      ]
     },
     "execution_count": 59,
     "metadata": {},
     "output_type": "execute_result"
    }
   ],
   "source": [
    "%sql create table dept (dept_id int,deptname varchar(10),empname varchar(10),salary int);insert into dept values(1,'HR','A',100);insert into dept values(1,'HR','B',200);insert into dept values(1,'HR','C',300);insert into dept values(1,'HR','X',NULL);insert into dept values(2,'SALES','D',400);insert into dept values(2,'SALES','E',500);insert into dept values(2,'SALES','F',600);insert into dept values(2,'SALES','Y',NULL);insert into dept values(3,'TECH','G',700);insert into dept values(3,'TECH','H',800);insert into dept values(3,'TECH','I',900);insert into dept values(3,'TECH','Z',NULL);\n",
    "%sql select * from dept;"
   ]
  },
  {
   "cell_type": "code",
   "execution_count": 60,
   "id": "bb8b6f06",
   "metadata": {},
   "outputs": [
    {
     "name": "stdout",
     "output_type": "stream",
     "text": [
      " * sqlite://\n",
      "Done.\n"
     ]
    },
    {
     "data": {
      "text/html": [
       "<table>\n",
       "    <tr>\n",
       "        <th>dept_id</th>\n",
       "        <th>deptname</th>\n",
       "        <th>empname</th>\n",
       "        <th>salary</th>\n",
       "    </tr>\n",
       "    <tr>\n",
       "        <td>1</td>\n",
       "        <td>HR</td>\n",
       "        <td>A</td>\n",
       "        <td>100</td>\n",
       "    </tr>\n",
       "    <tr>\n",
       "        <td>1</td>\n",
       "        <td>HR</td>\n",
       "        <td>B</td>\n",
       "        <td>200</td>\n",
       "    </tr>\n",
       "    <tr>\n",
       "        <td>1</td>\n",
       "        <td>HR</td>\n",
       "        <td>C</td>\n",
       "        <td>300</td>\n",
       "    </tr>\n",
       "    <tr>\n",
       "        <td>1</td>\n",
       "        <td>HR</td>\n",
       "        <td>X</td>\n",
       "        <td>None</td>\n",
       "    </tr>\n",
       "</table>"
      ],
      "text/plain": [
       "[(1, 'HR', 'A', 100),\n",
       " (1, 'HR', 'B', 200),\n",
       " (1, 'HR', 'C', 300),\n",
       " (1, 'HR', 'X', None)]"
      ]
     },
     "execution_count": 60,
     "metadata": {},
     "output_type": "execute_result"
    }
   ],
   "source": [
    "# solution\n",
    "# (a)\n",
    "%sql select * from dept where deptname = 'HR';"
   ]
  },
  {
   "cell_type": "code",
   "execution_count": 61,
   "id": "8f5a098d",
   "metadata": {},
   "outputs": [
    {
     "name": "stdout",
     "output_type": "stream",
     "text": [
      " * sqlite://\n",
      "Done.\n"
     ]
    },
    {
     "data": {
      "text/html": [
       "<table>\n",
       "    <tr>\n",
       "        <th>dept_id</th>\n",
       "        <th>deptname</th>\n",
       "        <th>empname</th>\n",
       "        <th>salary</th>\n",
       "    </tr>\n",
       "    <tr>\n",
       "        <td>1</td>\n",
       "        <td>HR</td>\n",
       "        <td>A</td>\n",
       "        <td>100</td>\n",
       "    </tr>\n",
       "    <tr>\n",
       "        <td>1</td>\n",
       "        <td>HR</td>\n",
       "        <td>B</td>\n",
       "        <td>200</td>\n",
       "    </tr>\n",
       "    <tr>\n",
       "        <td>1</td>\n",
       "        <td>HR</td>\n",
       "        <td>C</td>\n",
       "        <td>300</td>\n",
       "    </tr>\n",
       "    <tr>\n",
       "        <td>1</td>\n",
       "        <td>HR</td>\n",
       "        <td>X</td>\n",
       "        <td>None</td>\n",
       "    </tr>\n",
       "    <tr>\n",
       "        <td>2</td>\n",
       "        <td>SALES</td>\n",
       "        <td>D</td>\n",
       "        <td>400</td>\n",
       "    </tr>\n",
       "    <tr>\n",
       "        <td>2</td>\n",
       "        <td>SALES</td>\n",
       "        <td>E</td>\n",
       "        <td>500</td>\n",
       "    </tr>\n",
       "    <tr>\n",
       "        <td>2</td>\n",
       "        <td>SALES</td>\n",
       "        <td>F</td>\n",
       "        <td>600</td>\n",
       "    </tr>\n",
       "    <tr>\n",
       "        <td>2</td>\n",
       "        <td>SALES</td>\n",
       "        <td>Y</td>\n",
       "        <td>None</td>\n",
       "    </tr>\n",
       "</table>"
      ],
      "text/plain": [
       "[(1, 'HR', 'A', 100),\n",
       " (1, 'HR', 'B', 200),\n",
       " (1, 'HR', 'C', 300),\n",
       " (1, 'HR', 'X', None),\n",
       " (2, 'SALES', 'D', 400),\n",
       " (2, 'SALES', 'E', 500),\n",
       " (2, 'SALES', 'F', 600),\n",
       " (2, 'SALES', 'Y', None)]"
      ]
     },
     "execution_count": 61,
     "metadata": {},
     "output_type": "execute_result"
    }
   ],
   "source": [
    "# (b)\n",
    "%sql select * from dept where deptname in ('HR','SALES');"
   ]
  },
  {
   "cell_type": "code",
   "execution_count": 62,
   "id": "5d80da9e",
   "metadata": {},
   "outputs": [
    {
     "name": "stdout",
     "output_type": "stream",
     "text": [
      " * sqlite://\n",
      "Done.\n"
     ]
    },
    {
     "data": {
      "text/html": [
       "<table>\n",
       "    <tr>\n",
       "        <th>dept_id</th>\n",
       "        <th>deptname</th>\n",
       "        <th>empname</th>\n",
       "        <th>salary</th>\n",
       "    </tr>\n",
       "    <tr>\n",
       "        <td>3</td>\n",
       "        <td>TECH</td>\n",
       "        <td>I</td>\n",
       "        <td>900</td>\n",
       "    </tr>\n",
       "</table>"
      ],
      "text/plain": [
       "[(3, 'TECH', 'I', 900)]"
      ]
     },
     "execution_count": 62,
     "metadata": {},
     "output_type": "execute_result"
    }
   ],
   "source": [
    "# (c)\n",
    "%sql select * from dept where deptname = 'TECH' and salary ='900';"
   ]
  },
  {
   "cell_type": "code",
   "execution_count": 64,
   "id": "4d69e026",
   "metadata": {},
   "outputs": [
    {
     "name": "stdout",
     "output_type": "stream",
     "text": [
      " * sqlite://\n",
      "Done.\n"
     ]
    },
    {
     "data": {
      "text/plain": [
       "[]"
      ]
     },
     "execution_count": 64,
     "metadata": {},
     "output_type": "execute_result"
    }
   ],
   "source": [
    "%sql drop table dept;"
   ]
  },
  {
   "cell_type": "markdown",
   "id": "e37fb4c7",
   "metadata": {},
   "source": [
    "# Q8. Write a SQL query to fetch the employee details whose name is 'A' OR  empid is 2.\n",
    "\n",
    "***Create table employee(empid number,empname varchar2(10),Mgrid number);<br>\n",
    "insert into employee values(1,'A',4);<br>\n",
    "insert into employee values(2,'B',5);<br>\n",
    "insert into employee values(3,'C',6);<br>\n",
    "insert into employee values(4,'D',5);<br>\n",
    "insert into employee values(5,'E','');<br>\n",
    "insert into employee values(6,'F','');***"
   ]
  },
  {
   "cell_type": "code",
   "execution_count": 66,
   "id": "3fd8d39b",
   "metadata": {},
   "outputs": [
    {
     "name": "stdout",
     "output_type": "stream",
     "text": [
      " * sqlite://\n",
      "Done.\n",
      "1 rows affected.\n",
      "1 rows affected.\n",
      "1 rows affected.\n",
      "1 rows affected.\n",
      "1 rows affected.\n",
      "1 rows affected.\n",
      " * sqlite://\n",
      "Done.\n"
     ]
    },
    {
     "data": {
      "text/html": [
       "<table>\n",
       "    <tr>\n",
       "        <th>empid</th>\n",
       "        <th>empname</th>\n",
       "        <th>Mgrid</th>\n",
       "    </tr>\n",
       "    <tr>\n",
       "        <td>1</td>\n",
       "        <td>A</td>\n",
       "        <td>4</td>\n",
       "    </tr>\n",
       "    <tr>\n",
       "        <td>2</td>\n",
       "        <td>B</td>\n",
       "        <td>5</td>\n",
       "    </tr>\n",
       "    <tr>\n",
       "        <td>3</td>\n",
       "        <td>C</td>\n",
       "        <td>6</td>\n",
       "    </tr>\n",
       "    <tr>\n",
       "        <td>4</td>\n",
       "        <td>D</td>\n",
       "        <td>5</td>\n",
       "    </tr>\n",
       "    <tr>\n",
       "        <td>5</td>\n",
       "        <td>E</td>\n",
       "        <td></td>\n",
       "    </tr>\n",
       "    <tr>\n",
       "        <td>6</td>\n",
       "        <td>F</td>\n",
       "        <td></td>\n",
       "    </tr>\n",
       "</table>"
      ],
      "text/plain": [
       "[(1, 'A', 4),\n",
       " (2, 'B', 5),\n",
       " (3, 'C', 6),\n",
       " (4, 'D', 5),\n",
       " (5, 'E', ''),\n",
       " (6, 'F', '')]"
      ]
     },
     "execution_count": 66,
     "metadata": {},
     "output_type": "execute_result"
    }
   ],
   "source": [
    "%sql Create table employee(empid number,empname varchar2(10),Mgrid number);insert into employee values(1,'A',4);insert into employee values(2,'B',5);insert into employee values(3,'C',6);insert into employee values(4,'D',5);insert into employee values(5,'E','');insert into employee values(6,'F','');\n",
    "%sql select * from employee;"
   ]
  },
  {
   "cell_type": "code",
   "execution_count": 68,
   "id": "46b043a5",
   "metadata": {},
   "outputs": [
    {
     "name": "stdout",
     "output_type": "stream",
     "text": [
      " * sqlite://\n",
      "Done.\n"
     ]
    },
    {
     "data": {
      "text/html": [
       "<table>\n",
       "    <tr>\n",
       "        <th>empid</th>\n",
       "        <th>empname</th>\n",
       "        <th>Mgrid</th>\n",
       "    </tr>\n",
       "    <tr>\n",
       "        <td>1</td>\n",
       "        <td>A</td>\n",
       "        <td>4</td>\n",
       "    </tr>\n",
       "    <tr>\n",
       "        <td>2</td>\n",
       "        <td>B</td>\n",
       "        <td>5</td>\n",
       "    </tr>\n",
       "</table>"
      ],
      "text/plain": [
       "[(1, 'A', 4), (2, 'B', 5)]"
      ]
     },
     "execution_count": 68,
     "metadata": {},
     "output_type": "execute_result"
    }
   ],
   "source": [
    "# solution\n",
    "%sql select * from employee where empname = 'A' or empid = '2';"
   ]
  },
  {
   "cell_type": "code",
   "execution_count": 69,
   "id": "3c68a09e",
   "metadata": {},
   "outputs": [
    {
     "name": "stdout",
     "output_type": "stream",
     "text": [
      " * sqlite://\n",
      "Done.\n"
     ]
    },
    {
     "data": {
      "text/plain": [
       "[]"
      ]
     },
     "execution_count": 69,
     "metadata": {},
     "output_type": "execute_result"
    }
   ],
   "source": [
    "%sql drop table employee;"
   ]
  },
  {
   "cell_type": "markdown",
   "id": "dbd0a8f9",
   "metadata": {},
   "source": [
    "# Q9. Write an SQL query to fetch those employee names whose salary is 600 and is either from 'HR' or 'TECH' dept.\n",
    "\n",
    "***create table emp(id number,name varchar2(10),dept varchar2(10),salary number);<br>\n",
    "insert into emp values(1,'A','HR',100);<br>\n",
    "insert into emp values(2,'B','HR',600);<br>\n",
    "insert into emp values(3,'C','HR',600);<br>\n",
    "insert into emp values(4,'D','HR',500);<br>\n",
    "insert into emp values(5,'H','TECH',300);<br>\n",
    "insert into emp values(6,'E','TECH',200);<br>\n",
    "insert into emp values(7,'F','TECH',600);<br>\n",
    "insert into emp values(8,'G','TECH',600);<br>\n",
    "insert into emp values(9,'H','SALES',300);<br>\n",
    "insert into emp values(10,'I','SALES',400);<br>\n",
    "insert into emp values(11,'J','SALES',600);<br>\n",
    "insert into emp values(12,'K','SALES',600);***"
   ]
  },
  {
   "cell_type": "code",
   "execution_count": 70,
   "id": "45e3c36e",
   "metadata": {},
   "outputs": [
    {
     "name": "stdout",
     "output_type": "stream",
     "text": [
      " * sqlite://\n",
      "Done.\n",
      "1 rows affected.\n",
      "1 rows affected.\n",
      "1 rows affected.\n",
      "1 rows affected.\n",
      "1 rows affected.\n",
      "1 rows affected.\n",
      "1 rows affected.\n",
      "1 rows affected.\n",
      "1 rows affected.\n",
      "1 rows affected.\n",
      "1 rows affected.\n",
      "1 rows affected.\n",
      " * sqlite://\n",
      "Done.\n"
     ]
    },
    {
     "data": {
      "text/html": [
       "<table>\n",
       "    <tr>\n",
       "        <th>id</th>\n",
       "        <th>name</th>\n",
       "        <th>dept</th>\n",
       "        <th>salary</th>\n",
       "    </tr>\n",
       "    <tr>\n",
       "        <td>1</td>\n",
       "        <td>A</td>\n",
       "        <td>HR</td>\n",
       "        <td>100</td>\n",
       "    </tr>\n",
       "    <tr>\n",
       "        <td>2</td>\n",
       "        <td>B</td>\n",
       "        <td>HR</td>\n",
       "        <td>600</td>\n",
       "    </tr>\n",
       "    <tr>\n",
       "        <td>3</td>\n",
       "        <td>C</td>\n",
       "        <td>HR</td>\n",
       "        <td>600</td>\n",
       "    </tr>\n",
       "    <tr>\n",
       "        <td>4</td>\n",
       "        <td>D</td>\n",
       "        <td>HR</td>\n",
       "        <td>500</td>\n",
       "    </tr>\n",
       "    <tr>\n",
       "        <td>5</td>\n",
       "        <td>H</td>\n",
       "        <td>TECH</td>\n",
       "        <td>300</td>\n",
       "    </tr>\n",
       "    <tr>\n",
       "        <td>6</td>\n",
       "        <td>E</td>\n",
       "        <td>TECH</td>\n",
       "        <td>200</td>\n",
       "    </tr>\n",
       "    <tr>\n",
       "        <td>7</td>\n",
       "        <td>F</td>\n",
       "        <td>TECH</td>\n",
       "        <td>600</td>\n",
       "    </tr>\n",
       "    <tr>\n",
       "        <td>8</td>\n",
       "        <td>G</td>\n",
       "        <td>TECH</td>\n",
       "        <td>600</td>\n",
       "    </tr>\n",
       "    <tr>\n",
       "        <td>9</td>\n",
       "        <td>H</td>\n",
       "        <td>SALES</td>\n",
       "        <td>300</td>\n",
       "    </tr>\n",
       "    <tr>\n",
       "        <td>10</td>\n",
       "        <td>I</td>\n",
       "        <td>SALES</td>\n",
       "        <td>400</td>\n",
       "    </tr>\n",
       "    <tr>\n",
       "        <td>11</td>\n",
       "        <td>J</td>\n",
       "        <td>SALES</td>\n",
       "        <td>600</td>\n",
       "    </tr>\n",
       "    <tr>\n",
       "        <td>12</td>\n",
       "        <td>K</td>\n",
       "        <td>SALES</td>\n",
       "        <td>600</td>\n",
       "    </tr>\n",
       "</table>"
      ],
      "text/plain": [
       "[(1, 'A', 'HR', 100),\n",
       " (2, 'B', 'HR', 600),\n",
       " (3, 'C', 'HR', 600),\n",
       " (4, 'D', 'HR', 500),\n",
       " (5, 'H', 'TECH', 300),\n",
       " (6, 'E', 'TECH', 200),\n",
       " (7, 'F', 'TECH', 600),\n",
       " (8, 'G', 'TECH', 600),\n",
       " (9, 'H', 'SALES', 300),\n",
       " (10, 'I', 'SALES', 400),\n",
       " (11, 'J', 'SALES', 600),\n",
       " (12, 'K', 'SALES', 600)]"
      ]
     },
     "execution_count": 70,
     "metadata": {},
     "output_type": "execute_result"
    }
   ],
   "source": [
    "%sql create table emp(id number,name varchar2(10),dept varchar2(10),salary number);insert into emp values(1,'A','HR',100);insert into emp values(2,'B','HR',600);insert into emp values(3,'C','HR',600);insert into emp values(4,'D','HR',500);insert into emp values(5,'H','TECH',300);insert into emp values(6,'E','TECH',200);insert into emp values(7,'F','TECH',600);insert into emp values(8,'G','TECH',600);insert into emp values(9,'H','SALES',300);insert into emp values(10,'I','SALES',400);insert into emp values(11,'J','SALES',600);insert into emp values(12,'K','SALES',600);\n",
    "%sql select * from emp;"
   ]
  },
  {
   "cell_type": "code",
   "execution_count": 71,
   "id": "1f000817",
   "metadata": {},
   "outputs": [
    {
     "name": "stdout",
     "output_type": "stream",
     "text": [
      " * sqlite://\n",
      "Done.\n"
     ]
    },
    {
     "data": {
      "text/html": [
       "<table>\n",
       "    <tr>\n",
       "        <th>name</th>\n",
       "    </tr>\n",
       "    <tr>\n",
       "        <td>B</td>\n",
       "    </tr>\n",
       "    <tr>\n",
       "        <td>C</td>\n",
       "    </tr>\n",
       "    <tr>\n",
       "        <td>F</td>\n",
       "    </tr>\n",
       "    <tr>\n",
       "        <td>G</td>\n",
       "    </tr>\n",
       "</table>"
      ],
      "text/plain": [
       "[('B',), ('C',), ('F',), ('G',)]"
      ]
     },
     "execution_count": 71,
     "metadata": {},
     "output_type": "execute_result"
    }
   ],
   "source": [
    "# solution\n",
    "%sql select name from emp where salary = '600' and dept in ('HR','TECH');"
   ]
  },
  {
   "cell_type": "code",
   "execution_count": 72,
   "id": "2ac3f0a7",
   "metadata": {},
   "outputs": [
    {
     "name": "stdout",
     "output_type": "stream",
     "text": [
      " * sqlite://\n",
      "Done.\n"
     ]
    },
    {
     "data": {
      "text/plain": [
       "[]"
      ]
     },
     "execution_count": 72,
     "metadata": {},
     "output_type": "execute_result"
    }
   ],
   "source": [
    "%sql drop table emp;"
   ]
  },
  {
   "cell_type": "markdown",
   "id": "c5b82688",
   "metadata": {},
   "source": [
    "# Q10. Write a SQL query to fetch the student details who have scored 90 in Che\n",
    "\n",
    "***Create table Student(Studid number,NAME varchar2(10),Subject varchar2(20),marks number);<br>\n",
    "insert into student values(1,'A','Phy','90');<br>\n",
    "insert into student values(1,'A','Che','95');<br>\n",
    "insert into student values(2,'B','Phy','80');<br>\n",
    "insert into student values(2,'B','Che','85');<br>\n",
    "insert into student values(3,'C','Phy','90');<br>\n",
    "insert into student values(4,'D','Phy','75');<br>\n",
    "insert into student values(4,'D','Che','90');***"
   ]
  },
  {
   "cell_type": "code",
   "execution_count": 73,
   "id": "826e9cf5",
   "metadata": {},
   "outputs": [
    {
     "name": "stdout",
     "output_type": "stream",
     "text": [
      " * sqlite://\n",
      "Done.\n",
      "1 rows affected.\n",
      "1 rows affected.\n",
      "1 rows affected.\n",
      "1 rows affected.\n",
      "1 rows affected.\n",
      "1 rows affected.\n",
      "1 rows affected.\n",
      " * sqlite://\n",
      "Done.\n"
     ]
    },
    {
     "data": {
      "text/html": [
       "<table>\n",
       "    <tr>\n",
       "        <th>Studid</th>\n",
       "        <th>NAME</th>\n",
       "        <th>Subject</th>\n",
       "        <th>marks</th>\n",
       "    </tr>\n",
       "    <tr>\n",
       "        <td>1</td>\n",
       "        <td>A</td>\n",
       "        <td>Phy</td>\n",
       "        <td>90</td>\n",
       "    </tr>\n",
       "    <tr>\n",
       "        <td>1</td>\n",
       "        <td>A</td>\n",
       "        <td>Che</td>\n",
       "        <td>95</td>\n",
       "    </tr>\n",
       "    <tr>\n",
       "        <td>2</td>\n",
       "        <td>B</td>\n",
       "        <td>Phy</td>\n",
       "        <td>80</td>\n",
       "    </tr>\n",
       "    <tr>\n",
       "        <td>2</td>\n",
       "        <td>B</td>\n",
       "        <td>Che</td>\n",
       "        <td>85</td>\n",
       "    </tr>\n",
       "    <tr>\n",
       "        <td>3</td>\n",
       "        <td>C</td>\n",
       "        <td>Phy</td>\n",
       "        <td>90</td>\n",
       "    </tr>\n",
       "    <tr>\n",
       "        <td>4</td>\n",
       "        <td>D</td>\n",
       "        <td>Phy</td>\n",
       "        <td>75</td>\n",
       "    </tr>\n",
       "    <tr>\n",
       "        <td>4</td>\n",
       "        <td>D</td>\n",
       "        <td>Che</td>\n",
       "        <td>90</td>\n",
       "    </tr>\n",
       "</table>"
      ],
      "text/plain": [
       "[(1, 'A', 'Phy', 90),\n",
       " (1, 'A', 'Che', 95),\n",
       " (2, 'B', 'Phy', 80),\n",
       " (2, 'B', 'Che', 85),\n",
       " (3, 'C', 'Phy', 90),\n",
       " (4, 'D', 'Phy', 75),\n",
       " (4, 'D', 'Che', 90)]"
      ]
     },
     "execution_count": 73,
     "metadata": {},
     "output_type": "execute_result"
    }
   ],
   "source": [
    "%sql Create table Student(Studid number,NAME varchar2(10),Subject varchar2(20),marks number);insert into student values(1,'A','Phy','90');insert into student values(1,'A','Che','95');insert into student values(2,'B','Phy','80');insert into student values(2,'B','Che','85');insert into student values(3,'C','Phy','90');insert into student values(4,'D','Phy','75');insert into student values(4,'D','Che','90');\n",
    "%sql select * from student;"
   ]
  },
  {
   "cell_type": "code",
   "execution_count": 74,
   "id": "c4f76e90",
   "metadata": {},
   "outputs": [
    {
     "name": "stdout",
     "output_type": "stream",
     "text": [
      " * sqlite://\n",
      "Done.\n"
     ]
    },
    {
     "data": {
      "text/html": [
       "<table>\n",
       "    <tr>\n",
       "        <th>Studid</th>\n",
       "        <th>NAME</th>\n",
       "        <th>Subject</th>\n",
       "        <th>marks</th>\n",
       "    </tr>\n",
       "    <tr>\n",
       "        <td>4</td>\n",
       "        <td>D</td>\n",
       "        <td>Che</td>\n",
       "        <td>90</td>\n",
       "    </tr>\n",
       "</table>"
      ],
      "text/plain": [
       "[(4, 'D', 'Che', 90)]"
      ]
     },
     "execution_count": 74,
     "metadata": {},
     "output_type": "execute_result"
    }
   ],
   "source": [
    "# solution\n",
    "%sql select * from student where marks = '90' and subject = 'Che';"
   ]
  },
  {
   "cell_type": "code",
   "execution_count": 89,
   "id": "82172f52",
   "metadata": {},
   "outputs": [
    {
     "name": "stdout",
     "output_type": "stream",
     "text": [
      " * sqlite://\n",
      "Done.\n"
     ]
    },
    {
     "data": {
      "text/plain": [
       "[]"
      ]
     },
     "execution_count": 89,
     "metadata": {},
     "output_type": "execute_result"
    }
   ],
   "source": [
    "%sql drop table student;"
   ]
  },
  {
   "cell_type": "markdown",
   "id": "eac87d7d",
   "metadata": {},
   "source": [
    "# Q11. Write a SQL query to fetch the employee details with empid 1 or 2 or 8.\n",
    "\n",
    "***Create table employee(empid number,empname varchar2(10),Mgrid number);<br>\n",
    "insert into employee values(1,'A',4);<br>\n",
    "insert into employee values(2,'B',5);<br>\n",
    "insert into employee values(3,'C',6);<br>\n",
    "insert into employee values(4,'D',5);<br>\n",
    "insert into employee values(5,'E',null);<br>\n",
    "insert into employee values(6,'F',null);***"
   ]
  },
  {
   "cell_type": "code",
   "execution_count": 75,
   "id": "cc2d249b",
   "metadata": {},
   "outputs": [
    {
     "name": "stdout",
     "output_type": "stream",
     "text": [
      " * sqlite://\n",
      "Done.\n",
      "1 rows affected.\n",
      "1 rows affected.\n",
      "1 rows affected.\n",
      "1 rows affected.\n",
      "1 rows affected.\n",
      "1 rows affected.\n",
      " * sqlite://\n",
      "Done.\n"
     ]
    },
    {
     "data": {
      "text/html": [
       "<table>\n",
       "    <tr>\n",
       "        <th>empid</th>\n",
       "        <th>empname</th>\n",
       "        <th>Mgrid</th>\n",
       "    </tr>\n",
       "    <tr>\n",
       "        <td>1</td>\n",
       "        <td>A</td>\n",
       "        <td>4</td>\n",
       "    </tr>\n",
       "    <tr>\n",
       "        <td>2</td>\n",
       "        <td>B</td>\n",
       "        <td>5</td>\n",
       "    </tr>\n",
       "    <tr>\n",
       "        <td>3</td>\n",
       "        <td>C</td>\n",
       "        <td>6</td>\n",
       "    </tr>\n",
       "    <tr>\n",
       "        <td>4</td>\n",
       "        <td>D</td>\n",
       "        <td>5</td>\n",
       "    </tr>\n",
       "    <tr>\n",
       "        <td>5</td>\n",
       "        <td>E</td>\n",
       "        <td>None</td>\n",
       "    </tr>\n",
       "    <tr>\n",
       "        <td>6</td>\n",
       "        <td>F</td>\n",
       "        <td>None</td>\n",
       "    </tr>\n",
       "</table>"
      ],
      "text/plain": [
       "[(1, 'A', 4),\n",
       " (2, 'B', 5),\n",
       " (3, 'C', 6),\n",
       " (4, 'D', 5),\n",
       " (5, 'E', None),\n",
       " (6, 'F', None)]"
      ]
     },
     "execution_count": 75,
     "metadata": {},
     "output_type": "execute_result"
    }
   ],
   "source": [
    "%sql Create table employee(empid number,empname varchar2(10),Mgrid number);insert into employee values(1,'A',4);insert into employee values(2,'B',5);insert into employee values(3,'C',6);insert into employee values(4,'D',5);insert into employee values(5,'E',null);insert into employee values(6,'F',null);\n",
    "%sql select * from employee;"
   ]
  },
  {
   "cell_type": "code",
   "execution_count": 76,
   "id": "c9775a0d",
   "metadata": {},
   "outputs": [
    {
     "name": "stdout",
     "output_type": "stream",
     "text": [
      " * sqlite://\n",
      "Done.\n"
     ]
    },
    {
     "data": {
      "text/html": [
       "<table>\n",
       "    <tr>\n",
       "        <th>empid</th>\n",
       "        <th>empname</th>\n",
       "        <th>Mgrid</th>\n",
       "    </tr>\n",
       "    <tr>\n",
       "        <td>1</td>\n",
       "        <td>A</td>\n",
       "        <td>4</td>\n",
       "    </tr>\n",
       "    <tr>\n",
       "        <td>2</td>\n",
       "        <td>B</td>\n",
       "        <td>5</td>\n",
       "    </tr>\n",
       "</table>"
      ],
      "text/plain": [
       "[(1, 'A', 4), (2, 'B', 5)]"
      ]
     },
     "execution_count": 76,
     "metadata": {},
     "output_type": "execute_result"
    }
   ],
   "source": [
    "# solution\n",
    "\n",
    "%sql select * from employee where empid in ('1','2','8');"
   ]
  },
  {
   "cell_type": "code",
   "execution_count": 77,
   "id": "761207e0",
   "metadata": {},
   "outputs": [
    {
     "name": "stdout",
     "output_type": "stream",
     "text": [
      " * sqlite://\n",
      "Done.\n"
     ]
    },
    {
     "data": {
      "text/plain": [
       "[]"
      ]
     },
     "execution_count": 77,
     "metadata": {},
     "output_type": "execute_result"
    }
   ],
   "source": [
    "%sql drop table employee;"
   ]
  },
  {
   "cell_type": "markdown",
   "id": "2739707a",
   "metadata": {},
   "source": [
    "# Q12. Write a SQL query to fetch the employee details whose name is 'A' OR  empid is 2.\n",
    "\n",
    "***Create table employee(empid number,empname varchar2(10),Mgrid number);<br>\n",
    "insert into employee values(1,'A',4);<br>\n",
    "insert into employee values(2,'B',5);<br>\n",
    "insert into employee values(3,'C',6);<br>\n",
    "insert into employee values(4,'D',5);<br>\n",
    "insert into employee values(5,'E','');<br>\n",
    "insert into employee values(6,'F','');***"
   ]
  },
  {
   "cell_type": "code",
   "execution_count": 78,
   "id": "c5daa656",
   "metadata": {},
   "outputs": [
    {
     "name": "stdout",
     "output_type": "stream",
     "text": [
      " * sqlite://\n",
      "Done.\n",
      "1 rows affected.\n",
      "1 rows affected.\n",
      "1 rows affected.\n",
      "1 rows affected.\n",
      "1 rows affected.\n",
      "1 rows affected.\n",
      " * sqlite://\n",
      "Done.\n"
     ]
    },
    {
     "data": {
      "text/html": [
       "<table>\n",
       "    <tr>\n",
       "        <th>empid</th>\n",
       "        <th>empname</th>\n",
       "        <th>Mgrid</th>\n",
       "    </tr>\n",
       "    <tr>\n",
       "        <td>1</td>\n",
       "        <td>A</td>\n",
       "        <td>4</td>\n",
       "    </tr>\n",
       "    <tr>\n",
       "        <td>2</td>\n",
       "        <td>B</td>\n",
       "        <td>5</td>\n",
       "    </tr>\n",
       "    <tr>\n",
       "        <td>3</td>\n",
       "        <td>C</td>\n",
       "        <td>6</td>\n",
       "    </tr>\n",
       "    <tr>\n",
       "        <td>4</td>\n",
       "        <td>D</td>\n",
       "        <td>5</td>\n",
       "    </tr>\n",
       "    <tr>\n",
       "        <td>5</td>\n",
       "        <td>E</td>\n",
       "        <td></td>\n",
       "    </tr>\n",
       "    <tr>\n",
       "        <td>6</td>\n",
       "        <td>F</td>\n",
       "        <td></td>\n",
       "    </tr>\n",
       "</table>"
      ],
      "text/plain": [
       "[(1, 'A', 4),\n",
       " (2, 'B', 5),\n",
       " (3, 'C', 6),\n",
       " (4, 'D', 5),\n",
       " (5, 'E', ''),\n",
       " (6, 'F', '')]"
      ]
     },
     "execution_count": 78,
     "metadata": {},
     "output_type": "execute_result"
    }
   ],
   "source": [
    "%sql Create table employee(empid number,empname varchar2(10),Mgrid number);insert into employee values(1,'A',4);insert into employee values(2,'B',5);insert into employee values(3,'C',6);insert into employee values(4,'D',5);insert into employee values(5,'E','');insert into employee values(6,'F','');\n",
    "%sql select * from employee;"
   ]
  },
  {
   "cell_type": "code",
   "execution_count": 79,
   "id": "725aa078",
   "metadata": {},
   "outputs": [
    {
     "name": "stdout",
     "output_type": "stream",
     "text": [
      " * sqlite://\n",
      "Done.\n"
     ]
    },
    {
     "data": {
      "text/html": [
       "<table>\n",
       "    <tr>\n",
       "        <th>empid</th>\n",
       "        <th>empname</th>\n",
       "        <th>Mgrid</th>\n",
       "    </tr>\n",
       "    <tr>\n",
       "        <td>1</td>\n",
       "        <td>A</td>\n",
       "        <td>4</td>\n",
       "    </tr>\n",
       "    <tr>\n",
       "        <td>2</td>\n",
       "        <td>B</td>\n",
       "        <td>5</td>\n",
       "    </tr>\n",
       "</table>"
      ],
      "text/plain": [
       "[(1, 'A', 4), (2, 'B', 5)]"
      ]
     },
     "execution_count": 79,
     "metadata": {},
     "output_type": "execute_result"
    }
   ],
   "source": [
    "# solution\n",
    "%sql select * from employee where empname = 'A' or  empid = '2';"
   ]
  },
  {
   "cell_type": "code",
   "execution_count": 81,
   "id": "cb7f83c2",
   "metadata": {},
   "outputs": [
    {
     "name": "stdout",
     "output_type": "stream",
     "text": [
      " * sqlite://\n",
      "Done.\n"
     ]
    },
    {
     "data": {
      "text/plain": [
       "[]"
      ]
     },
     "execution_count": 81,
     "metadata": {},
     "output_type": "execute_result"
    }
   ],
   "source": [
    "%sql drop table employee;"
   ]
  },
  {
   "cell_type": "markdown",
   "id": "918d076b",
   "metadata": {},
   "source": [
    "# Q13. Write a SQL query to fetch the employee details who are working under mgrid= 5;\n",
    "\n",
    "***Create table employee(empid number,empname varchar2(10),Mgrid number);<br>\n",
    "insert into employee values(1,'A',4);<br>\n",
    "insert into employee values(2,'B',5);<br>\n",
    "insert into employee values(3,'C',6);<br>\n",
    "insert into employee values(4,'D',5);<br>\n",
    "insert into employee values(5,'E','');<br>\n",
    "insert into employee values(6,'F','');***"
   ]
  },
  {
   "cell_type": "code",
   "execution_count": 82,
   "id": "ba30c942",
   "metadata": {},
   "outputs": [
    {
     "name": "stdout",
     "output_type": "stream",
     "text": [
      " * sqlite://\n",
      "Done.\n",
      "1 rows affected.\n",
      "1 rows affected.\n",
      "1 rows affected.\n",
      "1 rows affected.\n",
      "1 rows affected.\n",
      "1 rows affected.\n",
      " * sqlite://\n",
      "Done.\n"
     ]
    },
    {
     "data": {
      "text/html": [
       "<table>\n",
       "    <tr>\n",
       "        <th>empid</th>\n",
       "        <th>empname</th>\n",
       "        <th>Mgrid</th>\n",
       "    </tr>\n",
       "    <tr>\n",
       "        <td>1</td>\n",
       "        <td>A</td>\n",
       "        <td>4</td>\n",
       "    </tr>\n",
       "    <tr>\n",
       "        <td>2</td>\n",
       "        <td>B</td>\n",
       "        <td>5</td>\n",
       "    </tr>\n",
       "    <tr>\n",
       "        <td>3</td>\n",
       "        <td>C</td>\n",
       "        <td>6</td>\n",
       "    </tr>\n",
       "    <tr>\n",
       "        <td>4</td>\n",
       "        <td>D</td>\n",
       "        <td>5</td>\n",
       "    </tr>\n",
       "    <tr>\n",
       "        <td>5</td>\n",
       "        <td>E</td>\n",
       "        <td></td>\n",
       "    </tr>\n",
       "    <tr>\n",
       "        <td>6</td>\n",
       "        <td>F</td>\n",
       "        <td></td>\n",
       "    </tr>\n",
       "</table>"
      ],
      "text/plain": [
       "[(1, 'A', 4),\n",
       " (2, 'B', 5),\n",
       " (3, 'C', 6),\n",
       " (4, 'D', 5),\n",
       " (5, 'E', ''),\n",
       " (6, 'F', '')]"
      ]
     },
     "execution_count": 82,
     "metadata": {},
     "output_type": "execute_result"
    }
   ],
   "source": [
    "%sql Create table employee(empid number,empname varchar2(10),Mgrid number);insert into employee values(1,'A',4);insert into employee values(2,'B',5);insert into employee values(3,'C',6);insert into employee values(4,'D',5);insert into employee values(5,'E','');insert into employee values(6,'F','');\n",
    "%sql select * from employee;"
   ]
  },
  {
   "cell_type": "code",
   "execution_count": 84,
   "id": "9dd7342f",
   "metadata": {},
   "outputs": [
    {
     "name": "stdout",
     "output_type": "stream",
     "text": [
      " * sqlite://\n",
      "Done.\n"
     ]
    },
    {
     "data": {
      "text/html": [
       "<table>\n",
       "    <tr>\n",
       "        <th>empid</th>\n",
       "        <th>empname</th>\n",
       "        <th>Mgrid</th>\n",
       "    </tr>\n",
       "    <tr>\n",
       "        <td>2</td>\n",
       "        <td>B</td>\n",
       "        <td>5</td>\n",
       "    </tr>\n",
       "    <tr>\n",
       "        <td>4</td>\n",
       "        <td>D</td>\n",
       "        <td>5</td>\n",
       "    </tr>\n",
       "</table>"
      ],
      "text/plain": [
       "[(2, 'B', 5), (4, 'D', 5)]"
      ]
     },
     "execution_count": 84,
     "metadata": {},
     "output_type": "execute_result"
    }
   ],
   "source": [
    "# solution\n",
    "%sql select * from employee where mgrid = '5';"
   ]
  },
  {
   "cell_type": "code",
   "execution_count": 85,
   "id": "4f088e12",
   "metadata": {},
   "outputs": [
    {
     "name": "stdout",
     "output_type": "stream",
     "text": [
      " * sqlite://\n",
      "Done.\n"
     ]
    },
    {
     "data": {
      "text/plain": [
       "[]"
      ]
     },
     "execution_count": 85,
     "metadata": {},
     "output_type": "execute_result"
    }
   ],
   "source": [
    "%sql drop table employee;"
   ]
  },
  {
   "cell_type": "markdown",
   "id": "181aa171",
   "metadata": {},
   "source": [
    "# Q14.Write a Query to fetch the empname whose salary is Rs.100\n",
    "\n",
    "***Create table employee(empid number,empname varchar2(10),salary number);<br>\n",
    "insert into employee values(1,'A',100);<br>\n",
    "insert into employee values(2,'B',200);<br>\n",
    "insert into employee values(3,'C',100);<br>\n",
    "insert into employee values(4,'D',300);<br>\n",
    "insert into employee values(5,'E',100);<br>\n",
    "insert into employee values(6,'F',400);***"
   ]
  },
  {
   "cell_type": "code",
   "execution_count": 86,
   "id": "fcd64b66",
   "metadata": {},
   "outputs": [
    {
     "name": "stdout",
     "output_type": "stream",
     "text": [
      " * sqlite://\n",
      "Done.\n",
      "1 rows affected.\n",
      "1 rows affected.\n",
      "1 rows affected.\n",
      "1 rows affected.\n",
      "1 rows affected.\n",
      "1 rows affected.\n",
      " * sqlite://\n",
      "Done.\n"
     ]
    },
    {
     "data": {
      "text/html": [
       "<table>\n",
       "    <tr>\n",
       "        <th>empid</th>\n",
       "        <th>empname</th>\n",
       "        <th>salary</th>\n",
       "    </tr>\n",
       "    <tr>\n",
       "        <td>1</td>\n",
       "        <td>A</td>\n",
       "        <td>100</td>\n",
       "    </tr>\n",
       "    <tr>\n",
       "        <td>2</td>\n",
       "        <td>B</td>\n",
       "        <td>200</td>\n",
       "    </tr>\n",
       "    <tr>\n",
       "        <td>3</td>\n",
       "        <td>C</td>\n",
       "        <td>100</td>\n",
       "    </tr>\n",
       "    <tr>\n",
       "        <td>4</td>\n",
       "        <td>D</td>\n",
       "        <td>300</td>\n",
       "    </tr>\n",
       "    <tr>\n",
       "        <td>5</td>\n",
       "        <td>E</td>\n",
       "        <td>100</td>\n",
       "    </tr>\n",
       "    <tr>\n",
       "        <td>6</td>\n",
       "        <td>F</td>\n",
       "        <td>400</td>\n",
       "    </tr>\n",
       "</table>"
      ],
      "text/plain": [
       "[(1, 'A', 100),\n",
       " (2, 'B', 200),\n",
       " (3, 'C', 100),\n",
       " (4, 'D', 300),\n",
       " (5, 'E', 100),\n",
       " (6, 'F', 400)]"
      ]
     },
     "execution_count": 86,
     "metadata": {},
     "output_type": "execute_result"
    }
   ],
   "source": [
    "%sql Create table employee(empid number,empname varchar2(10),salary number);insert into employee values(1,'A',100);insert into employee values(2,'B',200);insert into employee values(3,'C',100);insert into employee values(4,'D',300);insert into employee values(5,'E',100);insert into employee values(6,'F',400);\n",
    "%sql select * from employee;"
   ]
  },
  {
   "cell_type": "code",
   "execution_count": 87,
   "id": "07e11240",
   "metadata": {},
   "outputs": [
    {
     "name": "stdout",
     "output_type": "stream",
     "text": [
      " * sqlite://\n",
      "Done.\n"
     ]
    },
    {
     "data": {
      "text/html": [
       "<table>\n",
       "    <tr>\n",
       "        <th>empname</th>\n",
       "    </tr>\n",
       "    <tr>\n",
       "        <td>A</td>\n",
       "    </tr>\n",
       "    <tr>\n",
       "        <td>C</td>\n",
       "    </tr>\n",
       "    <tr>\n",
       "        <td>E</td>\n",
       "    </tr>\n",
       "</table>"
      ],
      "text/plain": [
       "[('A',), ('C',), ('E',)]"
      ]
     },
     "execution_count": 87,
     "metadata": {},
     "output_type": "execute_result"
    }
   ],
   "source": [
    "# solution\n",
    "%sql select empname from employee where salary = '100';"
   ]
  },
  {
   "cell_type": "code",
   "execution_count": 88,
   "id": "1f5631cf",
   "metadata": {},
   "outputs": [
    {
     "name": "stdout",
     "output_type": "stream",
     "text": [
      " * sqlite://\n",
      "Done.\n"
     ]
    },
    {
     "data": {
      "text/plain": [
       "[]"
      ]
     },
     "execution_count": 88,
     "metadata": {},
     "output_type": "execute_result"
    }
   ],
   "source": [
    "%sql drop table employee;"
   ]
  },
  {
   "cell_type": "code",
   "execution_count": null,
   "id": "657484d9",
   "metadata": {},
   "outputs": [],
   "source": []
  }
 ],
 "metadata": {
  "kernelspec": {
   "display_name": "Python 3 (ipykernel)",
   "language": "python",
   "name": "python3"
  },
  "language_info": {
   "codemirror_mode": {
    "name": "ipython",
    "version": 3
   },
   "file_extension": ".py",
   "mimetype": "text/x-python",
   "name": "python",
   "nbconvert_exporter": "python",
   "pygments_lexer": "ipython3",
   "version": "3.9.12"
  }
 },
 "nbformat": 4,
 "nbformat_minor": 5
}
